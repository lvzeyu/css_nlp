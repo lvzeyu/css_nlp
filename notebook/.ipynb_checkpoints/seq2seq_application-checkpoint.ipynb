{
 "cells": [
  {
   "cell_type": "markdown",
   "metadata": {},
   "source": [
    "# Seq2seqの応用：機械翻訳"
   ]
  },
  {
   "cell_type": "markdown",
   "metadata": {},
   "source": []
  },
  {
   "cell_type": "code",
   "execution_count": 57,
   "metadata": {
    "vscode": {
     "languageId": "plaintext"
    }
   },
   "outputs": [],
   "source": [
    "import torch\n",
    "import torch.nn as nn\n",
    "import torch.optim as optim\n",
    "import torchtext\n",
    "import spacy\n",
    "import numpy as np\n",
    "import random\n",
    "import math\n",
    "import time\n",
    "import re\n",
    "import pandas as pd\n",
    "from sklearn.model_selection import train_test_split\n",
    "\n",
    "device = \"cuda\" if torch.cuda.is_available() else \"cpu\"\n",
    "path = './Data/raw'\n"
   ]
  },
  {
   "cell_type": "code",
   "execution_count": 22,
   "metadata": {
    "vscode": {
     "languageId": "plaintext"
    }
   },
   "outputs": [],
   "source": [
    "with open(path, 'r') as f:\n",
    "  raw_data = f.readlines()\n",
    "raw_list = [re.sub('\\n', '', s).split('\\t') for s in raw_data]"
   ]
  },
  {
   "cell_type": "code",
   "execution_count": 26,
   "metadata": {},
   "outputs": [
    {
     "data": {
      "text/html": [
       "<div>\n",
       "<style scoped>\n",
       "    .dataframe tbody tr th:only-of-type {\n",
       "        vertical-align: middle;\n",
       "    }\n",
       "\n",
       "    .dataframe tbody tr th {\n",
       "        vertical-align: top;\n",
       "    }\n",
       "\n",
       "    .dataframe thead th {\n",
       "        text-align: right;\n",
       "    }\n",
       "</style>\n",
       "<table border=\"1\" class=\"dataframe\">\n",
       "  <thead>\n",
       "    <tr style=\"text-align: right;\">\n",
       "      <th></th>\n",
       "      <th>English</th>\n",
       "      <th>Japanese</th>\n",
       "    </tr>\n",
       "  </thead>\n",
       "  <tbody>\n",
       "    <tr>\n",
       "      <th>0</th>\n",
       "      <td>you are back, aren't you, harold?</td>\n",
       "      <td>あなたは戻ったのね ハロルド?</td>\n",
       "    </tr>\n",
       "    <tr>\n",
       "      <th>1</th>\n",
       "      <td>my opponent is shark.</td>\n",
       "      <td>俺の相手は シャークだ。</td>\n",
       "    </tr>\n",
       "    <tr>\n",
       "      <th>2</th>\n",
       "      <td>this is one thing in exchange for another.</td>\n",
       "      <td>引き換えだ ある事とある物の</td>\n",
       "    </tr>\n",
       "    <tr>\n",
       "      <th>3</th>\n",
       "      <td>yeah, i'm fine.</td>\n",
       "      <td>もういいよ ごちそうさま ううん</td>\n",
       "    </tr>\n",
       "    <tr>\n",
       "      <th>4</th>\n",
       "      <td>don't come to the office anymore. don't call m...</td>\n",
       "      <td>もう会社には来ないでくれ 電話もするな</td>\n",
       "    </tr>\n",
       "  </tbody>\n",
       "</table>\n",
       "</div>"
      ],
      "text/plain": [
       "                                             English             Japanese\n",
       "0                  you are back, aren't you, harold?      あなたは戻ったのね ハロルド?\n",
       "1                              my opponent is shark.         俺の相手は シャークだ。\n",
       "2         this is one thing in exchange for another.       引き換えだ ある事とある物の\n",
       "3                                    yeah, i'm fine.     もういいよ ごちそうさま ううん\n",
       "4  don't come to the office anymore. don't call m...  もう会社には来ないでくれ 電話もするな"
      ]
     },
     "execution_count": 26,
     "metadata": {},
     "output_type": "execute_result"
    }
   ],
   "source": [
    "raw_df = pd.DataFrame(raw_list,\n",
    "                  columns=['English', 'Japanese'])\n",
    "raw_df.head()"
   ]
  },
  {
   "cell_type": "code",
   "execution_count": 27,
   "metadata": {},
   "outputs": [
    {
     "name": "stdout",
     "output_type": "stream",
     "text": [
      "Collecting ja-core-news-md==3.7.0\n",
      "  Downloading https://github.com/explosion/spacy-models/releases/download/ja_core_news_md-3.7.0/ja_core_news_md-3.7.0-py3-none-any.whl (42.1 MB)\n",
      "\u001b[2K     \u001b[38;2;114;156;31m━━━━━━━━━━━━━━━━━━━━━━━━━━━━━━━━━━━━━━━━\u001b[0m \u001b[32m42.1/42.1 MB\u001b[0m \u001b[31m59.8 MB/s\u001b[0m eta \u001b[36m0:00:00\u001b[0mm eta \u001b[36m0:00:01\u001b[0m[36m0:00:01\u001b[0m\n",
      "\u001b[?25hRequirement already satisfied: spacy<3.8.0,>=3.7.0 in /home/lyuzeyu/anaconda3/envs/dl/lib/python3.11/site-packages (from ja-core-news-md==3.7.0) (3.7.2)\n",
      "Collecting sudachipy!=0.6.1,>=0.5.2 (from ja-core-news-md==3.7.0)\n",
      "  Downloading SudachiPy-0.6.7-cp311-cp311-manylinux_2_17_x86_64.manylinux2014_x86_64.whl (2.2 MB)\n",
      "\u001b[2K     \u001b[38;2;114;156;31m━━━━━━━━━━━━━━━━━━━━━━━━━━━━━━━━━━━━━━━━\u001b[0m \u001b[32m2.2/2.2 MB\u001b[0m \u001b[31m34.8 MB/s\u001b[0m eta \u001b[36m0:00:00\u001b[0m MB/s\u001b[0m eta \u001b[36m0:00:01\u001b[0m\n",
      "\u001b[?25hCollecting sudachidict-core>=20211220 (from ja-core-news-md==3.7.0)\n",
      "  Downloading SudachiDict_core-20230927-py3-none-any.whl.metadata (2.5 kB)\n",
      "Requirement already satisfied: spacy-legacy<3.1.0,>=3.0.11 in /home/lyuzeyu/anaconda3/envs/dl/lib/python3.11/site-packages (from spacy<3.8.0,>=3.7.0->ja-core-news-md==3.7.0) (3.0.12)\n",
      "Requirement already satisfied: spacy-loggers<2.0.0,>=1.0.0 in /home/lyuzeyu/anaconda3/envs/dl/lib/python3.11/site-packages (from spacy<3.8.0,>=3.7.0->ja-core-news-md==3.7.0) (1.0.5)\n",
      "Requirement already satisfied: murmurhash<1.1.0,>=0.28.0 in /home/lyuzeyu/anaconda3/envs/dl/lib/python3.11/site-packages (from spacy<3.8.0,>=3.7.0->ja-core-news-md==3.7.0) (1.0.10)\n",
      "Requirement already satisfied: cymem<2.1.0,>=2.0.2 in /home/lyuzeyu/anaconda3/envs/dl/lib/python3.11/site-packages (from spacy<3.8.0,>=3.7.0->ja-core-news-md==3.7.0) (2.0.8)\n",
      "Requirement already satisfied: preshed<3.1.0,>=3.0.2 in /home/lyuzeyu/anaconda3/envs/dl/lib/python3.11/site-packages (from spacy<3.8.0,>=3.7.0->ja-core-news-md==3.7.0) (3.0.9)\n",
      "Requirement already satisfied: thinc<8.3.0,>=8.1.8 in /home/lyuzeyu/anaconda3/envs/dl/lib/python3.11/site-packages (from spacy<3.8.0,>=3.7.0->ja-core-news-md==3.7.0) (8.2.1)\n",
      "Requirement already satisfied: wasabi<1.2.0,>=0.9.1 in /home/lyuzeyu/anaconda3/envs/dl/lib/python3.11/site-packages (from spacy<3.8.0,>=3.7.0->ja-core-news-md==3.7.0) (1.1.2)\n",
      "Requirement already satisfied: srsly<3.0.0,>=2.4.3 in /home/lyuzeyu/anaconda3/envs/dl/lib/python3.11/site-packages (from spacy<3.8.0,>=3.7.0->ja-core-news-md==3.7.0) (2.4.8)\n",
      "Requirement already satisfied: catalogue<2.1.0,>=2.0.6 in /home/lyuzeyu/anaconda3/envs/dl/lib/python3.11/site-packages (from spacy<3.8.0,>=3.7.0->ja-core-news-md==3.7.0) (2.0.10)\n",
      "Requirement already satisfied: weasel<0.4.0,>=0.1.0 in /home/lyuzeyu/anaconda3/envs/dl/lib/python3.11/site-packages (from spacy<3.8.0,>=3.7.0->ja-core-news-md==3.7.0) (0.3.4)\n",
      "Requirement already satisfied: typer<0.10.0,>=0.3.0 in /home/lyuzeyu/anaconda3/envs/dl/lib/python3.11/site-packages (from spacy<3.8.0,>=3.7.0->ja-core-news-md==3.7.0) (0.9.0)\n",
      "Requirement already satisfied: smart-open<7.0.0,>=5.2.1 in /home/lyuzeyu/anaconda3/envs/dl/lib/python3.11/site-packages (from spacy<3.8.0,>=3.7.0->ja-core-news-md==3.7.0) (6.4.0)\n",
      "Requirement already satisfied: tqdm<5.0.0,>=4.38.0 in /home/lyuzeyu/anaconda3/envs/dl/lib/python3.11/site-packages (from spacy<3.8.0,>=3.7.0->ja-core-news-md==3.7.0) (4.66.1)\n",
      "Requirement already satisfied: requests<3.0.0,>=2.13.0 in /home/lyuzeyu/anaconda3/envs/dl/lib/python3.11/site-packages (from spacy<3.8.0,>=3.7.0->ja-core-news-md==3.7.0) (2.31.0)\n",
      "Requirement already satisfied: pydantic!=1.8,!=1.8.1,<3.0.0,>=1.7.4 in /home/lyuzeyu/anaconda3/envs/dl/lib/python3.11/site-packages (from spacy<3.8.0,>=3.7.0->ja-core-news-md==3.7.0) (2.5.2)\n",
      "Requirement already satisfied: jinja2 in /home/lyuzeyu/anaconda3/envs/dl/lib/python3.11/site-packages (from spacy<3.8.0,>=3.7.0->ja-core-news-md==3.7.0) (3.1.2)\n",
      "Requirement already satisfied: setuptools in /home/lyuzeyu/anaconda3/envs/dl/lib/python3.11/site-packages (from spacy<3.8.0,>=3.7.0->ja-core-news-md==3.7.0) (69.0.2)\n",
      "Requirement already satisfied: packaging>=20.0 in /home/lyuzeyu/anaconda3/envs/dl/lib/python3.11/site-packages (from spacy<3.8.0,>=3.7.0->ja-core-news-md==3.7.0) (23.2)\n",
      "Requirement already satisfied: langcodes<4.0.0,>=3.2.0 in /home/lyuzeyu/anaconda3/envs/dl/lib/python3.11/site-packages (from spacy<3.8.0,>=3.7.0->ja-core-news-md==3.7.0) (3.3.0)\n",
      "Requirement already satisfied: numpy>=1.19.0 in /home/lyuzeyu/anaconda3/envs/dl/lib/python3.11/site-packages (from spacy<3.8.0,>=3.7.0->ja-core-news-md==3.7.0) (1.26.2)\n",
      "Requirement already satisfied: annotated-types>=0.4.0 in /home/lyuzeyu/anaconda3/envs/dl/lib/python3.11/site-packages (from pydantic!=1.8,!=1.8.1,<3.0.0,>=1.7.4->spacy<3.8.0,>=3.7.0->ja-core-news-md==3.7.0) (0.6.0)\n",
      "Requirement already satisfied: pydantic-core==2.14.5 in /home/lyuzeyu/anaconda3/envs/dl/lib/python3.11/site-packages (from pydantic!=1.8,!=1.8.1,<3.0.0,>=1.7.4->spacy<3.8.0,>=3.7.0->ja-core-news-md==3.7.0) (2.14.5)\n",
      "Requirement already satisfied: typing-extensions>=4.6.1 in /home/lyuzeyu/anaconda3/envs/dl/lib/python3.11/site-packages (from pydantic!=1.8,!=1.8.1,<3.0.0,>=1.7.4->spacy<3.8.0,>=3.7.0->ja-core-news-md==3.7.0) (4.7.1)\n",
      "Requirement already satisfied: charset-normalizer<4,>=2 in /home/lyuzeyu/anaconda3/envs/dl/lib/python3.11/site-packages (from requests<3.0.0,>=2.13.0->spacy<3.8.0,>=3.7.0->ja-core-news-md==3.7.0) (2.0.4)\n",
      "Requirement already satisfied: idna<4,>=2.5 in /home/lyuzeyu/anaconda3/envs/dl/lib/python3.11/site-packages (from requests<3.0.0,>=2.13.0->spacy<3.8.0,>=3.7.0->ja-core-news-md==3.7.0) (3.4)\n",
      "Requirement already satisfied: urllib3<3,>=1.21.1 in /home/lyuzeyu/anaconda3/envs/dl/lib/python3.11/site-packages (from requests<3.0.0,>=2.13.0->spacy<3.8.0,>=3.7.0->ja-core-news-md==3.7.0) (1.26.18)\n",
      "Requirement already satisfied: certifi>=2017.4.17 in /home/lyuzeyu/anaconda3/envs/dl/lib/python3.11/site-packages (from requests<3.0.0,>=2.13.0->spacy<3.8.0,>=3.7.0->ja-core-news-md==3.7.0) (2023.11.17)\n",
      "Requirement already satisfied: blis<0.8.0,>=0.7.8 in /home/lyuzeyu/anaconda3/envs/dl/lib/python3.11/site-packages (from thinc<8.3.0,>=8.1.8->spacy<3.8.0,>=3.7.0->ja-core-news-md==3.7.0) (0.7.11)\n",
      "Requirement already satisfied: confection<1.0.0,>=0.0.1 in /home/lyuzeyu/anaconda3/envs/dl/lib/python3.11/site-packages (from thinc<8.3.0,>=8.1.8->spacy<3.8.0,>=3.7.0->ja-core-news-md==3.7.0) (0.1.4)\n",
      "Requirement already satisfied: click<9.0.0,>=7.1.1 in /home/lyuzeyu/anaconda3/envs/dl/lib/python3.11/site-packages (from typer<0.10.0,>=0.3.0->spacy<3.8.0,>=3.7.0->ja-core-news-md==3.7.0) (8.1.7)\n",
      "Requirement already satisfied: cloudpathlib<0.17.0,>=0.7.0 in /home/lyuzeyu/anaconda3/envs/dl/lib/python3.11/site-packages (from weasel<0.4.0,>=0.1.0->spacy<3.8.0,>=3.7.0->ja-core-news-md==3.7.0) (0.16.0)\n",
      "Requirement already satisfied: MarkupSafe>=2.0 in /home/lyuzeyu/anaconda3/envs/dl/lib/python3.11/site-packages (from jinja2->spacy<3.8.0,>=3.7.0->ja-core-news-md==3.7.0) (2.1.1)\n",
      "Downloading SudachiDict_core-20230927-py3-none-any.whl (71.7 MB)\n",
      "\u001b[2K   \u001b[38;2;114;156;31m━━━━━━━━━━━━━━━━━━━━━━━━━━━━━━━━━━━━━━━━\u001b[0m \u001b[32m71.7/71.7 MB\u001b[0m \u001b[31m63.9 MB/s\u001b[0m eta \u001b[36m0:00:00\u001b[0mm eta \u001b[36m0:00:01\u001b[0m[36m0:00:01\u001b[0m\n",
      "\u001b[?25hInstalling collected packages: sudachipy, sudachidict-core, ja-core-news-md\n",
      "Successfully installed ja-core-news-md-3.7.0 sudachidict-core-20230927 sudachipy-0.6.7\n",
      "\u001b[38;5;2m✔ Download and installation successful\u001b[0m\n",
      "You can now load the package via spacy.load('ja_core_news_md')\n",
      "Collecting en-core-web-md==3.7.1\n",
      "  Downloading https://github.com/explosion/spacy-models/releases/download/en_core_web_md-3.7.1/en_core_web_md-3.7.1-py3-none-any.whl (42.8 MB)\n",
      "\u001b[2K     \u001b[38;2;114;156;31m━━━━━━━━━━━━━━━━━━━━━━━━━━━━━━━━━━━━━━━━\u001b[0m \u001b[32m42.8/42.8 MB\u001b[0m \u001b[31m70.9 MB/s\u001b[0m eta \u001b[36m0:00:00\u001b[0mm eta \u001b[36m0:00:01\u001b[0m0:01\u001b[0m:01\u001b[0m\n",
      "\u001b[?25hRequirement already satisfied: spacy<3.8.0,>=3.7.2 in /home/lyuzeyu/anaconda3/envs/dl/lib/python3.11/site-packages (from en-core-web-md==3.7.1) (3.7.2)\n",
      "Requirement already satisfied: spacy-legacy<3.1.0,>=3.0.11 in /home/lyuzeyu/anaconda3/envs/dl/lib/python3.11/site-packages (from spacy<3.8.0,>=3.7.2->en-core-web-md==3.7.1) (3.0.12)\n",
      "Requirement already satisfied: spacy-loggers<2.0.0,>=1.0.0 in /home/lyuzeyu/anaconda3/envs/dl/lib/python3.11/site-packages (from spacy<3.8.0,>=3.7.2->en-core-web-md==3.7.1) (1.0.5)\n",
      "Requirement already satisfied: murmurhash<1.1.0,>=0.28.0 in /home/lyuzeyu/anaconda3/envs/dl/lib/python3.11/site-packages (from spacy<3.8.0,>=3.7.2->en-core-web-md==3.7.1) (1.0.10)\n",
      "Requirement already satisfied: cymem<2.1.0,>=2.0.2 in /home/lyuzeyu/anaconda3/envs/dl/lib/python3.11/site-packages (from spacy<3.8.0,>=3.7.2->en-core-web-md==3.7.1) (2.0.8)\n",
      "Requirement already satisfied: preshed<3.1.0,>=3.0.2 in /home/lyuzeyu/anaconda3/envs/dl/lib/python3.11/site-packages (from spacy<3.8.0,>=3.7.2->en-core-web-md==3.7.1) (3.0.9)\n",
      "Requirement already satisfied: thinc<8.3.0,>=8.1.8 in /home/lyuzeyu/anaconda3/envs/dl/lib/python3.11/site-packages (from spacy<3.8.0,>=3.7.2->en-core-web-md==3.7.1) (8.2.1)\n",
      "Requirement already satisfied: wasabi<1.2.0,>=0.9.1 in /home/lyuzeyu/anaconda3/envs/dl/lib/python3.11/site-packages (from spacy<3.8.0,>=3.7.2->en-core-web-md==3.7.1) (1.1.2)\n",
      "Requirement already satisfied: srsly<3.0.0,>=2.4.3 in /home/lyuzeyu/anaconda3/envs/dl/lib/python3.11/site-packages (from spacy<3.8.0,>=3.7.2->en-core-web-md==3.7.1) (2.4.8)\n",
      "Requirement already satisfied: catalogue<2.1.0,>=2.0.6 in /home/lyuzeyu/anaconda3/envs/dl/lib/python3.11/site-packages (from spacy<3.8.0,>=3.7.2->en-core-web-md==3.7.1) (2.0.10)\n",
      "Requirement already satisfied: weasel<0.4.0,>=0.1.0 in /home/lyuzeyu/anaconda3/envs/dl/lib/python3.11/site-packages (from spacy<3.8.0,>=3.7.2->en-core-web-md==3.7.1) (0.3.4)\n",
      "Requirement already satisfied: typer<0.10.0,>=0.3.0 in /home/lyuzeyu/anaconda3/envs/dl/lib/python3.11/site-packages (from spacy<3.8.0,>=3.7.2->en-core-web-md==3.7.1) (0.9.0)\n",
      "Requirement already satisfied: smart-open<7.0.0,>=5.2.1 in /home/lyuzeyu/anaconda3/envs/dl/lib/python3.11/site-packages (from spacy<3.8.0,>=3.7.2->en-core-web-md==3.7.1) (6.4.0)\n",
      "Requirement already satisfied: tqdm<5.0.0,>=4.38.0 in /home/lyuzeyu/anaconda3/envs/dl/lib/python3.11/site-packages (from spacy<3.8.0,>=3.7.2->en-core-web-md==3.7.1) (4.66.1)\n",
      "Requirement already satisfied: requests<3.0.0,>=2.13.0 in /home/lyuzeyu/anaconda3/envs/dl/lib/python3.11/site-packages (from spacy<3.8.0,>=3.7.2->en-core-web-md==3.7.1) (2.31.0)\n",
      "Requirement already satisfied: pydantic!=1.8,!=1.8.1,<3.0.0,>=1.7.4 in /home/lyuzeyu/anaconda3/envs/dl/lib/python3.11/site-packages (from spacy<3.8.0,>=3.7.2->en-core-web-md==3.7.1) (2.5.2)\n",
      "Requirement already satisfied: jinja2 in /home/lyuzeyu/anaconda3/envs/dl/lib/python3.11/site-packages (from spacy<3.8.0,>=3.7.2->en-core-web-md==3.7.1) (3.1.2)\n",
      "Requirement already satisfied: setuptools in /home/lyuzeyu/anaconda3/envs/dl/lib/python3.11/site-packages (from spacy<3.8.0,>=3.7.2->en-core-web-md==3.7.1) (69.0.2)\n",
      "Requirement already satisfied: packaging>=20.0 in /home/lyuzeyu/anaconda3/envs/dl/lib/python3.11/site-packages (from spacy<3.8.0,>=3.7.2->en-core-web-md==3.7.1) (23.2)\n",
      "Requirement already satisfied: langcodes<4.0.0,>=3.2.0 in /home/lyuzeyu/anaconda3/envs/dl/lib/python3.11/site-packages (from spacy<3.8.0,>=3.7.2->en-core-web-md==3.7.1) (3.3.0)\n",
      "Requirement already satisfied: numpy>=1.19.0 in /home/lyuzeyu/anaconda3/envs/dl/lib/python3.11/site-packages (from spacy<3.8.0,>=3.7.2->en-core-web-md==3.7.1) (1.26.2)\n",
      "Requirement already satisfied: annotated-types>=0.4.0 in /home/lyuzeyu/anaconda3/envs/dl/lib/python3.11/site-packages (from pydantic!=1.8,!=1.8.1,<3.0.0,>=1.7.4->spacy<3.8.0,>=3.7.2->en-core-web-md==3.7.1) (0.6.0)\n",
      "Requirement already satisfied: pydantic-core==2.14.5 in /home/lyuzeyu/anaconda3/envs/dl/lib/python3.11/site-packages (from pydantic!=1.8,!=1.8.1,<3.0.0,>=1.7.4->spacy<3.8.0,>=3.7.2->en-core-web-md==3.7.1) (2.14.5)\n",
      "Requirement already satisfied: typing-extensions>=4.6.1 in /home/lyuzeyu/anaconda3/envs/dl/lib/python3.11/site-packages (from pydantic!=1.8,!=1.8.1,<3.0.0,>=1.7.4->spacy<3.8.0,>=3.7.2->en-core-web-md==3.7.1) (4.7.1)\n",
      "Requirement already satisfied: charset-normalizer<4,>=2 in /home/lyuzeyu/anaconda3/envs/dl/lib/python3.11/site-packages (from requests<3.0.0,>=2.13.0->spacy<3.8.0,>=3.7.2->en-core-web-md==3.7.1) (2.0.4)\n",
      "Requirement already satisfied: idna<4,>=2.5 in /home/lyuzeyu/anaconda3/envs/dl/lib/python3.11/site-packages (from requests<3.0.0,>=2.13.0->spacy<3.8.0,>=3.7.2->en-core-web-md==3.7.1) (3.4)\n",
      "Requirement already satisfied: urllib3<3,>=1.21.1 in /home/lyuzeyu/anaconda3/envs/dl/lib/python3.11/site-packages (from requests<3.0.0,>=2.13.0->spacy<3.8.0,>=3.7.2->en-core-web-md==3.7.1) (1.26.18)\n",
      "Requirement already satisfied: certifi>=2017.4.17 in /home/lyuzeyu/anaconda3/envs/dl/lib/python3.11/site-packages (from requests<3.0.0,>=2.13.0->spacy<3.8.0,>=3.7.2->en-core-web-md==3.7.1) (2023.11.17)\n",
      "Requirement already satisfied: blis<0.8.0,>=0.7.8 in /home/lyuzeyu/anaconda3/envs/dl/lib/python3.11/site-packages (from thinc<8.3.0,>=8.1.8->spacy<3.8.0,>=3.7.2->en-core-web-md==3.7.1) (0.7.11)\n",
      "Requirement already satisfied: confection<1.0.0,>=0.0.1 in /home/lyuzeyu/anaconda3/envs/dl/lib/python3.11/site-packages (from thinc<8.3.0,>=8.1.8->spacy<3.8.0,>=3.7.2->en-core-web-md==3.7.1) (0.1.4)\n",
      "Requirement already satisfied: click<9.0.0,>=7.1.1 in /home/lyuzeyu/anaconda3/envs/dl/lib/python3.11/site-packages (from typer<0.10.0,>=0.3.0->spacy<3.8.0,>=3.7.2->en-core-web-md==3.7.1) (8.1.7)\n",
      "Requirement already satisfied: cloudpathlib<0.17.0,>=0.7.0 in /home/lyuzeyu/anaconda3/envs/dl/lib/python3.11/site-packages (from weasel<0.4.0,>=0.1.0->spacy<3.8.0,>=3.7.2->en-core-web-md==3.7.1) (0.16.0)\n",
      "Requirement already satisfied: MarkupSafe>=2.0 in /home/lyuzeyu/anaconda3/envs/dl/lib/python3.11/site-packages (from jinja2->spacy<3.8.0,>=3.7.2->en-core-web-md==3.7.1) (2.1.1)\n",
      "Installing collected packages: en-core-web-md\n",
      "Successfully installed en-core-web-md-3.7.1\n",
      "\u001b[38;5;2m✔ Download and installation successful\u001b[0m\n",
      "You can now load the package via spacy.load('en_core_web_md')\n"
     ]
    }
   ],
   "source": [
    "!python3 -m spacy download ja_core_news_md\n",
    "!python3 -m spacy download en_core_web_md"
   ]
  },
  {
   "cell_type": "code",
   "execution_count": 28,
   "metadata": {},
   "outputs": [],
   "source": [
    "JA = spacy.load(\"ja_core_news_md\")\n",
    "EN = spacy.load(\"en_core_web_md\")"
   ]
  },
  {
   "cell_type": "code",
   "execution_count": 37,
   "metadata": {},
   "outputs": [
    {
     "data": {
      "text/plain": [
       "['you', 'are', 'back', ',', 'are', \"n't\", 'you', ',', 'harold', '?']"
      ]
     },
     "execution_count": 37,
     "metadata": {},
     "output_type": "execute_result"
    }
   ],
   "source": [
    "[token.text for token in EN.tokenizer(raw_df[\"English\"][0])]"
   ]
  },
  {
   "cell_type": "code",
   "execution_count": 38,
   "metadata": {},
   "outputs": [
    {
     "data": {
      "text/plain": [
       "['あなた', 'は', '戻っ', 'た', 'の', 'ね', 'ハロルド', '?']"
      ]
     },
     "execution_count": 38,
     "metadata": {},
     "output_type": "execute_result"
    }
   ],
   "source": [
    "[token.text for token in JA.tokenizer(raw_df[\"Japanese\"][0])]"
   ]
  },
  {
   "cell_type": "code",
   "execution_count": 29,
   "metadata": {},
   "outputs": [],
   "source": [
    "def tokenize_ja(sentence):\n",
    "    return [tok.text for tok in JA.tokenizer(sentence)]\n",
    "\n",
    "def tokenize_en(sentence):\n",
    "    return [tok.text for tok in EN.tokenizer(sentence)]"
   ]
  },
  {
   "cell_type": "code",
   "execution_count": 34,
   "metadata": {},
   "outputs": [],
   "source": [
    "train_val_df, test_df = train_test_split(raw_df, test_size=0.2)\n",
    "# Split the training plus validation set into separate training and validation sets\n",
    "train_df, val_df = train_test_split(train_val_df, test_size=0.25)"
   ]
  },
  {
   "cell_type": "code",
   "execution_count": 35,
   "metadata": {},
   "outputs": [
    {
     "data": {
      "text/html": [
       "<div>\n",
       "<style scoped>\n",
       "    .dataframe tbody tr th:only-of-type {\n",
       "        vertical-align: middle;\n",
       "    }\n",
       "\n",
       "    .dataframe tbody tr th {\n",
       "        vertical-align: top;\n",
       "    }\n",
       "\n",
       "    .dataframe thead th {\n",
       "        text-align: right;\n",
       "    }\n",
       "</style>\n",
       "<table border=\"1\" class=\"dataframe\">\n",
       "  <thead>\n",
       "    <tr style=\"text-align: right;\">\n",
       "      <th></th>\n",
       "      <th>English</th>\n",
       "      <th>Japanese</th>\n",
       "    </tr>\n",
       "  </thead>\n",
       "  <tbody>\n",
       "    <tr>\n",
       "      <th>2395933</th>\n",
       "      <td>where did you get this?</td>\n",
       "      <td>− いいから 落ち着け...</td>\n",
       "    </tr>\n",
       "    <tr>\n",
       "      <th>2649086</th>\n",
       "      <td>it's not what i wish. it's what you wish.</td>\n",
       "      <td>違う お前が欲しいと言ったものだ</td>\n",
       "    </tr>\n",
       "    <tr>\n",
       "      <th>2190506</th>\n",
       "      <td>he brings that experience to others</td>\n",
       "      <td>障害の有無や 健康か否か</td>\n",
       "    </tr>\n",
       "    <tr>\n",
       "      <th>891536</th>\n",
       "      <td>their mother and her boyfriend were taking the...</td>\n",
       "      <td>母親が男友達と アビィモアに ゴーカート乗りに連れて行ってた</td>\n",
       "    </tr>\n",
       "    <tr>\n",
       "      <th>2167442</th>\n",
       "      <td>no, it's not me.</td>\n",
       "      <td>待って! 誰も降りないでそこの生徒も降りないで</td>\n",
       "    </tr>\n",
       "    <tr>\n",
       "      <th>...</th>\n",
       "      <td>...</td>\n",
       "      <td>...</td>\n",
       "    </tr>\n",
       "    <tr>\n",
       "      <th>2294619</th>\n",
       "      <td>i'll always be very grateful.</td>\n",
       "      <td>このご恩は 忘れないわ</td>\n",
       "    </tr>\n",
       "    <tr>\n",
       "      <th>289491</th>\n",
       "      <td>well, that should do it.</td>\n",
       "      <td>彼に伝えるべきだ</td>\n",
       "    </tr>\n",
       "    <tr>\n",
       "      <th>876370</th>\n",
       "      <td>red meat for the hood.</td>\n",
       "      <td>フードの内容</td>\n",
       "    </tr>\n",
       "    <tr>\n",
       "      <th>1678407</th>\n",
       "      <td>but he was not strong enough to pole all the w...</td>\n",
       "      <td>しかし 彼は湿地帯を横切って全部に 棒をたてるほど強くなかった</td>\n",
       "    </tr>\n",
       "    <tr>\n",
       "      <th>103215</th>\n",
       "      <td>yeah, gonzalez, what is it?</td>\n",
       "      <td>ゴンザレス どうした?</td>\n",
       "    </tr>\n",
       "  </tbody>\n",
       "</table>\n",
       "<p>1680832 rows × 2 columns</p>\n",
       "</div>"
      ],
      "text/plain": [
       "                                                   English  \\\n",
       "2395933                            where did you get this?   \n",
       "2649086          it's not what i wish. it's what you wish.   \n",
       "2190506                he brings that experience to others   \n",
       "891536   their mother and her boyfriend were taking the...   \n",
       "2167442                                   no, it's not me.   \n",
       "...                                                    ...   \n",
       "2294619                      i'll always be very grateful.   \n",
       "289491                            well, that should do it.   \n",
       "876370                              red meat for the hood.   \n",
       "1678407  but he was not strong enough to pole all the w...   \n",
       "103215                         yeah, gonzalez, what is it?   \n",
       "\n",
       "                                Japanese  \n",
       "2395933                   − いいから 落ち着け...  \n",
       "2649086                 違う お前が欲しいと言ったものだ  \n",
       "2190506                     障害の有無や 健康か否か  \n",
       "891536    母親が男友達と アビィモアに ゴーカート乗りに連れて行ってた  \n",
       "2167442          待って! 誰も降りないでそこの生徒も降りないで  \n",
       "...                                  ...  \n",
       "2294619                      このご恩は 忘れないわ  \n",
       "289491                          彼に伝えるべきだ  \n",
       "876370                            フードの内容  \n",
       "1678407  しかし 彼は湿地帯を横切って全部に 棒をたてるほど強くなかった  \n",
       "103215                       ゴンザレス どうした?  \n",
       "\n",
       "[1680832 rows x 2 columns]"
      ]
     },
     "execution_count": 35,
     "metadata": {},
     "output_type": "execute_result"
    }
   ],
   "source": [
    "train_df"
   ]
  },
  {
   "cell_type": "code",
   "execution_count": 53,
   "metadata": {},
   "outputs": [],
   "source": [
    "def tokenize_example(row, EN, JA, max_length, lower, sos_token, eos_token):\n",
    "    en_tokens = [token.text for token in EN.tokenizer(row[\"English\"])][:max_length]\n",
    "    jp_tokens = [token.text for token in JA.tokenizer(row[\"Japanese\"])][:max_length]\n",
    "    \n",
    "    if lower:\n",
    "        en_tokens = [token.lower() for token in en_tokens]\n",
    "    \n",
    "    en_tokens = [sos_token] + en_tokens + [eos_token]\n",
    "    jp_tokens = [sos_token] + jp_tokens + [eos_token]\n",
    "    \n",
    "    return {\"en_tokens\": en_tokens, \"jp_tokens\": jp_tokens}"
   ]
  },
  {
   "cell_type": "code",
   "execution_count": 44,
   "metadata": {},
   "outputs": [],
   "source": [
    "max_length = 1_000\n",
    "lower = True\n",
    "sos_token = \"<sos>\"\n",
    "eos_token = \"<eos>\""
   ]
  },
  {
   "cell_type": "code",
   "execution_count": 45,
   "metadata": {},
   "outputs": [],
   "source": [
    "fn_kwargs = {\n",
    "    \"EN\": EN, \n",
    "    \"JA\": JA, \n",
    "    \"max_length\": max_length,\n",
    "    \"lower\": lower,\n",
    "    \"sos_token\": sos_token,\n",
    "    \"eos_token\": eos_token,\n",
    "}\n"
   ]
  },
  {
   "cell_type": "code",
   "execution_count": 54,
   "metadata": {},
   "outputs": [],
   "source": [
    "train_df = train_df.apply(lambda row: tokenize_example(row, EN, JA, max_length, lower, sos_token, eos_token), axis=1)\n",
    "val_df = val_df.apply(lambda row: tokenize_example(row, EN, JA, max_length, lower, sos_token, eos_token), axis=1)\n",
    "test_df = test_df.apply(lambda row: tokenize_example(row, EN, JA, max_length, lower, sos_token, eos_token), axis=1)"
   ]
  },
  {
   "cell_type": "code",
   "execution_count": 68,
   "metadata": {},
   "outputs": [
    {
     "data": {
      "text/plain": [
       "{'en_tokens': ['<sos>',\n",
       "  'you',\n",
       "  'are',\n",
       "  'back',\n",
       "  ',',\n",
       "  'are',\n",
       "  \"n't\",\n",
       "  'you',\n",
       "  ',',\n",
       "  'harold',\n",
       "  '?',\n",
       "  '<eos>'],\n",
       " 'jp_tokens': ['<sos>', 'あなた', 'は', '戻っ', 'た', 'の', 'ね', 'ハロルド', '?', '<eos>']}"
      ]
     },
     "execution_count": 68,
     "metadata": {},
     "output_type": "execute_result"
    }
   ],
   "source": [
    "train_df[0]"
   ]
  },
  {
   "cell_type": "code",
   "execution_count": 92,
   "metadata": {},
   "outputs": [],
   "source": [
    "train_df=pd.DataFrame(train_df.tolist())\n",
    "val_df=pd.DataFrame(val_df.tolist())\n",
    "test_df=pd.DataFrame(test_df.tolist())"
   ]
  },
  {
   "cell_type": "code",
   "execution_count": 81,
   "metadata": {},
   "outputs": [],
   "source": [
    "min_freq = 2\n",
    "unk_token = \"<unk>\"\n",
    "pad_token = \"<pad>\"\n",
    "\n",
    "special_tokens = [\n",
    "    unk_token,\n",
    "    pad_token,\n",
    "    sos_token,\n",
    "    eos_token,\n",
    "]\n",
    "\n",
    "en_vocab = torchtext.vocab.build_vocab_from_iterator(\n",
    "    train_df_dataframe[\"en_tokens\"],\n",
    "    min_freq=min_freq,\n",
    "    specials=special_tokens,\n",
    ")\n",
    "\n",
    "jp_vocab = torchtext.vocab.build_vocab_from_iterator(\n",
    "    train_df_dataframe[\"jp_tokens\"],\n",
    "    min_freq=min_freq,\n",
    "    specials=special_tokens,  \n",
    ")"
   ]
  },
  {
   "cell_type": "code",
   "execution_count": 82,
   "metadata": {},
   "outputs": [
    {
     "data": {
      "text/plain": [
       "['<unk>', '<pad>', '<sos>', '<eos>', '.', ',', 'the', 'you', 'i', '?']"
      ]
     },
     "execution_count": 82,
     "metadata": {},
     "output_type": "execute_result"
    }
   ],
   "source": [
    "en_vocab.get_itos()[:10]\n"
   ]
  },
  {
   "cell_type": "code",
   "execution_count": 83,
   "metadata": {},
   "outputs": [],
   "source": [
    "assert en_vocab[unk_token] == jp_vocab[unk_token]\n",
    "assert en_vocab[pad_token] == jp_vocab[pad_token]"
   ]
  },
  {
   "cell_type": "code",
   "execution_count": 84,
   "metadata": {},
   "outputs": [],
   "source": [
    "unk_index = en_vocab[unk_token]\n",
    "pad_index = en_vocab[pad_token]"
   ]
  },
  {
   "cell_type": "code",
   "execution_count": 85,
   "metadata": {},
   "outputs": [],
   "source": [
    "en_vocab.set_default_index(unk_index)\n",
    "jp_vocab.set_default_index(unk_index)"
   ]
  },
  {
   "cell_type": "code",
   "execution_count": null,
   "metadata": {},
   "outputs": [],
   "source": []
  },
  {
   "cell_type": "code",
   "execution_count": null,
   "metadata": {},
   "outputs": [],
   "source": []
  },
  {
   "cell_type": "code",
   "execution_count": 96,
   "metadata": {},
   "outputs": [],
   "source": [
    "def numericalize_example(example, en_vocab, jp_vocab):\n",
    "    en_ids = en_vocab.lookup_indices(example[\"en_tokens\"])\n",
    "    ja_ids = jp_vocab.lookup_indices(example[\"jp_tokens\"])\n",
    "    return {\"en_ids\": en_ids, \"ja_ids\": ja_ids}"
   ]
  },
  {
   "cell_type": "code",
   "execution_count": 97,
   "metadata": {},
   "outputs": [],
   "source": [
    "\n",
    "def numericalize_dataframe(df, en_vocab, jp_vocab):\n",
    "    numericalized = df.apply(lambda row: numericalize_example(row, en_vocab, jp_vocab), axis=1)\n",
    "    return pd.DataFrame(numericalized.tolist())"
   ]
  },
  {
   "cell_type": "code",
   "execution_count": 99,
   "metadata": {},
   "outputs": [],
   "source": [
    "train_df=numericalize_dataframe(train_df,en_vocab, jp_vocab)\n",
    "val_df=numericalize_dataframe(val_df,en_vocab, jp_vocab)\n",
    "test_df=numericalize_dataframe(test_df,en_vocab, jp_vocab)"
   ]
  },
  {
   "cell_type": "code",
   "execution_count": 100,
   "metadata": {},
   "outputs": [
    {
     "data": {
      "text/html": [
       "<div>\n",
       "<style scoped>\n",
       "    .dataframe tbody tr th:only-of-type {\n",
       "        vertical-align: middle;\n",
       "    }\n",
       "\n",
       "    .dataframe tbody tr th {\n",
       "        vertical-align: top;\n",
       "    }\n",
       "\n",
       "    .dataframe thead th {\n",
       "        text-align: right;\n",
       "    }\n",
       "</style>\n",
       "<table border=\"1\" class=\"dataframe\">\n",
       "  <thead>\n",
       "    <tr style=\"text-align: right;\">\n",
       "      <th></th>\n",
       "      <th>en_ids</th>\n",
       "      <th>ja_ids</th>\n",
       "    </tr>\n",
       "  </thead>\n",
       "  <tbody>\n",
       "    <tr>\n",
       "      <th>0</th>\n",
       "      <td>[2, 96, 53, 7, 55, 23, 9, 3]</td>\n",
       "      <td>[2, 586, 52, 27, 346, 1241, 16, 16, 16, 3]</td>\n",
       "    </tr>\n",
       "    <tr>\n",
       "      <th>1</th>\n",
       "      <td>[2, 13, 12, 33, 24, 8, 527, 4, 13, 12, 24, 7, ...</td>\n",
       "      <td>[2, 220, 71, 10, 340, 15, 87, 8, 84, 11, 3]</td>\n",
       "    </tr>\n",
       "    <tr>\n",
       "      <th>2</th>\n",
       "      <td>[2, 31, 1877, 14, 763, 10, 614, 3]</td>\n",
       "      <td>[2, 1301, 4, 11796, 83, 1158, 18, 7704, 18, 3]</td>\n",
       "    </tr>\n",
       "    <tr>\n",
       "      <th>3</th>\n",
       "      <td>[2, 139, 266, 15, 73, 1131, 83, 404, 88, 57744...</td>\n",
       "      <td>[2, 621, 10, 171, 384, 15, 0, 6, 42346, 1086, ...</td>\n",
       "    </tr>\n",
       "    <tr>\n",
       "      <th>4</th>\n",
       "      <td>[2, 43, 5, 13, 12, 33, 27, 4, 3]</td>\n",
       "      <td>[2, 201, 7, 25, 81, 19, 1399, 20, 13, 155, 4, ...</td>\n",
       "    </tr>\n",
       "    <tr>\n",
       "      <th>...</th>\n",
       "      <td>...</td>\n",
       "      <td>...</td>\n",
       "    </tr>\n",
       "    <tr>\n",
       "      <th>1680827</th>\n",
       "      <td>[2, 8, 65, 200, 37, 124, 2352, 4, 3]</td>\n",
       "      <td>[2, 41, 196, 5673, 5, 401, 20, 51, 3]</td>\n",
       "    </tr>\n",
       "    <tr>\n",
       "      <th>1680828</th>\n",
       "      <td>[2, 69, 5, 14, 126, 21, 13, 4, 3]</td>\n",
       "      <td>[2, 47, 6, 2196, 211, 11, 3]</td>\n",
       "    </tr>\n",
       "    <tr>\n",
       "      <th>1680829</th>\n",
       "      <td>[2, 516, 1656, 28, 6, 3475, 4, 3]</td>\n",
       "      <td>[2, 4137, 4, 1761, 3]</td>\n",
       "    </tr>\n",
       "    <tr>\n",
       "      <th>1680830</th>\n",
       "      <td>[2, 40, 31, 26, 33, 618, 259, 10, 3765, 46, 6,...</td>\n",
       "      <td>[2, 207, 47, 5, 12995, 6344, 9, 13425, 7, 358,...</td>\n",
       "    </tr>\n",
       "    <tr>\n",
       "      <th>1680831</th>\n",
       "      <td>[2, 98, 5, 23838, 5, 24, 17, 13, 9, 3]</td>\n",
       "      <td>[2, 24007, 50, 17, 8, 12, 3]</td>\n",
       "    </tr>\n",
       "  </tbody>\n",
       "</table>\n",
       "<p>1680832 rows × 2 columns</p>\n",
       "</div>"
      ],
      "text/plain": [
       "                                                    en_ids  \\\n",
       "0                             [2, 96, 53, 7, 55, 23, 9, 3]   \n",
       "1        [2, 13, 12, 33, 24, 8, 527, 4, 13, 12, 24, 7, ...   \n",
       "2                       [2, 31, 1877, 14, 763, 10, 614, 3]   \n",
       "3        [2, 139, 266, 15, 73, 1131, 83, 404, 88, 57744...   \n",
       "4                         [2, 43, 5, 13, 12, 33, 27, 4, 3]   \n",
       "...                                                    ...   \n",
       "1680827               [2, 8, 65, 200, 37, 124, 2352, 4, 3]   \n",
       "1680828                  [2, 69, 5, 14, 126, 21, 13, 4, 3]   \n",
       "1680829                  [2, 516, 1656, 28, 6, 3475, 4, 3]   \n",
       "1680830  [2, 40, 31, 26, 33, 618, 259, 10, 3765, 46, 6,...   \n",
       "1680831             [2, 98, 5, 23838, 5, 24, 17, 13, 9, 3]   \n",
       "\n",
       "                                                    ja_ids  \n",
       "0               [2, 586, 52, 27, 346, 1241, 16, 16, 16, 3]  \n",
       "1              [2, 220, 71, 10, 340, 15, 87, 8, 84, 11, 3]  \n",
       "2           [2, 1301, 4, 11796, 83, 1158, 18, 7704, 18, 3]  \n",
       "3        [2, 621, 10, 171, 384, 15, 0, 6, 42346, 1086, ...  \n",
       "4        [2, 201, 7, 25, 81, 19, 1399, 20, 13, 155, 4, ...  \n",
       "...                                                    ...  \n",
       "1680827              [2, 41, 196, 5673, 5, 401, 20, 51, 3]  \n",
       "1680828                       [2, 47, 6, 2196, 211, 11, 3]  \n",
       "1680829                              [2, 4137, 4, 1761, 3]  \n",
       "1680830  [2, 207, 47, 5, 12995, 6344, 9, 13425, 7, 358,...  \n",
       "1680831                       [2, 24007, 50, 17, 8, 12, 3]  \n",
       "\n",
       "[1680832 rows x 2 columns]"
      ]
     },
     "execution_count": 100,
     "metadata": {},
     "output_type": "execute_result"
    }
   ],
   "source": [
    "train_df"
   ]
  },
  {
   "cell_type": "code",
   "execution_count": null,
   "metadata": {},
   "outputs": [],
   "source": []
  }
 ],
 "metadata": {
  "kernelspec": {
   "display_name": "Python 3 (ipykernel)",
   "language": "python",
   "name": "python3"
  },
  "language_info": {
   "codemirror_mode": {
    "name": "ipython",
    "version": 3
   },
   "file_extension": ".py",
   "mimetype": "text/x-python",
   "name": "python",
   "nbconvert_exporter": "python",
   "pygments_lexer": "ipython3",
   "version": "3.11.5"
  }
 },
 "nbformat": 4,
 "nbformat_minor": 4
}
