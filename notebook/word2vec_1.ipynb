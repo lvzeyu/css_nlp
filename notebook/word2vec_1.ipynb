{
 "cells": [
  {
   "cell_type": "markdown",
   "metadata": {},
   "source": [
    "# 単語分散表現\n",
    "\n",
    "単語分散表現とは、単語の意味を低次元の実数値ベクトルで表現することです。\n",
    "\n",
    "機械学習・深層学習モデルは、ベクトル（数値の配列）を入力として受け取ります。テキストを扱う際、最初に決めなければならないのは、文字列を機械学習モデルに入力する前に、数値に変換する（あるいはテキストを「ベクトル化」する）ための戦略です。\n",
    "\n",
    "単語の持つ性質や意味をよく反映するベクトル表現を獲得することは、機械学習・深層学習を自然言語処理で活用するために重要なプロセスです。\n",
    "\n",
    "- 類似性: ある概念を表現する際に、ほかの概念との共通点や類似性と紐づけながら、ベクトル空間上に表現します。\n",
    "- 単語類推: 分散表現では異なる概念を表現するベクトル同士での計算が可能です"
   ]
  },
  {
   "cell_type": "markdown",
   "metadata": {},
   "source": [
    "\n",
    "```{figure} ./Figure/word2vec.png\n",
    "---\n",
    "align: center\n",
    "width: 600px\n",
    "---\n",
    "- 単語分散表現による単語の意味の類似性を表現することができます: 意味的に近い単語（例：cat と kitten）は近い位置に配置されます\n",
    "- 単語分散表現による単語類推を行うことができます: man と woman、king と queen のように意味的に対応関係を持つ単語はベクトル差が似た方向を持つため、アナロジー推論（king - man + woman ≈ queen）が可能になります\n",
    "```"
   ]
  },
  {
   "cell_type": "markdown",
   "metadata": {},
   "source": [
    "\n",
    "```{figure} ./Figure/city.png\n",
    "---\n",
    "align: center\n",
    "width: 600px\n",
    "---\n",
    "- 単語分散表現による多次元ベクトル空間において意味や関係を捉えます: \n",
    "```"
   ]
  },
  {
   "cell_type": "markdown",
   "metadata": {},
   "source": [
    "単語ベクトルへの変換には様々なアプローチが存在します。最初は、(1)統計情報から単語を表現する手法ーカウントベースの手法ーについて説明します。この方法は、言語のモデル化を理解することに役に立つと考られます。そして、(2)ニューラルネットワークを用いた手法(具体的には、word2vecと呼ばれる手法)を扱います。\n",
    "\n",
    "\n",
    "1. カウントベースの手法\n",
    "    - 統計情報から単語を表現する手法\n",
    "2. 推論ベースの手法\n",
    "    - ニューラルネットワークを用いた手法"
   ]
  },
  {
   "cell_type": "markdown",
   "metadata": {},
   "source": [
    "## シソーラスによる手法"
   ]
  },
  {
   "cell_type": "markdown",
   "metadata": {},
   "source": [
    "「単語の意味」を表すためには、人の手によって単語の意味を定義することが考えられます。\n",
    "\n",
    "シソーラス(thesaurus)と呼ばれるタイプの辞書は、単語間の関係を異表記・類義語・上位下位といった関係性を用いて、単語間の関連を定義できます。\n",
    "\n",
    "$$\n",
    "car = auto \\ automobile \\ machine \\ motorcar\n",
    "$$\n",
    "\n",
    "![](./Figure/thesaurus.png)\n",
    "\n",
    "\n",
    "この「単語ネットーワーク」を利用することで、コンピュータに単語間の関連性を伝えることができます。しかし、この手法には大きな欠点が存在します。\n",
    "\n",
    "- 人の作業コストが高い\n",
    "- 時代の変化に対応するのが困難\n",
    "    - 言語は常に進化しており、新しい単語や意味が生まれては消えていくので、シソーラスを最新の状態に保つのは難しいです。\n",
    "- 単語の些細なかニュアンスを表現できない\n",
    "    - 単語が持つ複数の意味を区別することは難しい\n",
    "    - 単語間の関連性はシソーラスでは静的なものであり、動的な文脈や知識の流れを反映しきれないことがあります"
   ]
  },
  {
   "cell_type": "markdown",
   "metadata": {},
   "source": [
    "## カウントベースの手法"
   ]
  },
  {
   "cell_type": "markdown",
   "metadata": {},
   "source": [
    "コーパスには、自然言語に対する人の「知識」ー文章の書き方、単語の選び方、単語の意味ーがふんだんに含まれています。カウントベースの手法の目標は、そのような人の知識が詰まったコーパスから自動的に抽出することにあります。"
   ]
  },
  {
   "cell_type": "markdown",
   "metadata": {},
   "source": [
    "### コーパスの前処理\n",
    "\n",
    "コーパスに対して、テキストデータを単語に分割し、その分割した単語をID化にすることが必要されます。\n",
    "\n",
    "単語のID化とは、テキストデータを機械学習モデルなどで処理する際に、単語を一意の整数値（ID）に変換するプロセスを指します。これは、テキストデータをベクトルや行列の形でモデルに入力するための前処理として行われます。\n"
   ]
  },
  {
   "cell_type": "markdown",
   "metadata": {},
   "source": [
    "例として、簡単なテキストを用意します。"
   ]
  },
  {
   "cell_type": "code",
   "execution_count": 7,
   "metadata": {},
   "outputs": [],
   "source": [
    "text = 'You say goodbye and I say hello.'"
   ]
  },
  {
   "cell_type": "code",
   "execution_count": 8,
   "metadata": {},
   "outputs": [
    {
     "name": "stdout",
     "output_type": "stream",
     "text": [
      "you say goodbye and i say hello.\n",
      "you say goodbye and i say hello .\n",
      "['you', 'say', 'goodbye', 'and', 'i', 'say', 'hello', '.']\n"
     ]
    }
   ],
   "source": [
    "# 小文字に変換\n",
    "text = text.lower()\n",
    "print(text)\n",
    "\n",
    "# ピリオドの前にスペースを挿入\n",
    "text = text.replace('.', ' .')\n",
    "print(text)\n",
    "\n",
    "# 単語ごとに分割\n",
    "words = text.split(' ')\n",
    "print(words)"
   ]
  },
  {
   "cell_type": "markdown",
   "metadata": {},
   "source": [
    "これで、元の文章を単語リストとして利用できるようになりました。これに基づいて、分割した単語と、単語ごとに通し番号を割り振ったIDを2つのディクショナリに格納します。"
   ]
  },
  {
   "cell_type": "code",
   "execution_count": 9,
   "metadata": {},
   "outputs": [],
   "source": [
    "# ディクショナリを初期化\n",
    "word_to_id = {}\n",
    "id_to_word = {}\n",
    "\n",
    "# 未収録の単語をディクショナリに格納\n",
    "for word in words:\n",
    "    if word not in word_to_id: # 未収録の単語のとき\n",
    "        # 次の単語のidを取得\n",
    "        new_id = len(word_to_id)\n",
    "        \n",
    "        # 単語IDを格納\n",
    "        word_to_id[word] = new_id\n",
    "        \n",
    "        # 単語を格納\n",
    "        id_to_word[new_id] = word"
   ]
  },
  {
   "cell_type": "code",
   "execution_count": 10,
   "metadata": {},
   "outputs": [
    {
     "name": "stdout",
     "output_type": "stream",
     "text": [
      "{0: 'you', 1: 'say', 2: 'goodbye', 3: 'and', 4: 'i', 5: 'hello', 6: '.'}\n",
      "hello\n",
      "{'you': 0, 'say': 1, 'goodbye': 2, 'and': 3, 'i': 4, 'hello': 5, '.': 6}\n",
      "5\n"
     ]
    }
   ],
   "source": [
    "# 単語IDを指定すると単語を返す\n",
    "print(id_to_word)\n",
    "print(id_to_word[5])\n",
    "\n",
    "# 単語を指定すると単語IDを返す\n",
    "print(word_to_id)\n",
    "print(word_to_id['hello'])"
   ]
  },
  {
   "cell_type": "markdown",
   "metadata": {},
   "source": [
    "最後に、単語リストから単語IDリストに変換します。"
   ]
  },
  {
   "cell_type": "code",
   "execution_count": 11,
   "metadata": {},
   "outputs": [
    {
     "name": "stdout",
     "output_type": "stream",
     "text": [
      "[0 1 2 3 4 1 5 6]\n"
     ]
    }
   ],
   "source": [
    "import numpy as np\n",
    "# リストに変換\n",
    "corpus = [word_to_id[word] for word in words]\n",
    "\n",
    "# NumPy配列に変換\n",
    "corpus = np.array(corpus)\n",
    "print(corpus)"
   ]
  },
  {
   "cell_type": "markdown",
   "metadata": {},
   "source": [
    "以上の処理を```preprocess()```という関数として、まとめて実装することにします。"
   ]
  },
  {
   "cell_type": "code",
   "execution_count": 12,
   "metadata": {},
   "outputs": [],
   "source": [
    "# 前処理関数の実装\n",
    "def preprocess(text):\n",
    "    # 前処理\n",
    "    text = text.lower() # 小文字に変換\n",
    "    text = text.replace('.', ' .') # ピリオドの前にスペースを挿入\n",
    "    words = text.split(' ') # 単語ごとに分割\n",
    "    \n",
    "    # ディクショナリを初期化\n",
    "    word_to_id = {}\n",
    "    id_to_word = {}\n",
    "    \n",
    "    # 未収録の単語をディクショナリに格納\n",
    "    for word in words:\n",
    "        if word not in word_to_id: # 未収録の単語のとき\n",
    "            # 次の単語のidを取得\n",
    "            new_id = len(word_to_id)\n",
    "            \n",
    "            # 単語をキーとして単語IDを格納\n",
    "            word_to_id[word] = new_id\n",
    "            \n",
    "            # 単語IDをキーとして単語を格納\n",
    "            id_to_word[new_id] = word\n",
    "    \n",
    "    # 単語IDリストを作成\n",
    "    corpus = [word_to_id[w] for w in words]\n",
    "    \n",
    "    return corpus, word_to_id, id_to_word"
   ]
  },
  {
   "cell_type": "code",
   "execution_count": 13,
   "metadata": {},
   "outputs": [
    {
     "name": "stdout",
     "output_type": "stream",
     "text": [
      "{0: 'you', 1: 'say', 2: 'goodbye', 3: 'and', 4: 'i', 5: 'hello', 6: '.'}\n",
      "{'you': 0, 'say': 1, 'goodbye': 2, 'and': 3, 'i': 4, 'hello': 5, '.': 6}\n",
      "[0, 1, 2, 3, 4, 1, 5, 6]\n"
     ]
    }
   ],
   "source": [
    "# テキストを設定\n",
    "text = 'You say goodbye and I say hello.'\n",
    "\n",
    "# 単語と単語IDに関する変数を取得\n",
    "corpus, word_to_id, id_to_word = preprocess(text)\n",
    "print(id_to_word)\n",
    "print(word_to_id)\n",
    "print(corpus)"
   ]
  },
  {
   "cell_type": "markdown",
   "metadata": {},
   "source": [
    "### 分布仮説\n",
    "\n",
    "分布仮説（Distributional Hypothesis）は、言語学や自然言語処理の分野で重要な考え方で、単語の意味は、周囲の単語(コンテキスト)によって形成されるというものです。\n",
    "\n",
    "- 単語は、その単語が出現する文脈の集合によって意味が形成されるとされます。同じ文脈で出現する単語は、意味が似ていると考えられます。\n",
    "- 単語Aと単語Bが多くの共通の文脈で使用される場合、これらの単語は意味的に関連があると見なされます。\n",
    "\n",
    "この仮説は、単語の意味を捉えるためのモデルを作成する際に基本的な原則となっています。\n",
    "\n",
    "![](./Figure/DH.png)"
   ]
  },
  {
   "cell_type": "markdown",
   "metadata": {},
   "source": [
    "### 共起行列\n",
    "\n",
    "分布仮説に基づいた単語ベクトル化の方法を考える際、一番素直な方法は、周囲の単語を\"カウント\"することです。つまり、ある単語に着目した場合、その周囲どのような単語がどれだけ現れるのかをカウントし、それを集計するのです。\n",
    "\n",
    "ここでは、\"*You say goodbye and I say hello.*\"という文章について、ウィンドウサイズを$1$とする場合、そのコンテキストに含まれる単語の頻度をカウントしてみます。"
   ]
  },
  {
   "cell_type": "markdown",
   "metadata": {},
   "source": [
    "```{figure} ./Figure/co-occur.png\n",
    "---\n",
    "align: center\n",
    "---\n",
    "各単語について、そのコンテキストに含まれす単語の頻度\n",
    "```\n",
    "\n",
    "\n",
    "- 「You」の周辺単語は「say」のみであり、「say」にのみコンテキストの目印として共起した回数の$1$をカウントします\n",
    "- 「say」については文字列中に2回現れていることに注意すると、$[1, 0, 1, 0, 1, 1, 0]$とベクトル表記できます\n",
    "\n",
    "全ての単語に対して、共起する単語をまとめたものを共起行列と呼ばれます。"
   ]
  },
  {
   "cell_type": "code",
   "execution_count": 14,
   "metadata": {},
   "outputs": [
    {
     "name": "stdout",
     "output_type": "stream",
     "text": [
      "単語の種類数: 7\n",
      "総単語数: 8\n"
     ]
    }
   ],
   "source": [
    "# ウィンドウサイズを指定\n",
    "wndow_size = 1\n",
    "\n",
    "# 単語の種類数を取得\n",
    "vocab_size = len(word_to_id)\n",
    "print(f\"単語の種類数: {vocab_size}\")\n",
    "\n",
    "# 総単語数を取得\n",
    "corpus_size = len(corpus)\n",
    "print(f\"総単語数: {corpus_size}\")"
   ]
  },
  {
   "cell_type": "code",
   "execution_count": 15,
   "metadata": {},
   "outputs": [
    {
     "name": "stdout",
     "output_type": "stream",
     "text": [
      "[[0 0 0 0 0 0 0]\n",
      " [0 0 0 0 0 0 0]\n",
      " [0 0 0 0 0 0 0]\n",
      " [0 0 0 0 0 0 0]\n",
      " [0 0 0 0 0 0 0]\n",
      " [0 0 0 0 0 0 0]\n",
      " [0 0 0 0 0 0 0]]\n",
      "(7, 7)\n"
     ]
    }
   ],
   "source": [
    "# 共起行列を初期化\n",
    "co_matrix = np.zeros((vocab_size, vocab_size), dtype=np.int32)\n",
    "print(co_matrix)\n",
    "print(co_matrix.shape)"
   ]
  },
  {
   "cell_type": "markdown",
   "metadata": {},
   "source": [
    "コーパスの7語目の単語「hello」に注目してみます。"
   ]
  },
  {
   "cell_type": "code",
   "execution_count": 16,
   "metadata": {},
   "outputs": [
    {
     "name": "stdout",
     "output_type": "stream",
     "text": [
      "5\n",
      "hello\n"
     ]
    }
   ],
   "source": [
    "# 単語インデックスを指定\n",
    "idx = 6\n",
    "\n",
    "# 指定した単語のIDを取得\n",
    "word_id = corpus[idx]\n",
    "print(word_id)\n",
    "print(id_to_word[word_id])"
   ]
  },
  {
   "cell_type": "code",
   "execution_count": 17,
   "metadata": {},
   "outputs": [
    {
     "name": "stdout",
     "output_type": "stream",
     "text": [
      "5\n",
      "7\n"
     ]
    }
   ],
   "source": [
    "# 左隣のインデックス\n",
    "left_idx = idx - 1\n",
    "print(left_idx)\n",
    "\n",
    "# 右隣のインデックス\n",
    "right_idx = idx + 1\n",
    "print(right_idx)"
   ]
  },
  {
   "cell_type": "code",
   "execution_count": 18,
   "metadata": {},
   "outputs": [
    {
     "name": "stdout",
     "output_type": "stream",
     "text": [
      "1\n",
      "say\n",
      "[[0 0 0 0 0 0 0]\n",
      " [0 0 0 0 0 0 0]\n",
      " [0 0 0 0 0 0 0]\n",
      " [0 0 0 0 0 0 0]\n",
      " [0 0 0 0 0 0 0]\n",
      " [0 1 0 0 0 0 0]\n",
      " [0 0 0 0 0 0 0]]\n"
     ]
    }
   ],
   "source": [
    "# 左隣の単語IDを取得\n",
    "left_word_id = corpus[left_idx]\n",
    "print(left_word_id)\n",
    "print(id_to_word[left_word_id])\n",
    "\n",
    "# 共起行列に記録(加算)\n",
    "co_matrix[word_id, left_word_id] += 1\n",
    "print(co_matrix)"
   ]
  },
  {
   "cell_type": "code",
   "execution_count": 19,
   "metadata": {},
   "outputs": [
    {
     "name": "stdout",
     "output_type": "stream",
     "text": [
      "6\n",
      ".\n",
      "[[0 0 0 0 0 0 0]\n",
      " [0 0 0 0 0 0 0]\n",
      " [0 0 0 0 0 0 0]\n",
      " [0 0 0 0 0 0 0]\n",
      " [0 0 0 0 0 0 0]\n",
      " [0 1 0 0 0 0 1]\n",
      " [0 0 0 0 0 0 0]]\n",
      "[0 1 0 0 0 0 1]\n"
     ]
    }
   ],
   "source": [
    "# 右隣の単語IDを取得\n",
    "right_word_id = corpus[right_idx]\n",
    "print(right_word_id)\n",
    "print(id_to_word[right_word_id])\n",
    "\n",
    "# 共起行列に記録(加算)\n",
    "co_matrix[word_id, right_word_id] += 1\n",
    "print(co_matrix)\n",
    "\n",
    "# 対象の単語ベクトル\n",
    "print(co_matrix[word_id])"
   ]
  },
  {
   "cell_type": "markdown",
   "metadata": {},
   "source": [
    "処理を共起行列を作成する関数として実装します。"
   ]
  },
  {
   "cell_type": "code",
   "execution_count": 20,
   "metadata": {},
   "outputs": [],
   "source": [
    "# 共起行列作成関数の実装\n",
    "def create_co_matrix(corpus, vocab_size, window_size=1):\n",
    "    \n",
    "    # 総単語数を取得\n",
    "    corpus_size = len(corpus)\n",
    "    \n",
    "    # 共起行列を初期化\n",
    "    co_matrix = np.zeros((vocab_size, vocab_size), dtype=np.int32)\n",
    "    \n",
    "    # 1語ずつ処理\n",
    "    for idx, word_id in enumerate(corpus):\n",
    "        \n",
    "        # ウィンドウサイズまでの要素を順番に処理\n",
    "        for i in range(1, window_size + 1):\n",
    "            # 範囲内のインデックスを計算\n",
    "            left_idx = idx - i\n",
    "            right_idx = idx + i\n",
    "            \n",
    "            # 左側の単語の処理\n",
    "            if left_idx >= 0: # 対象の単語が最初の単語でないとき\n",
    "                # 単語IDを取得\n",
    "                left_word_id = corpus[left_idx]\n",
    "                \n",
    "                # 共起行列にカウント\n",
    "                co_matrix[word_id, left_word_id] += 1\n",
    "            \n",
    "            # 右側の単語の処理\n",
    "            if right_idx < corpus_size: # 対象の単語が最後の単語でないとき\n",
    "                # 単語IDを取得\n",
    "                right_word_id = corpus[right_idx]\n",
    "                \n",
    "                # 共起行列にカウント\n",
    "                co_matrix[word_id, right_word_id] += 1\n",
    "    \n",
    "    return co_matrix"
   ]
  },
  {
   "cell_type": "markdown",
   "metadata": {},
   "source": [
    "### ベクトル間の類似度\n",
    "\n",
    "#### コサイン類似度"
   ]
  },
  {
   "cell_type": "markdown",
   "metadata": {},
   "source": [
    "共起行列によって単語をベクトルで表すことができました。単語の意味を「計算」する手法として、ベクトル間の類似度の計測する方法について見ていきます。\n",
    "\n",
    "様々な方法がありますが、単語のベクトル表現の類似度に関して、コサイン類似度がよく用いられます。\n",
    "\n",
    "コサイン類似度とは、2つのベクトルを$\\mathbf{x} = (x_1, x_2, \\cdots, x_n), \\mathbf{y} = (y_1, y_2, \\cdots, y_n)$として、次の式で定義されます。\n",
    "\n",
    "$$\n",
    "\\begin{align}\n",
    "\\mathrm{similarity}(\\mathbf{x}, \\mathbf{y})\n",
    "   &= \\frac{\n",
    "          \\mathbf{x} \\cdot \\mathbf{y}\n",
    "      }{\n",
    "          \\|\\mathbf{x}\\| \\|\\mathbf{y}\\|\n",
    "      }\n",
    "\\\\\n",
    "   &= \\frac{\n",
    "          x_1 y_1 + x_2 y_2 + \\cdots + x_n y_n\n",
    "      }{\n",
    "          \\sqrt{x_1^2 + x_2^2 + \\cdots + x_n^2}\n",
    "          \\sqrt{y_1^2 + y_2^2 + \\cdots + y_n^2}\n",
    "      }\n",
    "\\\\\n",
    "   &= \\frac{\n",
    "          \\sum_{n} x_n y_n\n",
    "      }{\n",
    "          \\sqrt{\\sum_{n} x_n^2}\n",
    "          \\sqrt{\\sum_{n} y_n^2}\n",
    "      }\n",
    "\\end{align}\n",
    "$$\n",
    "\n",
    "- 分子はベクトルの内積\n",
    "- 分母は各ベクトルの「ノルム」(ベクトルの大きさ)があります。"
   ]
  },
  {
   "cell_type": "markdown",
   "metadata": {},
   "source": [
    "```{margin}\n",
    "epsは、$0$除算とならないための微小な値です。通常、このような小さな値は浮動小数点の「丸の誤差」により、他の値に\"吸収\"されますので、最終の計算結果に影響を与えません。\n",
    "```"
   ]
  },
  {
   "cell_type": "code",
   "execution_count": 21,
   "metadata": {},
   "outputs": [],
   "source": [
    "# コサイン類似度の実装\n",
    "def cos_similarity(x, y, eps=1e-8):\n",
    "    # コサイン類似度を計算:式(2.1)\n",
    "    nx = x / (np.sqrt(np.sum(x**2)) + eps)\n",
    "    ny = y / (np.sqrt(np.sum(y**2)) + eps)\n",
    "    return np.dot(nx, ny)"
   ]
  },
  {
   "cell_type": "markdown",
   "metadata": {},
   "source": [
    "　実装した関数を使って、ベクトルの値とコサイン類似度の値との関係を見ましょう。"
   ]
  },
  {
   "cell_type": "code",
   "execution_count": 22,
   "metadata": {},
   "outputs": [],
   "source": [
    "a_vec = np.array([5.0, 5.0])\n",
    "b_vec = np.array([3.0, 9.0])"
   ]
  },
  {
   "cell_type": "code",
   "execution_count": 23,
   "metadata": {},
   "outputs": [
    {
     "data": {
      "image/png": "[encoded data removed]",
      "text/plain": [
       "<Figure size 640x480 with 1 Axes>"
      ]
     },
     "metadata": {},
     "output_type": "display_data"
    }
   ],
   "source": [
    "import matplotlib.pyplot as plt\n",
    "#import seaborn as sns\n",
    "\n",
    "# Set Seaborn theme\n",
    "#sns.set_context(\"paper\") # or \"talk\"\n",
    "#sns.set_style(\"whitegrid\")\n",
    "\n",
    "# コサイン類似度を計算\n",
    "sim_val = cos_similarity(a_vec, b_vec)\n",
    "\n",
    "# 作図\n",
    "plt.quiver(0, 0, a_vec[0], a_vec[1], angles='xy', scale_units='xy', scale=1, color='b', label='vector a') # 有効グラフ\n",
    "plt.quiver(0, 0, b_vec[0], b_vec[1], angles='xy', scale_units='xy', scale=1, color='r', label='vector b') # 有効グラフ\n",
    "plt.xlim(min(0, a_vec[0], b_vec[0]) - 1, max(0, a_vec[0], b_vec[0]) + 1)\n",
    "plt.ylim(min(0, a_vec[1], b_vec[1]) - 1, max(0, a_vec[1], b_vec[1]) + 1)\n",
    "plt.legend() \n",
    "plt.grid() \n",
    "plt.title('Similarity:' + str(np.round(sim_val, 3)), fontsize=20)\n",
    "plt.show()"
   ]
  },
  {
   "cell_type": "code",
   "execution_count": 24,
   "metadata": {
    "tags": [
     "hide-cell"
    ]
   },
   "outputs": [
    {
     "data": {
      "image/png": "[encoded data removed]",
      "text/plain": [
       "<Figure size 1200x800 with 6 Axes>"
      ]
     },
     "metadata": {},
     "output_type": "display_data"
    }
   ],
   "source": [
    "# Function to create a subplot for vectors with a given cosine similarity\n",
    "def plot_vector_similarity(ax, similarity, vector_a):\n",
    "    # Generate vector b based on desired cosine similarity and vector a\n",
    "    angle = np.arccos(similarity)\n",
    "    vector_b = np.array([np.cos(angle), np.sin(angle)]) * np.linalg.norm(vector_a)\n",
    "    \n",
    "    # Plotting the vectors\n",
    "    ax.quiver(0, 0, vector_a[0], vector_a[1], angles='xy', scale_units='xy', scale=1, color='b', label='vector a')\n",
    "    ax.quiver(0, 0, vector_b[0], vector_b[1], angles='xy', scale_units='xy', scale=1, color='r', label='vector b')\n",
    "    \n",
    "    # Setting the limits of the plot\n",
    "    lim = np.max(np.abs(np.array([vector_a, vector_b]))) + 0.1\n",
    "    ax.set_xlim(-lim, lim)\n",
    "    ax.set_ylim(-lim, lim)\n",
    "    \n",
    "    # Adding grid, legend, and title to the subplot\n",
    "    ax.legend()\n",
    "    ax.grid(True)\n",
    "    ax.set_title('Similarity: ' + str(similarity))\n",
    "\n",
    "# Initial vector a\n",
    "a_vec = np.array([1, 0])\n",
    "\n",
    "# Similarity values to plot\n",
    "similarities = [1, 0.8, 0.5, 0, -0.5, -1]\n",
    "\n",
    "# Create subplots\n",
    "fig, axes = plt.subplots(2, 3, figsize=(12, 8))\n",
    "\n",
    "# Flatten axes array for easy iteration\n",
    "axes_flat = axes.flatten()\n",
    "\n",
    "# Plot each similarity in a subplot\n",
    "for ax, sim in zip(axes_flat, similarities):\n",
    "    plot_vector_similarity(ax, sim, a_vec)\n",
    "\n",
    "plt.tight_layout()\n",
    "plt.show()"
   ]
  },
  {
   "cell_type": "markdown",
   "metadata": {},
   "source": [
    "#### 単語間の類似度\n",
    "\n",
    "前項で作成した各単語ベクトルを用いて、2つの単語の類似度を測りましょう。\n",
    "\n",
    "比較したい2つの単語を指定して、単語ベクトルからコサイン類似度を計算します。\n",
    "\n"
   ]
  },
  {
   "cell_type": "code",
   "execution_count": 25,
   "metadata": {},
   "outputs": [
    {
     "name": "stdout",
     "output_type": "stream",
     "text": [
      "[0 1 0 0 0 0 0]\n",
      "[0 1 0 1 0 0 0]\n",
      "0.7071067691154799\n"
     ]
    }
   ],
   "source": [
    "# テキストを設定\n",
    "text = 'You say goodbye and I say hello.'\n",
    "\n",
    "# 単語と単語IDに関する変数を取得\n",
    "corpus, word_to_id, id_to_word = preprocess(text)\n",
    "\n",
    "# 単語の種類数を取得\n",
    "vocab_size = len(word_to_id)\n",
    "\n",
    "# 共起行列を作成\n",
    "word_matrix = create_co_matrix(corpus, vocab_size, window_size=1)\n",
    "\n",
    "# 単語を指定して単語ベクトルを取得\n",
    "c0 = word_matrix[word_to_id['you']]\n",
    "c1 = word_matrix[word_to_id['i']]\n",
    "print(c0)\n",
    "print(c1)\n",
    "\n",
    "# コサイン類似度を計算\n",
    "sim_val = cos_similarity(c0, c1)\n",
    "print(sim_val)"
   ]
  },
  {
   "cell_type": "markdown",
   "metadata": {},
   "source": [
    "#### 類似度のランキングを表示\n",
    "\n",
    "単語の「意味」を分析する際には、ある単語に対して類似した単語を探すことがよく挙げられます。ここでは、指定した単語との類似度が高い単語を調べる関数を実装します。"
   ]
  },
  {
   "cell_type": "code",
   "execution_count": 26,
   "metadata": {},
   "outputs": [
    {
     "name": "stdout",
     "output_type": "stream",
     "text": [
      "指定した単語のID:0\n",
      "指定した単語のベクトル: [0 1 0 0 0 0 0]\n",
      "類似度の結果：\n",
      "you:1.0\n",
      "say:0.0\n",
      "goodbye:0.70711\n",
      "and:0.0\n",
      "i:0.70711\n",
      "hello:0.70711\n",
      ".:0.0\n"
     ]
    }
   ],
   "source": [
    "# 対象とする単語を指定\n",
    "query = 'you'\n",
    "\n",
    "# 指定した単語のIDを取得\n",
    "query_id = word_to_id[query]\n",
    "print(f\"指定した単語のID:{query_id}\")\n",
    "\n",
    "# 指定した単語のベクトルを取得\n",
    "query_vec = word_matrix[query_id]\n",
    "print(f\"指定した単語のベクトル: {query_vec}\")\n",
    "\n",
    "# コサイン類似度の記録リストを初期化\n",
    "vocab_size = len(id_to_word)\n",
    "similarity = np.zeros(vocab_size)\n",
    "\n",
    "# 各単語コサイン類似度を計算\n",
    "for i in range(vocab_size):\n",
    "    similarity[i] = cos_similarity(word_matrix[i], query_vec)\n",
    "\n",
    "# 値を表示\n",
    "print(\"類似度の結果：\")\n",
    "for i,j in zip(list(word_to_id.keys()),np.round(similarity, 5)):\n",
    "    print(f\"{i}:{j}\")"
   ]
  },
  {
   "cell_type": "markdown",
   "metadata": {},
   "source": [
    "```{checkitout} argsortメソッド\n",
    " ``.argsort()``メソッドは、配列の要素の値が小さい順にインデックスを返します。ここで知りたいのは上位のインデックスのため、similarityに-1を掛けて符号を反転させることで、大小関係を逆転させます。\n",
    "\n",
    "```"
   ]
  },
  {
   "cell_type": "code",
   "execution_count": 27,
   "metadata": {
    "tags": [
     "hide-cell"
    ]
   },
   "outputs": [
    {
     "name": "stdout",
     "output_type": "stream",
     "text": [
      "[ 0 20 10 40 30]\n",
      "[0 2 1 4 3]\n",
      "[  0 -20 -10 -40 -30]\n",
      "[3 4 1 2 0]\n"
     ]
    }
   ],
   "source": [
    "# 配列を作成\n",
    "arr = np.array([0, 20, 10, 40, 30])\n",
    "print(arr)\n",
    "\n",
    "# 低い順のインデックス\n",
    "print(arr.argsort())\n",
    "\n",
    "# 大小関係を逆転\n",
    "print(-1 * arr)\n",
    "\n",
    "# 高い順のインデックス\n",
    "print((-1 * arr).argsort())"
   ]
  },
  {
   "cell_type": "code",
   "execution_count": 28,
   "metadata": {},
   "outputs": [
    {
     "name": "stdout",
     "output_type": "stream",
     "text": [
      " goodbye: 0.7071067691154799\n",
      " i: 0.7071067691154799\n",
      " hello: 0.7071067691154799\n",
      " say: 0.0\n",
      " and: 0.0\n"
     ]
    }
   ],
   "source": [
    "# 表示する順位を指定\n",
    "top = 5\n",
    "\n",
    "# 類似度上位の単語と値を表示\n",
    "count = 0 # 表示回数を初期化\n",
    "for i in (-1 * similarity).argsort():\n",
    "    \n",
    "    # 指定した単語のときは次の単語に移る\n",
    "    if id_to_word[i] == query:\n",
    "        continue\n",
    "    \n",
    "    # 単語と値を表示\n",
    "    print(' %s: %s' % (id_to_word[i], similarity[i]))\n",
    "    \n",
    "    # 指定した回数に達したら処理を終了\n",
    "    count += 1 # 表示回数を加算\n",
    "    if count >= top:\n",
    "        break"
   ]
  },
  {
   "cell_type": "code",
   "execution_count": 29,
   "metadata": {},
   "outputs": [],
   "source": [
    "# 類似度の上位単語を検索関数の実装\n",
    "def most_similar(query, word_to_id, id_to_word, word_matrix, top=5):\n",
    "    \n",
    "    # 指定した単語がテキストに含まれないとき\n",
    "    if query not in word_to_id:\n",
    "        print('%s is not found' % query)\n",
    "        return\n",
    "    \n",
    "    # 対象の単語を表示\n",
    "    print('\\n[query] ' + query)\n",
    "    \n",
    "    # 指定した単語のIDを取得\n",
    "    query_id = word_to_id[query]\n",
    "    \n",
    "    # 指定した単語のベクトルを取得\n",
    "    query_vec = word_matrix[query_id]\n",
    "    \n",
    "    # コサイン類似度を計算\n",
    "    vocab_size = len(id_to_word)\n",
    "    similarity = np.zeros(vocab_size)\n",
    "    for i in range(vocab_size):\n",
    "        similarity[i] = cos_similarity(word_matrix[i], query_vec)\n",
    "    \n",
    "    # 類似度上位の単語と値を表示\n",
    "    count = 0 # 表示回数を初期化\n",
    "    for i in (-1 * similarity).argsort():\n",
    "        \n",
    "        # 指定した単語のときは次の単語に移る\n",
    "        if id_to_word[i] == query:\n",
    "            continue\n",
    "        \n",
    "        # 単語と値を表示\n",
    "        print(' %s: %s' % (id_to_word[i], similarity[i]))\n",
    "        \n",
    "        # 指定した回数に達したら処理を終了\n",
    "        count += 1 # 表示回数を加算\n",
    "        if count >= top:\n",
    "            return"
   ]
  },
  {
   "cell_type": "code",
   "execution_count": 30,
   "metadata": {},
   "outputs": [
    {
     "name": "stdout",
     "output_type": "stream",
     "text": [
      "\n",
      "[query] you\n",
      " goodbye: 0.7071067691154799\n",
      " i: 0.7071067691154799\n",
      " hello: 0.7071067691154799\n",
      " say: 0.0\n",
      " and: 0.0\n"
     ]
    }
   ],
   "source": [
    "# クエリを指定\n",
    "query = 'you'\n",
    "\n",
    "# 類似の単語を表示\n",
    "most_similar(query, word_to_id, id_to_word, word_matrix, top=5)"
   ]
  },
  {
   "cell_type": "markdown",
   "metadata": {},
   "source": [
    "## カウントベースの手法の改善"
   ]
  },
  {
   "cell_type": "markdown",
   "metadata": {},
   "source": [
    "```{checkitout} 情報量の定義  \n",
    "事象$x$の生起確率$p(x)$を基にして情報量$I(x)$は$I(x) = - \\log_2 p(x)$になります。$0 \\leq p(x) \\leq 1$なので、$\\log p(x)$は常に負の値になる。よって符号を反転した値を情報量とすることで、常に正の値をとるようにする。$log$の底が$2$なのは、情報学分野において0と1からなるbitとの相性からよく使われるためである。\n",
    "```"
   ]
  },
  {
   "cell_type": "markdown",
   "metadata": {},
   "source": [
    "### 相互情報量\n",
    "\n",
    "ここまでは単語がテキストに出現する頻度そのままを扱いましたが、このやり方によって単語分散を計測する際、高頻度単語によるバイアスは生じる可能性があります。\n",
    "\n",
    "例えば、日本語において、「の」は非常に一般的な助詞で、さまざまな文脈で使用されます。単語の共起行列を作成するとき、「の」は非常に頻繁に出現し、多くの異なる単語とペアを形成するため、単純な共起頻度はその単語の意味のある関連性を捉えるのには不十分です。\n",
    "\n",
    "そのような問題を解決するために、相互情報量(Pointwise Mutual Information)と呼ばれる指標が使われます。"
   ]
  },
  {
   "cell_type": "markdown",
   "metadata": {},
   "source": [
    "2つの単語$x$,$y$の出現確率をそれぞれ$P(x)$,$P(y)$とします。$x$の出現確率は\n",
    "\n",
    "$$\n",
    "P(x)\n",
    "    = \\frac{C(x)}{N}\n",
    "$$\n",
    "\n",
    "で計算します。ここで$C(x)$は単語$x$が(テキストではなく)コーパス(共起行列)にカウントされた回数、$N$はコーパスの総単語数とします。\n",
    "\n",
    "また単語$x$,$y$が共起(ウィンドウサイズ内で続けて出現)した回数を$C(x,y)$とします。\n",
    "\n",
    "$$\n",
    "P(x, y)\n",
    "    = \\frac{C(x, y)}{N}\n",
    "$$\n",
    "\n",
    "これを用いて、単語$x$,$y$の相互情報量(PMI)は次のように定義されます。\n",
    "\n",
    "$$\n",
    "\\mathrm{PMI}(x, y)\n",
    "    = \\log_2 \\frac{\n",
    "          P(x, y)\n",
    "      }{\n",
    "          P(x) P(y)\n",
    "      }\n",
    "$$\n",
    "\n",
    "またこの式は、次のように変形することで\n",
    "\n",
    "$$\n",
    "\\begin{align}\n",
    "\\mathrm{PMI}(x, y)\n",
    "   &= \\log_2 \\left(\n",
    "          P(x, y)\n",
    "          \\frac{1}{P(x)}\n",
    "          \\frac{1}{P(y)}\n",
    "      \\right)\n",
    "\\\\\n",
    "   &= \\log_2 \\left( \n",
    "          \\frac{C(x, y)}{N}\n",
    "          \\frac{N}{C(x)}\n",
    "          \\frac{N}{C(y)}\n",
    "      \\right)\n",
    "\\\\\n",
    "   &= \\log_2 \\frac{\n",
    "          C(x, y) N\n",
    "      }{\n",
    "          C(x) C(y)\n",
    "      }\n",
    "\\end{align}\n",
    "$$\n",
    "\n",
    "出現回数と総単語数から直接で計算できることが分かります。\n",
    "\n",
    "ただし出現回数が0のときに不都合が生じるため、次の正の相互情報量(PPMI)を用います。\n",
    "\n",
    "$$\n",
    "\\mathrm{PPMI}(x, y)\n",
    "    = \\max(0, \\mathrm{PMI}(x, y))\n",
    "$$\n",
    "\n"
   ]
  },
  {
   "cell_type": "code",
   "execution_count": 31,
   "metadata": {},
   "outputs": [],
   "source": [
    "from tqdm.notebook import tqdm\n",
    "# 相互情報量行列の作成関数の実装\n",
    "def ppmi(C, verbose=False, eps=1e-8):\n",
    "    \n",
    "    # PPMI行列の受け皿を作成\n",
    "    M = np.zeros_like(C, dtype=np.float32)\n",
    "    \n",
    "    # PPMIに用いる値を計算\n",
    "    N = np.sum(C) # 総単語数\n",
    "    S = np.sum(C, axis=0) # 各単語の出現回数\n",
    "    \n",
    "    # 進行状況確認用の値を計算\n",
    "    total = C.shape[0] * C.shape[1]\n",
    "    cnt = 0 # 処理回数を初期化\n",
    "    \n",
    "    # 1語ずつ正の相互情報量を計算\n",
    "    for i in tqdm(range(C.shape[0])): # 各行\n",
    "        for j in range(C.shape[1]): # 各列\n",
    "            \n",
    "            # PPMIを計算\n",
    "            pmi = np.log2(C[i, j] * N / (S[j] * S[i]) + eps)\n",
    "            M[i, j] = max(0, pmi)\n",
    "    \n",
    "    return M"
   ]
  },
  {
   "cell_type": "code",
   "execution_count": 32,
   "metadata": {},
   "outputs": [
    {
     "name": "stdout",
     "output_type": "stream",
     "text": [
      "[[0 1 0 0 0 0 0]\n",
      " [1 0 1 0 1 1 0]\n",
      " [0 1 0 1 0 0 0]\n",
      " [0 0 1 0 1 0 0]\n",
      " [0 1 0 1 0 0 0]\n",
      " [0 1 0 0 0 0 1]\n",
      " [0 0 0 0 0 1 0]]\n"
     ]
    },
    {
     "data": {
      "application/vnd.jupyter.widget-view+json": {
       "model_id": "4cdc5816352a4f65b56f624e7f07928d",
       "version_major": 2,
       "version_minor": 0
      },
      "text/plain": [
       "  0%|          | 0/7 [00:00<?, ?it/s]"
      ]
     },
     "metadata": {},
     "output_type": "display_data"
    },
    {
     "name": "stdout",
     "output_type": "stream",
     "text": [
      "[[0.   1.81 0.   0.   0.   0.   0.  ]\n",
      " [1.81 0.   0.81 0.   0.81 0.81 0.  ]\n",
      " [0.   0.81 0.   1.81 0.   0.   0.  ]\n",
      " [0.   0.   1.81 0.   1.81 0.   0.  ]\n",
      " [0.   0.81 0.   1.81 0.   0.   0.  ]\n",
      " [0.   0.81 0.   0.   0.   0.   2.81]\n",
      " [0.   0.   0.   0.   0.   2.81 0.  ]]\n"
     ]
    }
   ],
   "source": [
    "# 共起行列を作成\n",
    "C = create_co_matrix(corpus, vocab_size, window_size=1)\n",
    "print(C)\n",
    "\n",
    "W = ppmi(C, verbose=True)\n",
    "\n",
    "\n",
    "# 正の相互情報量行列\n",
    "print(np.round(W, 2))"
   ]
  },
  {
   "cell_type": "markdown",
   "metadata": {},
   "source": [
    "### 次元削減\n",
    "\n",
    "次元削減は、ベクトルの次元を重要な情報を保持しながら削減する手法を指します。"
   ]
  },
  {
   "cell_type": "markdown",
   "metadata": {},
   "source": [
    "#### SVD\n",
    "\n",
    "次元削減を行う方法はいくつかあります。ここでは特異値分解(Singular Value Decomposition:SVD)を使って次元削減を行います。\n",
    "\n",
    "SVDは、任意の行列を3つの行列の積へ分解します。\n",
    "\n",
    "$A = U\\Sigma V^T$\n",
    "\n",
    "ここで、$A$は$n \\times d$の行列、$U$は$n \\times n$、$V$は$d \\times d$の直交行列です。"
   ]
  },
  {
   "cell_type": "markdown",
   "metadata": {},
   "source": [
    "\n",
    "```{checkitout} 直交行列\n",
    "直交行列とは、転置行列$A^T$と逆行列$A^{-1}$が等しくなる行列。直交行列の列ベクトル（または行ベクトル）は互いに直交し、かつ正規化されています（つまり、それぞれのベクトルの長さが1）。これは、直交行列が基底変換を行う際に、ベクトルの長さや角度を保持することを意味します。そのため、直交行列は主にベクトル空間の基底を変換する際や、回転や反射などの幾何学的変換を表現するのに用いられます。\n",
    "```\n"
   ]
  },
  {
   "cell_type": "markdown",
   "metadata": {},
   "source": [
    "![](./Figure/svd.png)\n",
    "\n",
    "- $U$は何らかの空間の基底を形成しています。ここは、$U$という行列を「単語空間」として扱うことができます。\n",
    "\n",
    "- $\\Sigma$は対角行列で、この対角成分には、「特異値」というものが大きい順で並んでいます。ここで、「特異値」は対応する軸の重要度とみなすことができます。次元削減は、この情報によって重要でない要素を削除することが考えれます。"
   ]
  },
  {
   "cell_type": "markdown",
   "metadata": {},
   "source": [
    "SVDによって、疎なベクトルが密なベクトルへ変換されています。この密なベクトルから、先頭の二つの要素を取り出すことで、元のベクトルの「情報」をできるだけ保持しながら次元を削減することができます。"
   ]
  },
  {
   "cell_type": "code",
   "execution_count": 33,
   "metadata": {},
   "outputs": [
    {
     "name": "stdout",
     "output_type": "stream",
     "text": [
      "[0 1 0 0 0 0 0]\n",
      "[0.        1.8073549 0.        0.        0.        0.        0.       ]\n",
      "[ 0.0000000e+00 -3.4094876e-01 -3.8857806e-16  1.2051624e-01\n",
      "  9.3232495e-01 -1.1102230e-16  3.2068993e-16]\n"
     ]
    }
   ],
   "source": [
    "U, S, V = np.linalg.svd(W)\n",
    "\n",
    "print(C[0]) # 共起行列\n",
    "print(W[0]) # PPMI行列\n",
    "print(U[0]) # SVD"
   ]
  },
  {
   "cell_type": "markdown",
   "metadata": {},
   "source": [
    "## カウントベースの手法による単語分散の作成"
   ]
  },
  {
   "cell_type": "code",
   "execution_count": 34,
   "metadata": {},
   "outputs": [],
   "source": [
    "import re\n",
    "import pickle\n",
    "\n",
    "with open(\"./Data/dokujo-tsushin.txt\", mode=\"r\",encoding=\"utf-8\") as f:\n",
    "    corpus = []\n",
    "    for line in f:\n",
    "        cleaned_line = line.replace('\\u3000', '').replace('\\n', '')\n",
    "        if cleaned_line!=\"\":\n",
    "            corpus.append(cleaned_line)"
   ]
  },
  {
   "cell_type": "code",
   "execution_count": 35,
   "metadata": {},
   "outputs": [
    {
     "data": {
      "text/plain": [
       "['  友人代表のスピーチ、独女はどうこなしている？',\n",
       " 'もうすぐジューン・ブライドと呼ばれる６月。独女の中には自分の式はまだなのに呼ばれてばかり……という「お祝い貧乏」状態の人も多いのではないだろうか？さらに出席回数を重ねていくと、こんなお願いごとをされることも少なくない。',\n",
       " '「お願いがあるんだけど……友人代表のスピーチ、やってくれないかな？」',\n",
       " 'さてそんなとき、独女はどう対応したらいいか？',\n",
       " '最近だとインターネット等で検索すれば友人代表スピーチ用の例文サイトがたくさん出てくるので、それらを参考にすれば、無難なものは誰でも作成できる。しかし由利さん（33歳）はネットを参考にして作成したものの「これで本当にいいのか不安でした。一人暮らしなので聞かせて感想をいってくれる人もいないし、かといって他の友人にわざわざ聞かせるのもどうかと思うし……」ということで活用したのが、なんとインターネットの悩み相談サイトに。そこに作成したスピーチ文を掲載し「これで大丈夫か添削してください」とメッセージを送ったというのである。']"
      ]
     },
     "execution_count": 35,
     "metadata": {},
     "output_type": "execute_result"
    }
   ],
   "source": [
    "corpus[:5]"
   ]
  },
  {
   "cell_type": "code",
   "execution_count": 36,
   "metadata": {},
   "outputs": [],
   "source": [
    "#!pip install mecab-python3\n",
    "#!pip install unidic-lite"
   ]
  },
  {
   "cell_type": "code",
   "execution_count": 37,
   "metadata": {},
   "outputs": [
    {
     "name": "stderr",
     "output_type": "stream",
     "text": [
      "<>:8: SyntaxWarning: invalid escape sequence '\\+'\n",
      "<>:8: SyntaxWarning: invalid escape sequence '\\+'\n",
      "/var/folders/0s/grknnvt93bs7w2rbrt894wkc0000gn/T/ipykernel_13865/2217006374.py:8: SyntaxWarning: invalid escape sequence '\\+'\n",
      "  sentence = re.sub(\"[0-9]{4}-[0-9]{2}-[0-9]{2}T[0-9]{2}:[0-9]{2}:[0-9]{2}\\+[0-9]{4}\",\"\", sentence) # 注3）\n"
     ]
    }
   ],
   "source": [
    "import MeCab\n",
    "from tqdm.notebook import tqdm\n",
    "def tokenize_with_mecab(sentences):\n",
    "    # Initialize MeCab with the specified dictionary\n",
    "    corpus = []\n",
    "    for sentence in sentences:\n",
    "        sentence = re.sub(\"http://news.livedoor.com/article/detail/[0-9]{7}/\",\"\", sentence) # 注2）\n",
    "        sentence = re.sub(\"[0-9]{4}-[0-9]{2}-[0-9]{2}T[0-9]{2}:[0-9]{2}:[0-9]{2}\\+[0-9]{4}\",\"\", sentence) # 注3）\n",
    "        sentence = re.sub(\"[「」]\",\"\", sentence)\n",
    "        # Parse the sentence\n",
    "        node = mecab.parseToNode(sentence)\n",
    "        # Iterate over all nodes\n",
    "        while node:\n",
    "            # Extract the surface form of the word\n",
    "            word = node.surface\n",
    "            # Skip empty words and add to the corpus\n",
    "            if word:\n",
    "                corpus.append(word)\n",
    "            node = node.next\n",
    "    return corpus\n",
    "\n",
    "\n",
    "# Initialize the MeCab tokenizer\n",
    "mecab = MeCab.Tagger()\n",
    "#path = \"-d /opt/homebrew/lib/mecab/dic/mecab-ipadic-neologd\"\n",
    "#mecab = MeCab.Tagger(path)\n",
    "corpus = tokenize_with_mecab(corpus)"
   ]
  },
  {
   "cell_type": "code",
   "execution_count": 38,
   "metadata": {},
   "outputs": [
    {
     "data": {
      "text/plain": [
       "['友人', '代表', 'の', 'スピーチ', '、', '独女', 'は', 'どう', 'こなし', 'て']"
      ]
     },
     "execution_count": 38,
     "metadata": {},
     "output_type": "execute_result"
    }
   ],
   "source": [
    "corpus[:10]"
   ]
  },
  {
   "cell_type": "code",
   "execution_count": 39,
   "metadata": {},
   "outputs": [
    {
     "name": "stdout",
     "output_type": "stream",
     "text": [
      "id_to_word[0]: 友人\n",
      "id_to_word[1]: 代表\n",
      "id_to_word[2]: の\n",
      "\n",
      "word_to_id['女']: 3163\n",
      "word_to_id['結婚']: 148\n",
      "word_to_id['夫']: 1426\n"
     ]
    }
   ],
   "source": [
    "word_to_id = {}\n",
    "id_to_word = {}\n",
    "\n",
    "for word in corpus:\n",
    "    if word not in word_to_id:\n",
    "        new_id = len(word_to_id)\n",
    "        word_to_id[word] = new_id\n",
    "        id_to_word[new_id] = word\n",
    "        \n",
    "print('id_to_word[0]:', id_to_word[0])\n",
    "print('id_to_word[1]:', id_to_word[1])\n",
    "print('id_to_word[2]:', id_to_word[2])\n",
    "print()\n",
    "print(\"word_to_id['女']:\", word_to_id['女'])\n",
    "print(\"word_to_id['結婚']:\", word_to_id['結婚'])\n",
    "print(\"word_to_id['夫']:\", word_to_id['夫'])"
   ]
  },
  {
   "cell_type": "code",
   "execution_count": 40,
   "metadata": {},
   "outputs": [],
   "source": [
    "# リストに変換\n",
    "corpus = [word_to_id[word] for word in corpus]\n",
    "\n",
    "# NumPy配列に変換\n",
    "corpus = np.array(corpus)"
   ]
  },
  {
   "cell_type": "code",
   "execution_count": 41,
   "metadata": {},
   "outputs": [
    {
     "data": {
      "text/plain": [
       "25547"
      ]
     },
     "execution_count": 41,
     "metadata": {},
     "output_type": "execute_result"
    }
   ],
   "source": [
    "vocab_size=len(word_to_id)\n",
    "vocab_size"
   ]
  },
  {
   "cell_type": "code",
   "execution_count": 42,
   "metadata": {},
   "outputs": [],
   "source": [
    "window_size = 2\n",
    "wordvec_size = 100\n",
    "vocab_size = len(word_to_id)"
   ]
  },
  {
   "cell_type": "code",
   "execution_count": 43,
   "metadata": {},
   "outputs": [],
   "source": [
    "C=create_co_matrix(corpus,vocab_size,window_size=window_size)"
   ]
  },
  {
   "cell_type": "code",
   "execution_count": 44,
   "metadata": {},
   "outputs": [],
   "source": [
    "#W = ppmi(C)\n",
    "#np.save('./Data/W.npy', W)\n",
    "W = np.load('./Data/W.npy')"
   ]
  },
  {
   "cell_type": "code",
   "execution_count": 45,
   "metadata": {},
   "outputs": [],
   "source": [
    "from sklearn.utils.extmath import randomized_svd\n",
    "U, S, V= randomized_svd(W,n_components=wordvec_size,n_iter=5,random_state=None)"
   ]
  },
  {
   "cell_type": "code",
   "execution_count": 46,
   "metadata": {},
   "outputs": [],
   "source": [
    "word_vecs=U[:, :wordvec_size]"
   ]
  },
  {
   "cell_type": "code",
   "execution_count": 47,
   "metadata": {},
   "outputs": [
    {
     "name": "stdout",
     "output_type": "stream",
     "text": [
      "\n",
      "[query] 女\n",
      " デブ: 0.7226879000663757\n",
      " 頼りがい: 0.7069697380065918\n",
      " 技: 0.7065211534500122\n",
      " 結ば: 0.6929681897163391\n",
      " 市民: 0.683417797088623\n",
      "\n",
      "[query] 結婚\n",
      " 縁組: 0.7332433462142944\n",
      " 正子: 0.6813077926635742\n",
      " 切迫: 0.6812717318534851\n",
      " 久仁子: 0.6402035355567932\n",
      " 後押し: 0.6352586150169373\n",
      "\n",
      "[query] 彼女\n",
      " 土地: 0.8677912950515747\n",
      " つかわ: 0.8450607657432556\n",
      " ソテー: 0.8422375917434692\n",
      " 強がり: 0.8376142382621765\n",
      " まね: 0.8207266330718994\n",
      "\n",
      "[query] 秋\n",
      " 館: 0.514491081237793\n",
      " おわ: 0.5090659856796265\n",
      " 切らさ: 0.4935395121574402\n",
      " 食後: 0.4698116183280945\n",
      " 交渉: 0.4658271074295044\n"
     ]
    }
   ],
   "source": [
    "querys = ['女', '結婚', '彼女', \"秋\"]\n",
    "\n",
    "for query in querys:\n",
    "    most_similar(query, word_to_id, id_to_word, word_vecs, top=5)"
   ]
  },
  {
   "cell_type": "markdown",
   "metadata": {},
   "source": [
    "### おまけ：Pytorchでの実装"
   ]
  },
  {
   "cell_type": "code",
   "execution_count": 48,
   "metadata": {},
   "outputs": [],
   "source": [
    "import torch\n",
    "torch.backends.mps.is_available()\n",
    "\n",
    "def ppmi_torch(C, eps=1e-8):\n",
    "    device = torch.device(\"mps\" if torch.backends.mps.is_available() else \"cuda\" if torch.cuda.is_available() else \"cpu\")\n",
    "    C = torch.tensor(C, dtype=torch.float32, device=device)\n",
    "    \n",
    "    # 総単語数と各単語の出現頻度を計算\n",
    "    N = torch.sum(C)\n",
    "    S = torch.sum(C, dim=0, keepdim=True)  # 各単語の出現回数（列方向）\n",
    "    \n",
    "    # PPMIの計算（ループなし）\n",
    "    pmi = torch.log2(C * N / (S.t() * S) + eps)  # PMI行列を一括計算\n",
    "    M = torch.max(pmi, torch.tensor(0.0, device=device))  # PPMI行列を計算\n",
    "    \n",
    "    return M  # 必要であればCPUに戻す"
   ]
  },
  {
   "cell_type": "code",
   "execution_count": 49,
   "metadata": {},
   "outputs": [],
   "source": [
    "W = ppmi_torch(C)"
   ]
  },
  {
   "cell_type": "code",
   "execution_count": 50,
   "metadata": {},
   "outputs": [],
   "source": [
    "from sklearn.utils.extmath import randomized_svd\n",
    "U, S, V= randomized_svd(W.cpu().numpy(),n_components=wordvec_size,n_iter=5,random_state=None)"
   ]
  },
  {
   "cell_type": "code",
   "execution_count": 51,
   "metadata": {},
   "outputs": [],
   "source": [
    "word_vecs=U[:, :wordvec_size]"
   ]
  },
  {
   "cell_type": "code",
   "execution_count": 52,
   "metadata": {},
   "outputs": [
    {
     "name": "stdout",
     "output_type": "stream",
     "text": [
      "\n",
      "[query] 女\n",
      " 男: 0.7777467966079712\n",
      " 男子: 0.5937835574150085\n",
      " 独女: 0.5688649415969849\n",
      " 男性: 0.5374248027801514\n",
      " 女性: 0.5247462391853333\n",
      "\n",
      "[query] 結婚\n",
      " 離婚: 0.6396859288215637\n",
      " 交際: 0.5854832530021667\n",
      " 迎え: 0.5492004156112671\n",
      " 入籍: 0.5393035411834717\n",
      " 出産: 0.5391035676002502\n",
      "\n",
      "[query] 彼女\n",
      " 彼: 0.7317190170288086\n",
      " 娘: 0.610599935054779\n",
      " 夫: 0.6025635600090027\n",
      " 友人: 0.6021445989608765\n",
      " 母親: 0.5997404456138611\n",
      "\n",
      "[query] 秋\n",
      " 春: 0.7465042471885681\n",
      " 夏: 0.7199810743331909\n",
      " 冬: 0.6601986289024353\n",
      " フェス: 0.659843921661377\n",
      " 季節: 0.6529552936553955\n"
     ]
    }
   ],
   "source": [
    "querys = ['女', '結婚', '彼女', \"秋\"]\n",
    "\n",
    "for query in querys:\n",
    "    most_similar(query, word_to_id, id_to_word, word_vecs, top=5)"
   ]
  },
  {
   "cell_type": "code",
   "execution_count": null,
   "metadata": {},
   "outputs": [],
   "source": []
  }
 ],
 "metadata": {
  "kernelspec": {
   "display_name": "jupyterbook",
   "language": "python",
   "name": "python3"
  },
  "language_info": {
   "codemirror_mode": {
    "name": "ipython",
    "version": 3
   },
   "file_extension": ".py",
   "mimetype": "text/x-python",
   "name": "python",
   "nbconvert_exporter": "python",
   "pygments_lexer": "ipython3",
   "version": "3.10.13"
  }
 },
 "nbformat": 4,
 "nbformat_minor": 2
}
