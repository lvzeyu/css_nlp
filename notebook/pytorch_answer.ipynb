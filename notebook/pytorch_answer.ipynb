{
 "cells": [
  {
   "cell_type": "code",
   "execution_count": 1,
   "id": "0efb711a",
   "metadata": {},
   "outputs": [
    {
     "name": "stdout",
     "output_type": "stream",
     "text": [
      "dz/dx1 = 6.0\n",
      "dz/dx2 = 12.0\n",
      "dz/dy  = 5.0\n"
     ]
    }
   ],
   "source": [
    "import torch\n",
    "\n",
    "# 変数を定義（勾配を計算するために requires_grad=True を指定）\n",
    "x1 = torch.tensor(1.0, requires_grad=True)\n",
    "x2 = torch.tensor(2.0, requires_grad=True)\n",
    "y  = torch.tensor(3.0, requires_grad=True)\n",
    "\n",
    "# 関数を定義\n",
    "z = (x1**2 + x2**2) * y\n",
    "\n",
    "# 勾配を計算\n",
    "z.backward()\n",
    "\n",
    "# 勾配の表示\n",
    "print(\"dz/dx1 =\", x1.grad.item())\n",
    "print(\"dz/dx2 =\", x2.grad.item())\n",
    "print(\"dz/dy  =\", y.grad.item())"
   ]
  },
  {
   "cell_type": "code",
   "execution_count": null,
   "id": "720072be",
   "metadata": {},
   "outputs": [],
   "source": []
  }
 ],
 "metadata": {
  "kernelspec": {
   "display_name": "jupyterbook",
   "language": "python",
   "name": "python3"
  },
  "language_info": {
   "codemirror_mode": {
    "name": "ipython",
    "version": 3
   },
   "file_extension": ".py",
   "mimetype": "text/x-python",
   "name": "python",
   "nbconvert_exporter": "python",
   "pygments_lexer": "ipython3",
   "version": "3.12.1"
  }
 },
 "nbformat": 4,
 "nbformat_minor": 5
}
