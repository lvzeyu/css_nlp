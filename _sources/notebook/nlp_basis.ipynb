{
 "cells": [
  {
   "cell_type": "markdown",
   "metadata": {},
   "source": [
    "# 自然言語処理の基礎"
   ]
  },
  {
   "cell_type": "markdown",
   "metadata": {},
   "source": [
    "## コーパス \n",
    "\n",
    "### コーパスとは\n",
    "\n",
    "「コーパス（Corpus）」とは、自然言語の文章や使い方を大規模に収集し、コンピュータで検索できるよう整理されたデータのことです。\n",
    "\n",
    "コーパスが大きく「ラベル付きコーパス」と「ラベルなしコーパス」に分けられます。\n",
    "\n",
    "- ラベルなしコーパス: 注釈付けを行わずにテキストを集めただけのコーパス。例えば、スクリーンスクレイピングによる取得するウェブベージの生テキストデータ。\n",
    "- ラベル付きコーパス: ラベル付きコーパスとは、テキストに付加情報（ラベルや注釈）が付与されているコーパスのことを指します。このラベルは、特定のタスクや研究の目的に応じてデータに追加されます。\n",
    "    - 品詞タグ付きコーパス: 各単語に品詞（名詞、動詞、形容詞など, part of speech）のタグが付けられています。これは、文法的構造の理解や、品詞タガーの訓練データとして使用されます。\n",
    "    - 固有名詞抽出のためのコーパス: テキスト内の固有名詞（人名、地名、組織名など）に対して、該当するラベルが付けられています。\n",
    "\n",
    "```\n",
    "<sentence>\n",
    "　<LUW B=\"B\" SL=\"v\" l_lemma=\"公共工事請け負い金額\" l_lForm=\"コウキョウコウジウケオイキンガク\" l_wType=\"混\" l_pos=\"名詞-普通名詞-一般\" >\n",
    "　　<SUW lemma=\"公共\" lForm=\"コウキョウ\" wType=\"漢\" pos=\"名詞-普通名詞-一般\" pron=\"コーキョー\">\n",
    "　　　公共\n",
    "　　</SUW>\n",
    "　　<SUW lemma=\"工事\" lForm=\"コウジ\" wType=\"漢\" pos=\"名詞-普通名詞-サ変可能\" pron=\"コージ\">\n",
    "　　　工事\n",
    "　　</SUW>\n",
    "　　<SUW lemma=\"請け負い\" lForm=\"ウケオイ\" wType=\"和\" pos=\"名詞-普通名詞-一般\" pron=\"ウケオイ\">\n",
    "　　　請負\n",
    "　　</SUW>\n",
    "　　<SUW lemma=\"金額\" lForm=\"キンガク\" wType=\"漢\" pos=\"名詞-普通名詞-一般\" pron=\"キンガク\">\n",
    "　　　金額\n",
    "　　</SUW>\n",
    "　</LUW>\n",
    "　<LUW SL=\"v\" l_lemma=\"の\" l_lForm=\"ノ\" l_wType=\"和\" l_pos=\"助詞-格助詞\" >\n",
    "　　<SUW lemma=\"の\" lForm=\"ノ\" wType=\"和\" pos=\"助詞-格助詞\" pron=\"ノ\">の</SUW>\n",
    "　</LUW>\n",
    "　<LUW B=\"B\" SL=\"v\" l_lemma=\"動き\" l_lForm=\"ウゴキ\" l_wType=\"和\" l_pos=\"名詞-普通名詞-一般\" >\n",
    "　　<SUW lemma=\"動き\" lForm=\"ウゴキ\" wType=\"和\" pos=\"名詞-普通名詞-一般\" pron=\"ウゴキ\">\n",
    "　　　動き\n",
    "　　</SUW>\n",
    "　</LUW>\n",
    "（略）\n",
    "</sentence>\n",
    "```"
   ]
  },
  {
   "cell_type": "markdown",
   "metadata": {},
   "source": [
    "### コーパスの読み込み\n"
   ]
  },
  {
   "cell_type": "markdown",
   "metadata": {},
   "source": [
    "多くのコーパスは、*txt*,*csv*,*tsv*, *json*フォーマットで格納されていますので、pythonでこれらのファイルを読み込む方法について紹介します。"
   ]
  },
  {
   "cell_type": "markdown",
   "metadata": {},
   "source": [
    "#### ファイル読み込みの基礎\n",
    "\n",
    "読み込み・書き込みいずれの場合も組み込み関数```open()```でファイルを開きます。\n",
    "- 第一引数に指定したパス文字列が示すファイルオブジェクトが開かれます。\n",
    "- 引数```mode```を```r```とすると読み込みモードでファイルが開かれます。デフォルト値は```r```なので省略してもよい。\n",
    "- テキストファイル読み込み時のデコード、書き込み時のエンコードで使われるエンコーディングは引数```encoding```で指定する。日本語環境で使われるものとしては```cp932```, ```euc_jp```, ```shift_jis```, ```utf_8```などがあります。\n",
    "\n"
   ]
  },
  {
   "cell_type": "code",
   "execution_count": 37,
   "metadata": {},
   "outputs": [
    {
     "name": "stdout",
     "output_type": "stream",
     "text": [
      "この商品はとても素晴らしい。\n",
      "残念ながら、私の期待を下回る製品でした。\n",
      "非常に使いやすく、価格も手頃。おすすめです！\n",
      "この商品には全く魅力を感じませんでした。\n",
      "\n"
     ]
    }
   ],
   "source": [
    "with open(\"./Data/corpus.txt\",mode=\"r\",encoding=\"utf-8\") as f:\n",
    "    s = f.read()\n",
    "    print(s)"
   ]
  },
  {
   "cell_type": "markdown",
   "metadata": {},
   "source": [
    "```readlines()```メソッドで、ファイル全体を行ごとに分割したリストとして取得できます。"
   ]
  },
  {
   "cell_type": "code",
   "execution_count": 38,
   "metadata": {},
   "outputs": [
    {
     "name": "stdout",
     "output_type": "stream",
     "text": [
      "この商品はとても素晴らしい。\n",
      "\n",
      "-----------\n",
      "残念ながら、私の期待を下回る製品でした。\n",
      "\n",
      "-----------\n",
      "非常に使いやすく、価格も手頃。おすすめです！\n",
      "\n",
      "-----------\n",
      "この商品には全く魅力を感じませんでした。\n",
      "\n",
      "-----------\n"
     ]
    }
   ],
   "source": [
    "with open(\"./Data/corpus.txt\",mode=\"r\",encoding=\"utf-8\") as f:\n",
    "    s = f.readlines()\n",
    "    for i in s:\n",
    "        print(i)\n",
    "        print(\"-----------\")"
   ]
  },
  {
   "cell_type": "markdown",
   "metadata": {},
   "source": [
    "#### csvファイルとtsvファイルの読み込み\n",
    "\n",
    "csvは、値がカンマで区切られたファイル形式です。\n",
    "\n",
    "tsvは、値がタブで区切られたファイル形式です。\n",
    "\n",
    "ファイルの読み込みは、```Pandas```を使って行うことがでします。\n",
    "\n",
    "```\n",
    "pd.read_csv(\"example.csv\", encoding =\"uft-8\")\n",
    "```\n"
   ]
  },
  {
   "cell_type": "markdown",
   "metadata": {},
   "source": [
    "#### jsonファイルの読み込み\n",
    "\n",
    "JSONは、構造化されたデータをテキスト形式で表現するためのフォーマットです。\n",
    "\n",
    "```\n",
    "[\n",
    "    {\n",
    "        \"id\": 1,\n",
    "        \"name\": \"Taro Yamada\",\n",
    "        \"age\": 25,\n",
    "        \"city\": \"Tokyo\"\n",
    "    },\n",
    "    {\n",
    "        \"id\": 2,\n",
    "        \"name\": \"Hanako Tanaka\",\n",
    "        \"age\": 30,\n",
    "        \"city\": \"Osaka\"\n",
    "    },\n",
    "    {\n",
    "        \"id\": 3,\n",
    "        \"name\": \"Jiro Suzuki\",\n",
    "        \"age\": 35,\n",
    "        \"city\": \"Kyoto\"\n",
    "    }\n",
    "]\n",
    "```\n",
    "\n",
    "```Pandas```の```read_json```メソッドを使って読み込めます。\n",
    "\n",
    "特に、改行で区切られたJSONファイルはjsonlで呼ばれます。\n",
    "\n",
    "```\n",
    "{\"id\": 1, \"name\": \"Taro Yamada\", \"age\": 25, \"city\": \"Tokyo\"}\n",
    "{\"id\": 2, \"name\": \"Hanako Tanaka\", \"age\": 30, \"city\": \"Osaka\"}\n",
    "{\"id\": 3, \"name\": \"Jiro Suzuki\", \"age\": 35, \"city\": \"Kyoto\"}\n",
    "```\n",
    "\n",
    "jsonl形式のファイルを読み込むには、```read_json```メソッドの```lines```引数に```lines=True```を設定する必要があります。"
   ]
  },
  {
   "cell_type": "markdown",
   "metadata": {},
   "source": [
    "## テキストの前処理\n",
    "\n",
    "### 正規表現によるノイズの除去\n",
    "\n",
    "テキストから不要な情報やノイズを取り除き、解析や処理を行いやすくするための前処理が不可欠になります。\n",
    "\n",
    "テキストクリーニングを行う際に、正規表現を利用すると非常に柔軟にノイズの除去が可能です。以下、いくつかの一般的なケースを例に、テキストからノイズを除去する方法を紹介します。"
   ]
  },
  {
   "cell_type": "code",
   "execution_count": 39,
   "metadata": {},
   "outputs": [
    {
     "name": "stdout",
     "output_type": "stream",
     "text": [
      "この記事は に投稿されました。\n"
     ]
    }
   ],
   "source": [
    "import re\n",
    "\n",
    "#ウェブページやSNSのテキストからURLを取り除く場合:\n",
    "text = \"この記事はhttp://example.com に投稿されました。\"\n",
    "cleaned_text = re.sub(r'http\\S+', '', text)\n",
    "print(cleaned_text)"
   ]
  },
  {
   "cell_type": "code",
   "execution_count": 40,
   "metadata": {},
   "outputs": [
    {
     "name": "stdout",
     "output_type": "stream",
     "text": [
      "今日は年月日です。\n"
     ]
    }
   ],
   "source": [
    "# HTMLタグの除去: HTMLコンテンツからタグを取り除く場合:\n",
    "text = \"今日は2023年9月16日です。\"\n",
    "cleaned_text = re.sub(r'\\d', '', text)\n",
    "print(cleaned_text)"
   ]
  },
  {
   "cell_type": "code",
   "execution_count": 41,
   "metadata": {},
   "outputs": [
    {
     "name": "stdout",
     "output_type": "stream",
     "text": [
      "これはテストです。\n"
     ]
    }
   ],
   "source": [
    "#テキストからアルファベットのみを取り除く場合:\n",
    "text = \"これはテストtextです。\"\n",
    "cleaned_text = re.sub(r'[a-zA-Z]', '', text)\n",
    "print(cleaned_text)"
   ]
  },
  {
   "cell_type": "markdown",
   "metadata": {},
   "source": [
    "### トークン化\n",
    "\n",
    "コンピュータは、入力として生の文字列を受け取ることができません。その代わりに、テキストがトークン化され、数値ベクトルとしてエンコードされていることが想定しています。\n",
    "\n",
    "トークン化は、文字列をモデルで使用される最小単位に分解するステップです。\n",
    "\n",
    "日本語は英語などとは異なり、単語の間に（スペースなどの）区切りをつけないので、文から単語を取り出すこと自体が一つのタスクとなります。文から単語（正確には形態素と呼ばれる意味の最小単位）を取り出す解析を形態素解析といいます。\n",
    "\n",
    "\n",
    "イメージとしては以下のように分割します。\n",
    "\n",
    "- 分かち書き（文章を形態素で分ける）\n",
    "- 品詞わけ（名詞や動詞などに分類する）\n",
    "- 原型付与（単語の基本形をだす） 例：食べた ⇒ 食べる、た\n",
    "\n",
    "![](./Figure/token.png)\n",
    "\n",
    "\n",
    "日本語の形態素解析ツールとしては、MeCabやJUMAN++、Janomeなどが挙げられます。ここでは、MeCabを使って形態素解析をしてみましょう。\n",
    "\n",
    "初めてMeCabを使う場合、```!```が付いたコードをJupyter Notebookで実行するか、```!```を除去したコードをターミナルで実行し、MeCabを導入してください。\n",
    "\n",
    "```\n",
    "!pip install mecab-python3 # mecab-python3のインストール\n",
    "!pip install unidic\n",
    "!python -m unidic download # 辞書のダウンロード\n",
    "```"
   ]
  },
  {
   "cell_type": "markdown",
   "metadata": {},
   "source": [
    "結果を確認すると、単語に分割されていますが、デフォルトの設定では新語に対する解析は強くないことがわかります。"
   ]
  },
  {
   "cell_type": "code",
   "execution_count": 52,
   "metadata": {},
   "outputs": [
    {
     "name": "stdout",
     "output_type": "stream",
     "text": [
      "友\t名詞,普通名詞,一般,,,,トモ,友,友,トモ,友,トモ,和,\"\",\"\",\"\",\"\",\"\",\"\",体,トモ,トモ,トモ,トモ,\"1\",\"C3\",\"\",7324130487706112,26645\n",
      "たち\t接尾辞,名詞的,一般,,,,タチ,達,たち,タチ,たち,タチ,和,\"タ濁\",\"基本形\",\"\",\"\",\"\",\"\",接尾体,タチ,タチ,タチ,タチ,\"\",\"C3\",\"\",6149852035686912,22373\n",
      "と\t助詞,格助詞,,,,,ト,と,と,ト,と,ト,和,\"\",\"\",\"\",\"\",\"\",\"\",格助,ト,ト,ト,ト,\"\",\"名詞%F1,動詞%F1,形容詞%F2@-1\",\"\",7099014038299136,25826\n",
      "国立\t名詞,普通名詞,一般,,,,コクリツ,国立,国立,コクリツ,国立,コクリツ,漢,\"\",\"\",\"\",\"\",\"\",\"\",体,コクリツ,コクリツ,コクリツ,コクリツ,\"0\",\"C2\",\"\",3460171716239872,12588\n",
      "新\t接頭辞,,,,,,シン,新,新,シン,新,シン,漢,\"\",\"\",\"\",\"\",\"\",\"\",接頭,シン,シン,シン,シン,\"\",\"P2\",\"\",4736429838180864,17231\n",
      "美術\t名詞,普通名詞,一般,,,,ビジュツ,美術,美術,ビジュツ,美術,ビジュツ,漢,\"\",\"\",\"\",\"\",\"\",\"\",体,ビジュツ,ビジュツ,ビジュツ,ビジュツ,\"1\",\"C1\",\"\",8801049481716224,32018\n",
      "館\t接尾辞,名詞的,一般,,,,カン,館,館,カン,館,カン,漢,\"\",\"\",\"\",\"\",\"\",\"\",接尾体,カン,カン,カン,カン,\"\",\"C3\",\"\",2056095367569920,7480\n",
      "に\t助詞,格助詞,,,,,ニ,に,に,ニ,に,ニ,和,\"\",\"\",\"\",\"\",\"\",\"\",格助,ニ,ニ,ニ,ニ,\"\",\"名詞%F1\",\"\",7745518285496832,28178\n",
      "行っ\t動詞,非自立可能,,,五段-カ行,連用形-促音便,イク,行く,行っ,イッ,行く,イク,和,\"\",\"\",\"\",\"\",\"\",\"\",用,イッ,イク,イッ,イク,\"0\",\"C2\",\"\",470874511778436,1713\n",
      "た\t助動詞,,,,助動詞-タ,終止形-一般,タ,た,た,タ,た,タ,和,\"\",\"\",\"\",\"\",\"\",\"\",助動,タ,タ,タ,タ,\"\",\"動詞%F2@1,形容詞%F4@-2\",\"\",5948916285711019,21642\n",
      "。\t補助記号,句点,,,,,,。,。,,。,,記号,\"\",\"\",\"\",\"\",\"\",\"\",補助,,,,,\"\",\"\",\"\",6880571302400,25\n",
      "EOS\n",
      "\n"
     ]
    }
   ],
   "source": [
    "# !pip install mecab-python3 # mecab-python3のインストール\n",
    "# !pip install unidic\n",
    "# !python -m unidic download # 辞書のダウンロード\n",
    "import MeCab\n",
    "import unidic\n",
    "tagger = MeCab.Tagger() \n",
    "print(tagger.parse(\"友たちと国立新美術館に行った。\"))"
   ]
  },
  {
   "cell_type": "markdown",
   "metadata": {},
   "source": [
    "この問題は形態素解析器に辞書を追加することである程度解決することが出来ます。特に、*NEologd*という辞書には、通常の辞書と比べて多くの新語が含まれています。"
   ]
  },
  {
   "cell_type": "code",
   "execution_count": 71,
   "metadata": {},
   "outputs": [
    {
     "name": "stdout",
     "output_type": "stream",
     "text": [
      "Mecab ipadic NEologd:\n",
      " 友\t名詞,一般,*,*,*,*,友,トモ,トモ\n",
      "たち\t名詞,接尾,一般,*,*,*,たち,タチ,タチ\n",
      "と\t助詞,並立助詞,*,*,*,*,と,ト,ト\n",
      "国立新美術館\t名詞,固有名詞,一般,*,*,*,国立新美術館,コクリツシンビジュツカン,コクリツシンビジュツカン\n",
      "に\t助詞,格助詞,一般,*,*,*,に,ニ,ニ\n",
      "行っ\t動詞,自立,*,*,五段・カ行促音便,連用タ接続,行く,イッ,イッ\n",
      "た\t助動詞,*,*,*,特殊・タ,基本形,た,タ,タ\n",
      "。\t記号,句点,*,*,*,*,。,。,。\n",
      "EOS\n",
      "\n"
     ]
    }
   ],
   "source": [
    "sample_txt = \"友たちと国立新美術館に行った。\"\n",
    "path = \"-d /opt/homebrew/lib/mecab/dic/mecab-ipadic-neologd\"\n",
    "m = MeCab.Tagger(path)\n",
    "print(\"Mecab ipadic NEologd:\\n\",m.parse(sample_txt))"
   ]
  },
  {
   "cell_type": "code",
   "execution_count": 10,
   "metadata": {},
   "outputs": [
    {
     "data": {
      "text/html": [
       "<div>\n",
       "<style scoped>\n",
       "    .dataframe tbody tr th:only-of-type {\n",
       "        vertical-align: middle;\n",
       "    }\n",
       "\n",
       "    .dataframe tbody tr th {\n",
       "        vertical-align: top;\n",
       "    }\n",
       "\n",
       "    .dataframe thead th {\n",
       "        text-align: right;\n",
       "    }\n",
       "</style>\n",
       "<table border=\"1\" class=\"dataframe\">\n",
       "  <thead>\n",
       "    <tr style=\"text-align: right;\">\n",
       "      <th></th>\n",
       "      <th>text</th>\n",
       "      <th>source</th>\n",
       "      <th>label</th>\n",
       "    </tr>\n",
       "  </thead>\n",
       "  <tbody>\n",
       "    <tr>\n",
       "      <th>0</th>\n",
       "      <td>普段使いとバイクに乗るときのブーツ兼用として購入しました。見た目や履き心地は良いです。 しか...</td>\n",
       "      <td>amazon_reviews_multi</td>\n",
       "      <td>2</td>\n",
       "    </tr>\n",
       "    <tr>\n",
       "      <th>1</th>\n",
       "      <td>十分な在庫を用意できない販売元も悪いですが、Amazonやら楽⚪︎が転売を認めちゃってるのが...</td>\n",
       "      <td>amazon_reviews_multi</td>\n",
       "      <td>2</td>\n",
       "    </tr>\n",
       "    <tr>\n",
       "      <th>2</th>\n",
       "      <td>見た目はかなりおしゃれで気に入りました。2、3回持ち歩いた後いつも通りゼンマイを巻いていたら...</td>\n",
       "      <td>amazon_reviews_multi</td>\n",
       "      <td>2</td>\n",
       "    </tr>\n",
       "    <tr>\n",
       "      <th>3</th>\n",
       "      <td>よくある部分での断線はしませんでした ただiphoneとの接続部で接触不良、折れました ip...</td>\n",
       "      <td>amazon_reviews_multi</td>\n",
       "      <td>2</td>\n",
       "    </tr>\n",
       "    <tr>\n",
       "      <th>4</th>\n",
       "      <td>プラモデルの塗装剥離に使う為に購入 届いて早速使ってみた 結果 １ヶ月経っても未だに剥離出来...</td>\n",
       "      <td>amazon_reviews_multi</td>\n",
       "      <td>2</td>\n",
       "    </tr>\n",
       "    <tr>\n",
       "      <th>...</th>\n",
       "      <td>...</td>\n",
       "      <td>...</td>\n",
       "      <td>...</td>\n",
       "    </tr>\n",
       "    <tr>\n",
       "      <th>119995</th>\n",
       "      <td>初孫の為に購入しました。近所におもちゃ屋さんがなく、ベビー服のお店にあるかと思ったのですが、...</td>\n",
       "      <td>amazon_reviews_multi</td>\n",
       "      <td>0</td>\n",
       "    </tr>\n",
       "    <tr>\n",
       "      <th>119996</th>\n",
       "      <td>よかったです！見た目も可愛い！ラインが入っているのが特に気に入りました。シンプル可愛い感じですね。</td>\n",
       "      <td>amazon_reviews_multi</td>\n",
       "      <td>0</td>\n",
       "    </tr>\n",
       "    <tr>\n",
       "      <th>119997</th>\n",
       "      <td>美味しい料理が、ポイントを押さえて、できます。イタリアンを作ってみたい…けど、難しそうと思っ...</td>\n",
       "      <td>amazon_reviews_multi</td>\n",
       "      <td>0</td>\n",
       "    </tr>\n",
       "    <tr>\n",
       "      <th>119998</th>\n",
       "      <td>取り付け簡単 値段も安い 明るい</td>\n",
       "      <td>amazon_reviews_multi</td>\n",
       "      <td>0</td>\n",
       "    </tr>\n",
       "    <tr>\n",
       "      <th>119999</th>\n",
       "      <td>私はよく私のfacebookの上で私が買った良いものをお勧めしますが、今回も強くお勧めします。</td>\n",
       "      <td>amazon_reviews_multi</td>\n",
       "      <td>0</td>\n",
       "    </tr>\n",
       "  </tbody>\n",
       "</table>\n",
       "<p>120000 rows × 3 columns</p>\n",
       "</div>"
      ],
      "text/plain": [
       "                                                     text  \\\n",
       "0       普段使いとバイクに乗るときのブーツ兼用として購入しました。見た目や履き心地は良いです。 しか...   \n",
       "1       十分な在庫を用意できない販売元も悪いですが、Amazonやら楽⚪︎が転売を認めちゃってるのが...   \n",
       "2       見た目はかなりおしゃれで気に入りました。2、3回持ち歩いた後いつも通りゼンマイを巻いていたら...   \n",
       "3       よくある部分での断線はしませんでした ただiphoneとの接続部で接触不良、折れました ip...   \n",
       "4       プラモデルの塗装剥離に使う為に購入 届いて早速使ってみた 結果 １ヶ月経っても未だに剥離出来...   \n",
       "...                                                   ...   \n",
       "119995  初孫の為に購入しました。近所におもちゃ屋さんがなく、ベビー服のお店にあるかと思ったのですが、...   \n",
       "119996  よかったです！見た目も可愛い！ラインが入っているのが特に気に入りました。シンプル可愛い感じですね。   \n",
       "119997  美味しい料理が、ポイントを押さえて、できます。イタリアンを作ってみたい…けど、難しそうと思っ...   \n",
       "119998                                   取り付け簡単 値段も安い 明るい   \n",
       "119999    私はよく私のfacebookの上で私が買った良いものをお勧めしますが、今回も強くお勧めします。   \n",
       "\n",
       "                      source  label  \n",
       "0       amazon_reviews_multi      2  \n",
       "1       amazon_reviews_multi      2  \n",
       "2       amazon_reviews_multi      2  \n",
       "3       amazon_reviews_multi      2  \n",
       "4       amazon_reviews_multi      2  \n",
       "...                      ...    ...  \n",
       "119995  amazon_reviews_multi      0  \n",
       "119996  amazon_reviews_multi      0  \n",
       "119997  amazon_reviews_multi      0  \n",
       "119998  amazon_reviews_multi      0  \n",
       "119999  amazon_reviews_multi      0  \n",
       "\n",
       "[120000 rows x 3 columns]"
      ]
     },
     "execution_count": 10,
     "metadata": {},
     "output_type": "execute_result"
    }
   ],
   "source": [
    "dataset.set_format(\"pandas\")\n",
    "data= dataset[\"train\"][:]\n",
    "data"
   ]
  },
  {
   "cell_type": "code",
   "execution_count": 19,
   "metadata": {},
   "outputs": [
    {
     "data": {
      "text/plain": [
       "'普段使いとバイクに乗るときのブーツ兼用として購入しました。見た目や履き心地は良いです。 しかし、２ヶ月履いたらゴム底が削れて無くなりました。また、バイクのシフトペダルとの摩擦で表皮が剥がれ、本革でないことが露呈しました。ちなみに防水とも書いていますが、雨の日は内部に水が染みます。 安くて見た目も良く、履きやすかったのですが、耐久性のなさ、本革でも防水でも無かったことが残念です。結局、本革の防水ブーツを買い直しました。'"
      ]
     },
     "execution_count": 19,
     "metadata": {},
     "output_type": "execute_result"
    }
   ],
   "source": [
    "data[\"text\"][0]"
   ]
  },
  {
   "cell_type": "markdown",
   "metadata": {},
   "source": [
    "Pythonにとるテキストクリーニングについて、テキストクリーニングの必要性を説明し、正規表現を使ったノイズの除去を例を挙げなから説明してください\n"
   ]
  }
 ],
 "metadata": {
  "kernelspec": {
   "display_name": "base",
   "language": "python",
   "name": "python3"
  },
  "language_info": {
   "codemirror_mode": {
    "name": "ipython",
    "version": 3
   },
   "file_extension": ".py",
   "mimetype": "text/x-python",
   "name": "python",
   "nbconvert_exporter": "python",
   "pygments_lexer": "ipython3",
   "version": "3.10.9"
  },
  "orig_nbformat": 4
 },
 "nbformat": 4,
 "nbformat_minor": 2
}
