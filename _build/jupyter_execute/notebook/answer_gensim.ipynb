{
 "cells": [
  {
   "cell_type": "code",
   "execution_count": 1,
   "metadata": {},
   "outputs": [],
   "source": [
    "from gensim.models import Word2Vec\n",
    "import MeCab\n",
    "def tokenize(text):\n",
    "    \"\"\" テキストを形態素解析して、トークンのリストを返す \"\"\"\n",
    "    mecab = MeCab.Tagger(\"-Owakati\")\n",
    "    return mecab.parse(text).strip().split()\n",
    "with open('./Data/dokujo-tsushin.txt', 'r', encoding='utf-8') as file:\n",
    "    corpus = [line.strip() for line in file if line.strip()]  # 空白行をスキップ\n"
   ]
  },
  {
   "cell_type": "code",
   "execution_count": 2,
   "metadata": {},
   "outputs": [],
   "source": [
    "tokenized_documents = [tokenize(doc) for doc in corpus]"
   ]
  },
  {
   "cell_type": "code",
   "execution_count": 3,
   "metadata": {},
   "outputs": [],
   "source": [
    "model_jp = Word2Vec(sentences=tokenized_documents, vector_size=100, window=5, min_count=1, workers=4)"
   ]
  },
  {
   "cell_type": "code",
   "execution_count": 4,
   "metadata": {},
   "outputs": [
    {
     "data": {
      "text/plain": [
       "array([-0.42390206,  1.1417792 ,  0.39490527,  0.01861866, -0.0580457 ,\n",
       "       -1.0609587 ,  0.35490078,  0.698109  , -0.99512666, -0.77484024,\n",
       "       -0.61340576, -0.7312136 ,  0.6898073 ,  0.03087586, -0.3631231 ,\n",
       "       -0.6893097 ,  0.31434277, -0.7462328 , -1.0427057 ,  0.05590496,\n",
       "       -0.36251545,  0.47453773, -0.04416125, -0.5120807 ,  0.5361824 ,\n",
       "        0.19517706, -0.26864764, -0.25809255, -0.50550985, -0.36159402,\n",
       "       -0.82905704, -0.02751032,  0.27843806, -0.06855041, -0.41776097,\n",
       "        0.3799754 , -0.07990406, -0.5167496 ,  0.52756983, -0.26479518,\n",
       "       -0.4523949 , -0.05233534,  0.3776077 , -0.5340258 ,  0.7052093 ,\n",
       "        0.00602448, -1.0807167 , -0.2795185 ,  0.49017465,  0.40885422,\n",
       "        0.03972309, -0.501853  , -0.5518711 , -0.1882381 , -1.1514312 ,\n",
       "        0.1751215 ,  0.8482001 ,  0.15459247, -0.04581664, -0.10349711,\n",
       "        0.60894406,  0.38792682, -0.09221508,  0.3402899 , -0.5933291 ,\n",
       "        1.1737163 , -0.36427304, -0.12396126, -0.03914814,  0.38889903,\n",
       "        0.1816439 ,  1.4834834 ,  0.6196622 , -0.10348368,  0.13463841,\n",
       "        0.5963316 ,  0.21797565, -0.6445267 , -0.37198618,  0.42059252,\n",
       "       -0.13520981, -0.20013992, -1.2686193 ,  0.29227656,  0.08969677,\n",
       "       -0.5140202 , -0.31424028,  0.5328658 ,  0.45119774,  0.2323766 ,\n",
       "        0.8811693 ,  1.0713813 , -0.16791433,  0.56511277,  0.8405863 ,\n",
       "        0.57901603, -0.07669348, -0.18761806, -0.46556157, -0.32696384],\n",
       "      dtype=float32)"
      ]
     },
     "execution_count": 4,
     "metadata": {},
     "output_type": "execute_result"
    }
   ],
   "source": [
    "model_jp.wv['日本']"
   ]
  },
  {
   "cell_type": "code",
   "execution_count": 5,
   "metadata": {},
   "outputs": [
    {
     "data": {
      "text/plain": [
       "[('女', 0.9268308877944946),\n",
       " ('友達', 0.8252323865890503),\n",
       " ('男性', 0.7798293232917786),\n",
       " ('女の子', 0.7449547648429871),\n",
       " ('モテ', 0.7428614497184753),\n",
       " ('絶対', 0.7310413718223572),\n",
       " ('モテる', 0.7299210429191589),\n",
       " ('本当', 0.7271409630775452),\n",
       " ('彼女', 0.7237347364425659),\n",
       " ('恋人', 0.7231690883636475)]"
      ]
     },
     "execution_count": 5,
     "metadata": {},
     "output_type": "execute_result"
    }
   ],
   "source": [
    "model_jp.wv.most_similar(\"男\")"
   ]
  },
  {
   "cell_type": "code",
   "execution_count": 6,
   "metadata": {},
   "outputs": [
    {
     "name": "stdout",
     "output_type": "stream",
     "text": [
      "['fasttext-wiki-news-subwords-300', 'conceptnet-numberbatch-17-06-300', 'word2vec-ruscorpora-300', 'word2vec-google-news-300', 'glove-wiki-gigaword-50', 'glove-wiki-gigaword-100', 'glove-wiki-gigaword-200', 'glove-wiki-gigaword-300', 'glove-twitter-25', 'glove-twitter-50', 'glove-twitter-100', 'glove-twitter-200', '__testing_word2vec-matrix-synopsis']\n"
     ]
    }
   ],
   "source": [
    "import gensim.downloader\n",
    "\n",
    "print(list(gensim.downloader.info()['models'].keys()))\n",
    "model = gensim.downloader.load('word2vec-google-news-300')"
   ]
  },
  {
   "cell_type": "code",
   "execution_count": 7,
   "metadata": {},
   "outputs": [
    {
     "name": "stdout",
     "output_type": "stream",
     "text": [
      "king: 0.8449\n",
      "queen: 0.7301\n",
      "monarch: 0.6455\n",
      "princess: 0.6156\n",
      "crown_prince: 0.5819\n",
      "prince: 0.5777\n",
      "kings: 0.5614\n",
      "sultan: 0.5377\n",
      "Queen_Consort: 0.5344\n",
      "queens: 0.5290\n"
     ]
    }
   ],
   "source": [
    "# ベクトル演算を行う\n",
    "result_vector = model['king'] - model['man'] + model['woman']\n",
    "\n",
    "# 類似度の高い10語を取得\n",
    "similar_words = model.most_similar(positive=[result_vector], topn=10)\n",
    "\n",
    "# 結果を出力\n",
    "for word, similarity in similar_words:\n",
    "    print(f\"{word}: {similarity:.4f}\")"
   ]
  },
  {
   "cell_type": "code",
   "execution_count": 8,
   "metadata": {},
   "outputs": [
    {
     "ename": "AttributeError",
     "evalue": "'KeyedVectors' object has no attribute 'wv'",
     "output_type": "error",
     "traceback": [
      "\u001b[0;31m---------------------------------------------------------------------------\u001b[0m",
      "\u001b[0;31mAttributeError\u001b[0m                            Traceback (most recent call last)",
      "Cell \u001b[0;32mIn[8], line 2\u001b[0m\n\u001b[1;32m      1\u001b[0m \u001b[38;5;66;03m# ベクトル演算を行う\u001b[39;00m\n\u001b[0;32m----> 2\u001b[0m result_vector \u001b[38;5;241m=\u001b[39m \u001b[43mmodel\u001b[49m\u001b[38;5;241;43m.\u001b[39;49m\u001b[43mwv\u001b[49m[\u001b[38;5;124m'\u001b[39m\u001b[38;5;124mking\u001b[39m\u001b[38;5;124m'\u001b[39m] \u001b[38;5;241m-\u001b[39m model\u001b[38;5;241m.\u001b[39mwv[\u001b[38;5;124m'\u001b[39m\u001b[38;5;124mman\u001b[39m\u001b[38;5;124m'\u001b[39m] \u001b[38;5;241m+\u001b[39m model\u001b[38;5;241m.\u001b[39mwv[\u001b[38;5;124m'\u001b[39m\u001b[38;5;124mwoman\u001b[39m\u001b[38;5;124m'\u001b[39m]\n\u001b[1;32m      4\u001b[0m \u001b[38;5;66;03m# 類似度の高い10語を取得\u001b[39;00m\n\u001b[1;32m      5\u001b[0m similar_words \u001b[38;5;241m=\u001b[39m model\u001b[38;5;241m.\u001b[39mwv\u001b[38;5;241m.\u001b[39mmost_similar(positive\u001b[38;5;241m=\u001b[39m[result_vector], topn\u001b[38;5;241m=\u001b[39m\u001b[38;5;241m10\u001b[39m)\n",
      "\u001b[0;31mAttributeError\u001b[0m: 'KeyedVectors' object has no attribute 'wv'"
     ]
    }
   ],
   "source": [
    "\n",
    "# ベクトル演算を行う\n",
    "result_vector = model.wv['king'] - model.wv['man'] + model.wv['woman']\n",
    "\n",
    "# 類似度の高い10語を取得\n",
    "similar_words = model.wv.most_similar(positive=[result_vector], topn=10)\n",
    "\n",
    "# 結果を出力\n",
    "for word, similarity in similar_words:\n",
    "    print(f\"{word}: {similarity:.4f}\")"
   ]
  },
  {
   "cell_type": "code",
   "execution_count": null,
   "metadata": {},
   "outputs": [],
   "source": []
  },
  {
   "cell_type": "code",
   "execution_count": null,
   "metadata": {},
   "outputs": [],
   "source": []
  },
  {
   "cell_type": "code",
   "execution_count": null,
   "metadata": {},
   "outputs": [],
   "source": [
    "male_list=[\"man\",\"men\",\"his\",\"his\",\"he\",\"male\",\"masculine\"]\n",
    "female_list=[\"woman\",\"women\",\"her\",\"hers\",\"she\",\"female\",\"feminine\"]"
   ]
  },
  {
   "cell_type": "code",
   "execution_count": null,
   "metadata": {},
   "outputs": [],
   "source": [
    "import numpy as np\n",
    "male_vec=[]\n",
    "for i,j in zip(male_list,female_list):\n",
    "    male_vec.append(model[i]-model[j])\n",
    "male_vec=np.array(male_vec)\n",
    "male_vec=np.mean(male_vec,axis=0)"
   ]
  },
  {
   "cell_type": "code",
   "execution_count": null,
   "metadata": {},
   "outputs": [],
   "source": [
    "for sport in sports:\n",
    "    print(sport,get_angle(model[sport],male_vec,degree=True))"
   ]
  },
  {
   "cell_type": "code",
   "execution_count": null,
   "metadata": {},
   "outputs": [],
   "source": []
  },
  {
   "cell_type": "code",
   "execution_count": 25,
   "metadata": {},
   "outputs": [],
   "source": [
    "import numpy as np\n",
    "from gensim.downloader import load\n",
    "from numpy.linalg import norm\n",
    "\n",
    "# モデルの読み込み\n",
    "model = load(\"word2vec-google-news-300\")\n",
    "\n",
    "# 性別を代表する単語リスト\n",
    "female_words = [\"she\", \"female\", \"woman\", \"girl\"]\n",
    "male_words = [\"he\", \"male\", \"man\", \"boy\"]\n",
    "\n",
    "# 職業単語リスト\n",
    "occupation_words = [\"engineer\", \"nurse\", \"housekeeper\"]\n",
    "\n",
    "# 性別バイアスを計算する関数\n",
    "def calculate_gender_bias(occupation, female_words, male_words, model):\n",
    "    # 距離の計算 (女性)\n",
    "    female_distances = [norm(model[occupation] - model[female]) for female in female_words]\n",
    "    female_mean = np.mean(female_distances)\n",
    "\n",
    "    # 距離の計算 (男性)\n",
    "    male_distances = [norm(model[occupation] - model[male]) for male in male_words]\n",
    "    male_mean = np.mean(male_distances)\n",
    "\n",
    "    # 性別バイアス\n",
    "    gender_bias = female_mean - male_mean\n",
    "    return gender_bias\n",
    "\n",
    "# 各職業の性別バイアスを計算\n",
    "bias_results = {}\n",
    "for occupation in occupation_words:\n",
    "    bias = calculate_gender_bias(occupation, female_words, male_words, model)\n",
    "    bias_results[occupation] = bias\n",
    "\n"
   ]
  },
  {
   "cell_type": "code",
   "execution_count": 24,
   "metadata": {},
   "outputs": [
    {
     "name": "stdout",
     "output_type": "stream",
     "text": [
      "Gender Bias for engineer: 0.2160 (closer to men)\n",
      "Gender Bias for nurse: -0.2625 (closer to women)\n",
      "Gender Bias for housekeeper: -0.1960 (closer to women)\n"
     ]
    }
   ],
   "source": [
    "# 結果を表示\n",
    "for occupation, bias in bias_results.items():\n",
    "    relation = \"closer to women\" if bias < 0 else \"closer to men\"\n",
    "    print(f\"Gender Bias for {occupation}: {bias:.4f} ({relation})\")"
   ]
  },
  {
   "cell_type": "code",
   "execution_count": null,
   "metadata": {},
   "outputs": [],
   "source": []
  }
 ],
 "metadata": {
  "kernelspec": {
   "display_name": "jupyterbook",
   "language": "python",
   "name": "python3"
  },
  "language_info": {
   "codemirror_mode": {
    "name": "ipython",
    "version": 3
   },
   "file_extension": ".py",
   "mimetype": "text/x-python",
   "name": "python",
   "nbconvert_exporter": "python",
   "pygments_lexer": "ipython3",
   "version": "3.12.1"
  }
 },
 "nbformat": 4,
 "nbformat_minor": 2
}