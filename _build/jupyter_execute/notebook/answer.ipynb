{
 "cells": [
  {
   "cell_type": "code",
   "execution_count": 1,
   "metadata": {},
   "outputs": [],
   "source": [
    "male_list=[\"man\",\"men\",\"his\",\"his\",\"he\",\"male\",\"masculine\"]\n",
    "female_list=[\"woman\",\"women\",\"her\",\"hers\",\"she\",\"female\",\"feminine\"]"
   ]
  },
  {
   "cell_type": "code",
   "execution_count": 2,
   "metadata": {},
   "outputs": [
    {
     "ename": "NameError",
     "evalue": "name 'model' is not defined",
     "output_type": "error",
     "traceback": [
      "\u001b[0;31m---------------------------------------------------------------------------\u001b[0m",
      "\u001b[0;31mNameError\u001b[0m                                 Traceback (most recent call last)",
      "Cell \u001b[0;32mIn[2], line 4\u001b[0m\n\u001b[1;32m      2\u001b[0m male_vec\u001b[38;5;241m=\u001b[39m[]\n\u001b[1;32m      3\u001b[0m \u001b[38;5;28;01mfor\u001b[39;00m i,j \u001b[38;5;129;01min\u001b[39;00m \u001b[38;5;28mzip\u001b[39m(male_list,female_list):\n\u001b[0;32m----> 4\u001b[0m     male_vec\u001b[38;5;241m.\u001b[39mappend(\u001b[43mmodel\u001b[49m[i]\u001b[38;5;241m-\u001b[39mmodel[j])\n\u001b[1;32m      5\u001b[0m male_vec\u001b[38;5;241m=\u001b[39mnp\u001b[38;5;241m.\u001b[39marray(male_vec)\n\u001b[1;32m      6\u001b[0m male_vec\u001b[38;5;241m=\u001b[39mnp\u001b[38;5;241m.\u001b[39mmean(male_vec,axis\u001b[38;5;241m=\u001b[39m\u001b[38;5;241m0\u001b[39m)\n",
      "\u001b[0;31mNameError\u001b[0m: name 'model' is not defined"
     ]
    }
   ],
   "source": [
    "import numpy as np\n",
    "male_vec=[]\n",
    "for i,j in zip(male_list,female_list):\n",
    "    male_vec.append(model[i]-model[j])\n",
    "male_vec=np.array(male_vec)\n",
    "male_vec=np.mean(male_vec,axis=0)"
   ]
  },
  {
   "cell_type": "code",
   "execution_count": null,
   "metadata": {},
   "outputs": [],
   "source": [
    "for sport in sports:\n",
    "    print(sport,get_angle(model[sport],male_vec,degree=True))"
   ]
  },
  {
   "cell_type": "code",
   "execution_count": null,
   "metadata": {},
   "outputs": [],
   "source": []
  },
  {
   "cell_type": "code",
   "execution_count": null,
   "metadata": {},
   "outputs": [],
   "source": [
    "employment_pair=[(\"employer\",\"employee\"),(\"employers\",\"employees\"),(\"owner\",\"worker\"),\n",
    "                    (\"owners\",\"workers\"),(\"manager\",\"worker\"),(\"managers\",\"staff\"),\n",
    "                    (\"boss\",\"worker\"),(\"bosses\",\"workers\"),(\"supervisor\",\"staff\"),\n",
    "                    (\"supervisors\",\"staff\")]"
   ]
  },
  {
   "cell_type": "code",
   "execution_count": null,
   "metadata": {},
   "outputs": [],
   "source": [
    "employment_vec=create_vector(employment_pair)"
   ]
  },
  {
   "cell_type": "code",
   "execution_count": null,
   "metadata": {},
   "outputs": [],
   "source": [
    "cosine_similarity(employment_vec.reshape(1,-1),affluence_vec.reshape(1,-1))"
   ]
  },
  {
   "cell_type": "code",
   "execution_count": null,
   "metadata": {},
   "outputs": [],
   "source": [
    "ocuupation=[\"engineer\",\"nurse\"]\n",
    "male_word =[i[0] for i in gender_pair]\n",
    "female_word =[i[1] for i in gender_pair]\n",
    "np.linalg.norm(model[\"engineer\"] - model[\"male\"]) - np.linalg.norm(model[\"engineer\"] - model[\"female\"])\n",
    "np.linalg.norm(model[\"nurse\"] - model[\"male\"]) - np.linalg.norm(model[\"nurse\"] - model[\"female\"])"
   ]
  },
  {
   "cell_type": "code",
   "execution_count": null,
   "metadata": {},
   "outputs": [],
   "source": [
    "import torch\n",
    "import torch.nn.functional as F\n",
    "\n",
    "batch_size = 1\n",
    "sequence_length = 3\n",
    "embedding_dim = 4\n",
    "seed=1234\n",
    "\n",
    "Q = torch.rand(sequence_length, embedding_dim)\n",
    "K = torch.rand(sequence_length, embedding_dim)\n",
    "V = torch.rand(sequence_length, embedding_dim)\n",
    "\n",
    "attn_output = F.scaled_dot_product_attention(Q, K, V)"
   ]
  },
  {
   "cell_type": "code",
   "execution_count": null,
   "metadata": {},
   "outputs": [],
   "source": [
    "import torch\n",
    "import torch.nn.functional as F\n",
    "\n",
    "sequence_length = 3\n",
    "embedding_dim = 4\n",
    "\n",
    "Q = torch.rand(sequence_length, embedding_dim)\n",
    "K = torch.rand(sequence_length, embedding_dim)\n",
    "V = torch.rand(sequence_length, embedding_dim)\n",
    "\n",
    "# Step 1: Compute dot product of Q and K\n",
    "dot_product = torch.matmul(Q, K.t())\n",
    "\n",
    "# Step 2: Scale the dot product\n",
    "scale_factor = torch.sqrt(torch.tensor(embedding_dim).float())\n",
    "scaled_dot_product = dot_product / scale_factor\n",
    "\n",
    "# Step 3: Apply softmax to get attention weights\n",
    "attention_weights = F.softmax(scaled_dot_product, dim=-1)\n",
    "\n",
    "# Step 4: Apply the attention weights to V\n",
    "attn_output = torch.matmul(attention_weights, V)"
   ]
  },
  {
   "cell_type": "code",
   "execution_count": null,
   "metadata": {},
   "outputs": [],
   "source": []
  },
  {
   "cell_type": "code",
   "execution_count": 9,
   "metadata": {},
   "outputs": [],
   "source": [
    "classify_pipeline = pipeline(\n",
    "    task=\"text-classification\", model=\"mr4/bert-base-jp-sentiment-analysis\"\n",
    "    )"
   ]
  },
  {
   "cell_type": "code",
   "execution_count": 10,
   "metadata": {},
   "outputs": [],
   "source": [
    "import pandas as pd\n",
    "from transformers import pipeline"
   ]
  },
  {
   "cell_type": "code",
   "execution_count": 15,
   "metadata": {},
   "outputs": [],
   "source": [
    "text=\"あの政治家に向けられているのは、政策への批判じゃなくて誹謗中傷だろ\"\n",
    "sentiment = classify_pipeline(text)"
   ]
  },
  {
   "cell_type": "code",
   "execution_count": 16,
   "metadata": {},
   "outputs": [
    {
     "data": {
      "text/plain": [
       "[{'label': 'negative', 'score': 0.995851993560791}]"
      ]
     },
     "execution_count": 16,
     "metadata": {},
     "output_type": "execute_result"
    }
   ],
   "source": [
    "sentiment"
   ]
  },
  {
   "cell_type": "code",
   "execution_count": null,
   "metadata": {},
   "outputs": [],
   "source": []
  }
 ],
 "metadata": {
  "kernelspec": {
   "display_name": "jupyterbook",
   "language": "python",
   "name": "python3"
  },
  "language_info": {
   "codemirror_mode": {
    "name": "ipython",
    "version": 3
   },
   "file_extension": ".py",
   "mimetype": "text/x-python",
   "name": "python",
   "nbconvert_exporter": "python",
   "pygments_lexer": "ipython3",
   "version": "3.12.1"
  }
 },
 "nbformat": 4,
 "nbformat_minor": 2
}