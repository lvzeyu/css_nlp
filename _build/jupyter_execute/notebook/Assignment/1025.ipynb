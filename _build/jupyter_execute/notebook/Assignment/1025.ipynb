{
 "cells": [
  {
   "cell_type": "markdown",
   "metadata": {},
   "source": [
    "``class NeuralNetwork(nn.Module)``を以下のように改装して、改めて学習を行なってください。\n",
    "\n",
    "- 一つ隠れ層を追加し、``n_units_2``という引数でユニットの数を指定できるように設定しなさい。\n",
    "- すべての隠れ層に``F.relu``で活性化関数を追加しなさい。\n",
    "- 出力層に``F.log_softmax``で出力の正規化を行きなさい。"
   ]
  },
  {
   "cell_type": "code",
   "execution_count": 1,
   "metadata": {},
   "outputs": [],
   "source": [
    "from sklearn import datasets\n",
    "from sklearn.model_selection import train_test_split\n",
    "import seaborn as sns\n",
    "import matplotlib.pyplot as plt\n",
    "import torch\n",
    "\n",
    "# Load dataset and create splits\n",
    "iris_dataset = datasets.load_iris()\n",
    "data = iris_dataset.data"
   ]
  },
  {
   "cell_type": "code",
   "execution_count": 2,
   "metadata": {},
   "outputs": [],
   "source": [
    "X = data[:, :-1]  # sepal length, sepal width, petal length\n",
    "y = data[:, -1]   # petal width"
   ]
  },
  {
   "cell_type": "code",
   "execution_count": 3,
   "metadata": {},
   "outputs": [
    {
     "data": {
      "text/html": [
       "<div>\n",
       "<style scoped>\n",
       "    .dataframe tbody tr th:only-of-type {\n",
       "        vertical-align: middle;\n",
       "    }\n",
       "\n",
       "    .dataframe tbody tr th {\n",
       "        vertical-align: top;\n",
       "    }\n",
       "\n",
       "    .dataframe thead th {\n",
       "        text-align: right;\n",
       "    }\n",
       "</style>\n",
       "<table border=\"1\" class=\"dataframe\">\n",
       "  <thead>\n",
       "    <tr style=\"text-align: right;\">\n",
       "      <th></th>\n",
       "      <th>sepal length (cm)</th>\n",
       "      <th>sepal width (cm)</th>\n",
       "      <th>petal length (cm)</th>\n",
       "      <th>petal width (cm)</th>\n",
       "    </tr>\n",
       "  </thead>\n",
       "  <tbody>\n",
       "    <tr>\n",
       "      <th>count</th>\n",
       "      <td>150.000000</td>\n",
       "      <td>150.000000</td>\n",
       "      <td>150.000000</td>\n",
       "      <td>150.000000</td>\n",
       "    </tr>\n",
       "    <tr>\n",
       "      <th>mean</th>\n",
       "      <td>5.843333</td>\n",
       "      <td>3.057333</td>\n",
       "      <td>3.758000</td>\n",
       "      <td>1.199333</td>\n",
       "    </tr>\n",
       "    <tr>\n",
       "      <th>std</th>\n",
       "      <td>0.828066</td>\n",
       "      <td>0.435866</td>\n",
       "      <td>1.765298</td>\n",
       "      <td>0.762238</td>\n",
       "    </tr>\n",
       "    <tr>\n",
       "      <th>min</th>\n",
       "      <td>4.300000</td>\n",
       "      <td>2.000000</td>\n",
       "      <td>1.000000</td>\n",
       "      <td>0.100000</td>\n",
       "    </tr>\n",
       "    <tr>\n",
       "      <th>25%</th>\n",
       "      <td>5.100000</td>\n",
       "      <td>2.800000</td>\n",
       "      <td>1.600000</td>\n",
       "      <td>0.300000</td>\n",
       "    </tr>\n",
       "    <tr>\n",
       "      <th>50%</th>\n",
       "      <td>5.800000</td>\n",
       "      <td>3.000000</td>\n",
       "      <td>4.350000</td>\n",
       "      <td>1.300000</td>\n",
       "    </tr>\n",
       "    <tr>\n",
       "      <th>75%</th>\n",
       "      <td>6.400000</td>\n",
       "      <td>3.300000</td>\n",
       "      <td>5.100000</td>\n",
       "      <td>1.800000</td>\n",
       "    </tr>\n",
       "    <tr>\n",
       "      <th>max</th>\n",
       "      <td>7.900000</td>\n",
       "      <td>4.400000</td>\n",
       "      <td>6.900000</td>\n",
       "      <td>2.500000</td>\n",
       "    </tr>\n",
       "  </tbody>\n",
       "</table>\n",
       "</div>"
      ],
      "text/plain": [
       "       sepal length (cm)  sepal width (cm)  petal length (cm)  \\\n",
       "count         150.000000        150.000000         150.000000   \n",
       "mean            5.843333          3.057333           3.758000   \n",
       "std             0.828066          0.435866           1.765298   \n",
       "min             4.300000          2.000000           1.000000   \n",
       "25%             5.100000          2.800000           1.600000   \n",
       "50%             5.800000          3.000000           4.350000   \n",
       "75%             6.400000          3.300000           5.100000   \n",
       "max             7.900000          4.400000           6.900000   \n",
       "\n",
       "       petal width (cm)  \n",
       "count        150.000000  \n",
       "mean           1.199333  \n",
       "std            0.762238  \n",
       "min            0.100000  \n",
       "25%            0.300000  \n",
       "50%            1.300000  \n",
       "75%            1.800000  \n",
       "max            2.500000  "
      ]
     },
     "execution_count": 3,
     "metadata": {},
     "output_type": "execute_result"
    }
   ],
   "source": [
    "import pandas as pd\n",
    "df=pd.DataFrame(data, columns=iris_dataset.feature_names)\n",
    "df.describe()"
   ]
  },
  {
   "cell_type": "markdown",
   "metadata": {},
   "source": [
    "特徴量のスケールが異なるため、損失関数の勾配のスケールも異なり、最適化プロセスが不安定になる原因になります。\n",
    "\n",
    "ここで、特徴量（X）とターゲット変数（y）の標準化を行います。これにより、異なるスケールを持つ特徴量を同じスケールに揃えます。"
   ]
  },
  {
   "cell_type": "code",
   "execution_count": 4,
   "metadata": {},
   "outputs": [],
   "source": [
    "from sklearn.preprocessing import StandardScaler\n",
    "\n",
    "# データの標準化\n",
    "scaler_X = StandardScaler()\n",
    "X = scaler_X.fit_transform(X)\n",
    "\n",
    "scaler_y = StandardScaler()\n",
    "y = scaler_y.fit_transform(y.reshape(-1, 1))"
   ]
  },
  {
   "cell_type": "markdown",
   "metadata": {},
   "source": [
    "データ作成\n",
    "\n",
    "- 学習データ：検証データ：テストデータ＝　$0.7:0.15:0.15$"
   ]
  },
  {
   "cell_type": "code",
   "execution_count": 5,
   "metadata": {},
   "outputs": [],
   "source": [
    "X_train, X_temp, y_train, y_temp = train_test_split(X, y, test_size=0.3, random_state=42)\n",
    "X_val, X_test, y_val, y_test = train_test_split(X_temp, y_temp, test_size=0.5)  # 0.25 x 0.8 = 0.2 -> 20% validation"
   ]
  },
  {
   "cell_type": "code",
   "execution_count": 6,
   "metadata": {},
   "outputs": [],
   "source": [
    "X_train = torch.tensor(X_train, dtype=torch.float32)\n",
    "y_train = torch.tensor(y_train, dtype=torch.float32)\n",
    "X_val = torch.tensor(X_val, dtype=torch.float32)\n",
    "y_val = torch.tensor(y_val, dtype=torch.float32)\n",
    "X_test = torch.tensor(X_test, dtype=torch.float32)\n",
    "y_test = torch.tensor(y_test, dtype=torch.float32)"
   ]
  },
  {
   "cell_type": "code",
   "execution_count": 7,
   "metadata": {},
   "outputs": [
    {
     "data": {
      "text/plain": [
       "(105, 22, 23)"
      ]
     },
     "execution_count": 7,
     "metadata": {},
     "output_type": "execute_result"
    }
   ],
   "source": [
    "len(X_train), len(X_val), len(X_test)"
   ]
  },
  {
   "cell_type": "code",
   "execution_count": 8,
   "metadata": {},
   "outputs": [
    {
     "data": {
      "text/plain": [
       "(105, 22, 23)"
      ]
     },
     "execution_count": 8,
     "metadata": {},
     "output_type": "execute_result"
    }
   ],
   "source": [
    "len(y_train), len(y_val), len(y_test)"
   ]
  },
  {
   "cell_type": "code",
   "execution_count": 9,
   "metadata": {},
   "outputs": [],
   "source": [
    "import torch.nn as nn\n",
    "import torch.nn.functional as F\n",
    "\n",
    "class RegressionNN(nn.Module):\n",
    "    def __init__(self, input_dim, hidden_dim1, hidden_dim2):\n",
    "        super(RegressionNN, self).__init__()\n",
    "        self.fc1 = nn.Linear(input_dim, hidden_dim1)\n",
    "        self.fc2 = nn.Linear(hidden_dim1, hidden_dim2)#ポイント：中間層を追加します。前の層と後の層のユニット数と合わせる必要があります。\n",
    "        self.fc3 = nn.Linear(hidden_dim2, 1) # ポイント：回帰のため出力は1つ\n",
    "\n",
    "    def forward(self, x):\n",
    "        x = F.relu(self.fc1(x))\n",
    "        x = F.relu(self.fc2(x))\n",
    "        return self.fc3(x)"
   ]
  },
  {
   "cell_type": "code",
   "execution_count": 10,
   "metadata": {},
   "outputs": [],
   "source": [
    "# ハイパーパラメータ\n",
    "learning_rate = 0.01\n",
    "epochs = 2000\n",
    "hidden_dim1 = 10\n",
    "hidden_dim2 = 5\n",
    "\n",
    "# モデルと最適化のインスタンス化\n",
    "model = RegressionNN(input_dim=3, hidden_dim1=hidden_dim1, hidden_dim2=hidden_dim2)\n",
    "criterion = nn.MSELoss()#ポイント：損失関数はMSEのような回帰用のものを使います。\n",
    "optimizer = torch.optim.Adam(model.parameters(), lr=learning_rate)"
   ]
  },
  {
   "cell_type": "code",
   "execution_count": 11,
   "metadata": {},
   "outputs": [
    {
     "name": "stdout",
     "output_type": "stream",
     "text": [
      "Epoch [50/2000], Train Loss: 0.0830, Val Loss: 0.0882\n",
      "Epoch [100/2000], Train Loss: 0.0492, Val Loss: 0.0840\n",
      "Epoch [150/2000], Train Loss: 0.0453, Val Loss: 0.0848\n",
      "Epoch [200/2000], Train Loss: 0.0436, Val Loss: 0.0855\n",
      "Epoch [250/2000], Train Loss: 0.0424, Val Loss: 0.0865\n",
      "Epoch [300/2000], Train Loss: 0.0412, Val Loss: 0.0878\n",
      "Epoch [350/2000], Train Loss: 0.0403, Val Loss: 0.0889\n",
      "Epoch [400/2000], Train Loss: 0.0393, Val Loss: 0.0928\n",
      "Epoch [450/2000], Train Loss: 0.0383, Val Loss: 0.0957\n",
      "Epoch [500/2000], Train Loss: 0.0373, Val Loss: 0.0990\n",
      "Epoch [550/2000], Train Loss: 0.0365, Val Loss: 0.1007\n",
      "Epoch [600/2000], Train Loss: 0.0359, Val Loss: 0.1035\n",
      "Epoch [650/2000], Train Loss: 0.0354, Val Loss: 0.1058\n",
      "Epoch [700/2000], Train Loss: 0.0350, Val Loss: 0.1118\n",
      "Epoch [750/2000], Train Loss: 0.0317, Val Loss: 0.1183\n",
      "Epoch [800/2000], Train Loss: 0.0299, Val Loss: 0.1129\n",
      "Epoch [850/2000], Train Loss: 0.0291, Val Loss: 0.1143\n",
      "Epoch [900/2000], Train Loss: 0.0293, Val Loss: 0.1137\n",
      "Epoch [950/2000], Train Loss: 0.0273, Val Loss: 0.1186\n"
     ]
    },
    {
     "name": "stdout",
     "output_type": "stream",
     "text": [
      "Epoch [1000/2000], Train Loss: 0.0267, Val Loss: 0.1218\n",
      "Epoch [1050/2000], Train Loss: 0.0260, Val Loss: 0.1200\n",
      "Epoch [1100/2000], Train Loss: 0.0254, Val Loss: 0.1170\n",
      "Epoch [1150/2000], Train Loss: 0.0249, Val Loss: 0.1204\n",
      "Epoch [1200/2000], Train Loss: 0.0246, Val Loss: 0.1198\n",
      "Epoch [1250/2000], Train Loss: 0.0233, Val Loss: 0.1177\n",
      "Epoch [1300/2000], Train Loss: 0.0229, Val Loss: 0.1178\n",
      "Epoch [1350/2000], Train Loss: 0.0245, Val Loss: 0.1229\n",
      "Epoch [1400/2000], Train Loss: 0.0222, Val Loss: 0.1154\n",
      "Epoch [1450/2000], Train Loss: 0.0236, Val Loss: 0.1136\n",
      "Epoch [1500/2000], Train Loss: 0.0212, Val Loss: 0.1159\n",
      "Epoch [1550/2000], Train Loss: 0.0210, Val Loss: 0.1186\n",
      "Epoch [1600/2000], Train Loss: 0.0206, Val Loss: 0.1128\n",
      "Epoch [1650/2000], Train Loss: 0.0207, Val Loss: 0.1178\n",
      "Epoch [1700/2000], Train Loss: 0.0201, Val Loss: 0.1158\n",
      "Epoch [1750/2000], Train Loss: 0.0202, Val Loss: 0.1144\n",
      "Epoch [1800/2000], Train Loss: 0.0197, Val Loss: 0.1216\n",
      "Epoch [1850/2000], Train Loss: 0.0194, Val Loss: 0.1208\n",
      "Epoch [1900/2000], Train Loss: 0.0191, Val Loss: 0.1224\n"
     ]
    },
    {
     "name": "stdout",
     "output_type": "stream",
     "text": [
      "Epoch [1950/2000], Train Loss: 0.0190, Val Loss: 0.1249\n",
      "Epoch [2000/2000], Train Loss: 0.0187, Val Loss: 0.1262\n"
     ]
    }
   ],
   "source": [
    "# 学習ループ\n",
    "for epoch in range(epochs):\n",
    "    # フォワードパス\n",
    "    outputs = model(X_train)\n",
    "    loss = criterion(outputs, y_train)\n",
    "    \n",
    "    # バックワードパス\n",
    "    optimizer.zero_grad()\n",
    "    loss.backward()\n",
    "    optimizer.step()\n",
    "    \n",
    "    # 検証\n",
    "    model.eval()\n",
    "    with torch.no_grad():\n",
    "        val_outputs = model(X_val)\n",
    "        val_loss = criterion(val_outputs, y_val) # ポイント：検証データでの損失も計算します。\n",
    "    model.train()# ポイント：モデルを訓練モードに戻します。\n",
    "    \n",
    "    # 50エポックごとに損失を表示\n",
    "    if (epoch+1) % 50 == 0:\n",
    "        print(f\"Epoch [{epoch+1}/{epochs}], Train Loss: {loss.item():.4f}, Val Loss: {val_loss.item():.4f}\")"
   ]
  },
  {
   "cell_type": "code",
   "execution_count": 12,
   "metadata": {},
   "outputs": [],
   "source": [
    "model.eval()\n",
    "with torch.no_grad():\n",
    "    test_predictions = model(X_test)\n",
    "\n",
    "# データをnumpy形式に変換\n",
    "y_test_np = y_test.numpy()\n",
    "test_predictions_np = test_predictions.numpy()"
   ]
  },
  {
   "cell_type": "code",
   "execution_count": 13,
   "metadata": {},
   "outputs": [
    {
     "data": {
      "image/png": "[encoded data removed]",
      "text/plain": [
       "<Figure size 640x480 with 1 Axes>"
      ]
     },
     "metadata": {},
     "output_type": "display_data"
    }
   ],
   "source": [
    "plt.scatter(y_test_np, test_predictions_np,alpha=0.5)\n",
    "plt.xlabel(\"Actual Petal Width\")\n",
    "plt.ylabel(\"Predicted Petal Width\")\n",
    "plt.title(\"Actual vs. Predicted Petal Width\")\n",
    "plt.plot([min(y_test_np), max(y_test_np)], [min(y_test_np), max(y_test_np)], color='red')\n",
    "plt.show()"
   ]
  },
  {
   "cell_type": "code",
   "execution_count": null,
   "metadata": {},
   "outputs": [],
   "source": []
  }
 ],
 "metadata": {
  "kernelspec": {
   "display_name": "jupyterbook",
   "language": "python",
   "name": "python3"
  },
  "language_info": {
   "codemirror_mode": {
    "name": "ipython",
    "version": 3
   },
   "file_extension": ".py",
   "mimetype": "text/x-python",
   "name": "python",
   "nbconvert_exporter": "python",
   "pygments_lexer": "ipython3",
   "version": "3.12.1"
  }
 },
 "nbformat": 4,
 "nbformat_minor": 2
}