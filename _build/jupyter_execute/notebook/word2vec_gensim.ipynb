{
 "cells": [
  {
   "cell_type": "markdown",
   "metadata": {},
   "source": [
    "# GensimによるWord2Vecの学習と使用"
   ]
  },
  {
   "cell_type": "markdown",
   "metadata": {},
   "source": [
    "前章でCBOWモデルを実装することでword2vecの仕組みを学びました。実際に、その以外、word2vecの関して様々な取り組みがあります。\n",
    "\n",
    "- Skip-gramモデルでは、ターゲットからコンテキストを推測するタスクを構築しています\n",
    "- Negative Samplingという新しい損失関数を導入することで学習の高速化を図る\n",
    "\n",
    "応用の視点から、これらの手法をすべでゼロから実装することが難しいので、[gensim](https://radimrehurek.com/gensim/index.html)というライブラリを使って、Word2Vecモデルを学習、管理、使用することは、多くの自然言語処理タスクにおいて効果的な選択肢となります。"
   ]
  },
  {
   "cell_type": "code",
   "execution_count": 1,
   "metadata": {},
   "outputs": [],
   "source": [
    "#!pip install --upgrade gensim"
   ]
  },
  {
   "cell_type": "markdown",
   "metadata": {},
   "source": [
    "## Gensimの使い方\n",
    "\n",
    "### Gensimによる学習"
   ]
  },
  {
   "cell_type": "code",
   "execution_count": 2,
   "metadata": {},
   "outputs": [
    {
     "ename": "ModuleNotFoundError",
     "evalue": "No module named 'gensim'",
     "output_type": "error",
     "traceback": [
      "\u001b[0;31m---------------------------------------------------------------------------\u001b[0m",
      "\u001b[0;31mModuleNotFoundError\u001b[0m                       Traceback (most recent call last)",
      "Cell \u001b[0;32mIn[2], line 1\u001b[0m\n\u001b[0;32m----> 1\u001b[0m \u001b[38;5;28;01mfrom\u001b[39;00m \u001b[38;5;21;01mgensim\u001b[39;00m\u001b[38;5;21;01m.\u001b[39;00m\u001b[38;5;21;01mmodels\u001b[39;00m \u001b[38;5;28;01mimport\u001b[39;00m Word2Vec\n\u001b[1;32m      3\u001b[0m sample_sents \u001b[38;5;241m=\u001b[39m [[\u001b[38;5;124m'\u001b[39m\u001b[38;5;124myou\u001b[39m\u001b[38;5;124m'\u001b[39m, \u001b[38;5;124m'\u001b[39m\u001b[38;5;124msay\u001b[39m\u001b[38;5;124m'\u001b[39m, \u001b[38;5;124m'\u001b[39m\u001b[38;5;124mgoodbye\u001b[39m\u001b[38;5;124m'\u001b[39m, \u001b[38;5;124m'\u001b[39m\u001b[38;5;124mand\u001b[39m\u001b[38;5;124m'\u001b[39m, \u001b[38;5;124m'\u001b[39m\u001b[38;5;124mI\u001b[39m\u001b[38;5;124m'\u001b[39m, \u001b[38;5;124m\"\u001b[39m\u001b[38;5;124msay\u001b[39m\u001b[38;5;124m\"\u001b[39m, \u001b[38;5;124m\"\u001b[39m\u001b[38;5;124mhello\u001b[39m\u001b[38;5;124m\"\u001b[39m \u001b[38;5;124m'\u001b[39m\u001b[38;5;124m.\u001b[39m\u001b[38;5;124m'\u001b[39m]]\n\u001b[1;32m      4\u001b[0m model \u001b[38;5;241m=\u001b[39m Word2Vec(sentences\u001b[38;5;241m=\u001b[39msample_sents, vector_size\u001b[38;5;241m=\u001b[39m\u001b[38;5;241m5\u001b[39m, window\u001b[38;5;241m=\u001b[39m\u001b[38;5;241m1\u001b[39m, min_count\u001b[38;5;241m=\u001b[39m\u001b[38;5;241m1\u001b[39m)\n",
      "\u001b[0;31mModuleNotFoundError\u001b[0m: No module named 'gensim'"
     ]
    }
   ],
   "source": [
    "from gensim.models import Word2Vec\n",
    "\n",
    "sample_sents = [['you', 'say', 'goodbye', 'and', 'I', \"say\", \"hello\" '.']]\n",
    "model = Word2Vec(sentences=sample_sents, vector_size=5, window=1, min_count=1)"
   ]
  },
  {
   "cell_type": "code",
   "execution_count": 53,
   "metadata": {},
   "outputs": [
    {
     "data": {
      "text/plain": [
       "array([-0.06810732, -0.01892803,  0.11537147, -0.15043275, -0.07872207],\n",
       "      dtype=float32)"
      ]
     },
     "execution_count": 53,
     "metadata": {},
     "output_type": "execute_result"
    }
   ],
   "source": [
    "model.wv['you']"
   ]
  },
  {
   "cell_type": "markdown",
   "metadata": {},
   "source": [
    "| オプション    | 説明                                                                                          |\n",
    "|---------------|-----------------------------------------------------------------------------------------------|\n",
    "| sentences    | 元となるコーパス．単語リストのリスト．                                                        |\n",
    "| corpus_file | コーパスをファイル読み込みする場合に指定．1行1文の形式で，単語は空白区切りで認識される．      |\n",
    "| vector_size         | 分散表現の次元．リファレンスではvector_sizeと書いてあるように見えるが，sizeでないと動かない． |\n",
    "| window      | 学習時に利用されるコンテキストの長さ．                                                                |\n",
    "| min_count    | 分散表現を獲得する単語の最小頻度                                                              |\n",
    "| workers       | 学習時の使用スレッド数．                                                                      |\n",
    "| sg           | 学習アルゴリズムの選択．$1$ならskip-gram，$0$ならCBOW．                                           |"
   ]
  },
  {
   "cell_type": "code",
   "execution_count": 54,
   "metadata": {},
   "outputs": [],
   "source": [
    "with open('./Data/lee_background.cor', 'r') as file:\n",
    "    corpus = file.readlines()"
   ]
  },
  {
   "cell_type": "code",
   "execution_count": 55,
   "metadata": {},
   "outputs": [],
   "source": [
    "processed_corpus = [line.lower().split() for line in corpus]"
   ]
  },
  {
   "cell_type": "code",
   "execution_count": 56,
   "metadata": {},
   "outputs": [],
   "source": [
    "model = Word2Vec(sentences=processed_corpus, vector_size=100, window=5, min_count=5)"
   ]
  },
  {
   "cell_type": "markdown",
   "metadata": {},
   "source": [
    "````{tab-set}\n",
    "```{tab-item} 課題\n",
    "[ドキュメント](https://radimrehurek.com/gensim/models/word2vec.html#)を参照しながら、以下の指示に従ってモデルを実装してください。\n",
    "\n",
    "- コーパスファイルパスを指定する形でコーパスを導入しなさい\n",
    "- 学習方法は``skip-gram``を使う\n",
    "- negative samplingを使う\n",
    "\n",
    "```\n",
    "\n",
    "````"
   ]
  },
  {
   "cell_type": "markdown",
   "metadata": {},
   "source": [
    "### Gensimによる日本語モデル学習"
   ]
  },
  {
   "cell_type": "code",
   "execution_count": 57,
   "metadata": {},
   "outputs": [],
   "source": [
    "import MeCab\n",
    "def tokenize(text):\n",
    "    \"\"\" テキストを形態素解析して、トークンのリストを返す \"\"\"\n",
    "    mecab = MeCab.Tagger(\"-Owakati\")\n",
    "    return mecab.parse(text).strip().split()"
   ]
  },
  {
   "cell_type": "code",
   "execution_count": 58,
   "metadata": {},
   "outputs": [],
   "source": [
    "documents = [\"これはサンプルの文書です。\", \"Word2Vecの学習を行います。\"]\n",
    "\n",
    "# 形態素解析を行い、単語リストに変換\n",
    "tokenized_documents = [tokenize(doc) for doc in documents]\n"
   ]
  },
  {
   "cell_type": "code",
   "execution_count": 59,
   "metadata": {},
   "outputs": [],
   "source": [
    "# Word2Vecモデルの訓練\n",
    "\n",
    "model_jp = Word2Vec(sentences=tokenized_documents, vector_size=100, window=5, min_count=1, workers=4)"
   ]
  },
  {
   "cell_type": "markdown",
   "metadata": {},
   "source": [
    "### モデルの使い方\n",
    "\n",
    "モデルには,``wv``というオブジェクトに単語と単語分散表現の情報が格納されています。さらに、学習済みの単語ベクトルにアクセスし、それらを操作するための主要なインターフェースを提供します。"
   ]
  },
  {
   "cell_type": "markdown",
   "metadata": {},
   "source": [
    "- 単語ベクトルの取得: ``model.wv['word']`` で特定の単語のベクトルを取得できます。"
   ]
  },
  {
   "cell_type": "code",
   "execution_count": 60,
   "metadata": {},
   "outputs": [
    {
     "data": {
      "text/plain": [
       "array([-0.00307982,  0.22879797,  0.1039058 ,  0.20323835,  0.06537586,\n",
       "       -0.7105258 ,  0.29213727,  0.8992749 , -0.35582012, -0.41452944,\n",
       "       -0.25418743, -0.6508533 , -0.24561188,  0.07932971,  0.13662694,\n",
       "       -0.20141453,  0.12215281, -0.20007145,  0.12770739, -0.9059785 ,\n",
       "        0.22014627,  0.20409352,  0.40092307, -0.16720138, -0.13147773,\n",
       "       -0.14637163, -0.53138137, -0.1440311 , -0.3737898 ,  0.05188401,\n",
       "        0.5665317 , -0.08456989,  0.38040233, -0.6733446 , -0.08252468,\n",
       "        0.34136096,  0.18737307, -0.3356112 , -0.4150798 , -0.5506394 ,\n",
       "        0.15834768, -0.29411098, -0.3682792 ,  0.22682002,  0.24956211,\n",
       "       -0.19739659, -0.38888448, -0.06427043,  0.23042367,  0.3532887 ,\n",
       "        0.20195435, -0.26739174, -0.22128567, -0.11839921, -0.20650993,\n",
       "       -0.02059098,  0.2107421 , -0.14380229, -0.39475212,  0.08770867,\n",
       "       -0.06955902,  0.13645834,  0.0296844 ,  0.01068899, -0.56741667,\n",
       "        0.50749815,  0.04701915,  0.14689498, -0.4699005 ,  0.3054553 ,\n",
       "       -0.31843606,  0.21765117,  0.5028969 , -0.1533785 ,  0.5187301 ,\n",
       "        0.05662987, -0.06081144, -0.02323364, -0.31800106,  0.03728152,\n",
       "       -0.2759491 , -0.05696228, -0.20443682,  0.58449066, -0.16667598,\n",
       "       -0.16908468, -0.07609297,  0.05785962,  0.5823198 , -0.01083744,\n",
       "        0.58977574,  0.35616273,  0.05064252,  0.06198679,  0.70355225,\n",
       "        0.2796451 ,  0.03408527, -0.09350925,  0.12931164, -0.24790686],\n",
       "      dtype=float32)"
      ]
     },
     "execution_count": 60,
     "metadata": {},
     "output_type": "execute_result"
    }
   ],
   "source": [
    "model.wv['you']"
   ]
  },
  {
   "cell_type": "markdown",
   "metadata": {},
   "source": [
    "- 類似度の計算: ```model.wv.similarity('word1', 'word2')``` で2つの単語間の類似度を計算できます。"
   ]
  },
  {
   "cell_type": "code",
   "execution_count": 61,
   "metadata": {},
   "outputs": [
    {
     "data": {
      "text/plain": [
       "0.99927604"
      ]
     },
     "execution_count": 61,
     "metadata": {},
     "output_type": "execute_result"
    }
   ],
   "source": [
    "model.wv.similarity(\"you\", \"your\")"
   ]
  },
  {
   "cell_type": "markdown",
   "metadata": {},
   "source": [
    "- 最も類似した単語の取得: ```model.wv.most_similar('word')``` で特定の単語に最も類似した単語を取得できます"
   ]
  },
  {
   "cell_type": "code",
   "execution_count": 62,
   "metadata": {},
   "outputs": [
    {
     "data": {
      "text/plain": [
       "[('this', 0.9997385740280151),\n",
       " ('last', 0.9997153282165527),\n",
       " ('police', 0.9997124075889587),\n",
       " ('were', 0.999710738658905),\n",
       " ('with', 0.999710202217102),\n",
       " ('also', 0.999708890914917),\n",
       " ('us', 0.9997062087059021),\n",
       " ('are', 0.9997057914733887),\n",
       " ('over', 0.9997038245201111),\n",
       " ('some', 0.9996989965438843)]"
      ]
     },
     "execution_count": 62,
     "metadata": {},
     "output_type": "execute_result"
    }
   ],
   "source": [
    "model.wv.most_similar(\"you\")"
   ]
  },
  {
   "cell_type": "markdown",
   "metadata": {},
   "source": [
    "```{note}\n",
    "\n",
    "Gensimで学習済みモデルを使用する方法は、モデルの種類と読み込み方法によって異なります。通常は、通常は``wv``を介してベクトルにアクセスしますが、``KeyedVectors``を使用する場合、``KeyedVectors``自体が単語ベクトルへの直接アクセスを提供するので、``wv``は不要です。\n",
    "\n",
    "```"
   ]
  },
  {
   "cell_type": "markdown",
   "metadata": {},
   "source": [
    "### モデルの管理"
   ]
  },
  {
   "cell_type": "code",
   "execution_count": 26,
   "metadata": {},
   "outputs": [],
   "source": [
    "# モデルの保存と読み込み\n",
    "#model.save(\"word2vec.model\")\n",
    "#model = Word2Vec.load(\"word2vec.model\")"
   ]
  },
  {
   "cell_type": "markdown",
   "metadata": {},
   "source": [
    "#### 学習済みモデルの読み込み\n",
    "\n",
    "Gensimはいくつかの学習済みモデルを提供して、簡単に読み込むことができます。"
   ]
  },
  {
   "cell_type": "code",
   "execution_count": 27,
   "metadata": {},
   "outputs": [
    {
     "name": "stdout",
     "output_type": "stream",
     "text": [
      "['fasttext-wiki-news-subwords-300', 'conceptnet-numberbatch-17-06-300', 'word2vec-ruscorpora-300', 'word2vec-google-news-300', 'glove-wiki-gigaword-50', 'glove-wiki-gigaword-100', 'glove-wiki-gigaword-200', 'glove-wiki-gigaword-300', 'glove-twitter-25', 'glove-twitter-50', 'glove-twitter-100', 'glove-twitter-200', '__testing_word2vec-matrix-synopsis']\n"
     ]
    }
   ],
   "source": [
    "import gensim.downloader\n",
    "\n",
    "print(list(gensim.downloader.info()['models'].keys()))"
   ]
  },
  {
   "cell_type": "code",
   "execution_count": 66,
   "metadata": {
    "tags": [
     "hide-output"
    ]
   },
   "outputs": [],
   "source": [
    "model = gensim.downloader.load('word2vec-google-news-300')"
   ]
  },
  {
   "cell_type": "code",
   "execution_count": 44,
   "metadata": {},
   "outputs": [
    {
     "data": {
      "text/plain": [
       "0.76640123"
      ]
     },
     "execution_count": 44,
     "metadata": {},
     "output_type": "execute_result"
    }
   ],
   "source": [
    "similarity = model.similarity('woman', 'man')\n",
    "similarity"
   ]
  },
  {
   "cell_type": "markdown",
   "metadata": {},
   "source": [
    "````{tab-set}\n",
    "```{tab-item} 課題\n",
    "学習済みモデルを読み込み、$vec(king) - vec(man) + vec(woman)$を計算し，そのベクトルと類似度の高い10語とその類似度を出力せよ．\n",
    "```\n",
    "````"
   ]
  },
  {
   "cell_type": "markdown",
   "metadata": {},
   "source": [
    "その他、各言語の学習済みモデルが多数公開されています。"
   ]
  },
  {
   "cell_type": "markdown",
   "metadata": {},
   "source": [
    "| Name                                                                                   | Model                                               | Data                       | Dim            | Tokenizer  | Dict                |\n",
    "| -------------------------------------------------------------------------------------- | --------------------------------------------------- | -------------------------- | -------------- | ---------- | ------------------- |\n",
    "| [WikiEntVec](https://github.com/singletongue/WikiEntVec/)                              | Skip-gram                                          | Wikipedia                  | 100,200,300    | mecab      | mecab-ipadic-NEologd|\n",
    "| [白ヤギ](https://github.com/shiroyagicorp/japanese-word2vec-model-builder)             | CBOW                                               | Wikipedia                  | 50             | mecab      | mecab-ipadic-NEologd|\n",
    "| [chiVe](https://github.com/WorksApplications/chiVe)                                    | Skip-gram                                           | NWJC                       | 300            | Sudachi    |                     |\n",
    "| [bizreach](https://github.com/bizreach/ai/tree/master/word2vec)                        | Skip-gram                                           | 求人データ                 | 100, 200       | mecab      | ipadic              |\n",
    "| [dependency-based-japanese-word-embeddings](https://github.com/lapras-inc/dependency-based-japanese-word-embeddings) | [Dependency-Based Word Embeddings](https://levyomer.wordpress.com/2014/04/25/dependency-based-word-embeddings/) | Wikipedia                  | 100, 200, 300  | Ginza      |                     |\n",
    "| [fastText](https://github.com/facebookresearch/fastText/blob/master/docs/crawl-vectors.md) | CBOW                                                | Common Crawl, Wikipedia    | 300            | mecab      | ?                   |\n",
    "| [wikipedia2vec](https://github.com/wikipedia2vec/wikipedia2vec)                        | Skip-gram                                           | Wikipedia                  | 100, 300       | mecab      | ?                   |\n",
    "| [wordvectors](https://github.com/Kyubyong/wordvectors)                                 | Skip-gram, fastText                                | Wikipedia                  | 300            | mecab      | ?                   |\n",
    "\n"
   ]
  },
  {
   "cell_type": "markdown",
   "metadata": {},
   "source": [
    "### 単語分散表現の可視化"
   ]
  },
  {
   "cell_type": "code",
   "execution_count": 50,
   "metadata": {},
   "outputs": [
    {
     "data": {
      "image/png": "[encoded data removed]",
      "text/plain": [
       "<Figure size 400x400 with 1 Axes>"
      ]
     },
     "metadata": {},
     "output_type": "display_data"
    }
   ],
   "source": [
    "import matplotlib.pyplot as plt\n",
    "from sklearn.manifold import TSNE\n",
    "import numpy as np\n",
    "import scienceplots\n",
    "plt.style.use('science')\n",
    "\n",
    "# List of words to visualize\n",
    "words = ['woman', 'women', 'man', 'men', 'king', 'queen', 'prince', 'princess']\n",
    "\n",
    "# Check if the words are in the model to avoid KeyError\n",
    "vectors = [model[word] for word in words if word in model]\n",
    "\n",
    "# Converting list of vectors to a numpy array\n",
    "vectors_array = np.array(vectors)\n",
    "\n",
    "# Applying t-SNE for dimensionality reduction\n",
    "tsne = TSNE(n_components=2, random_state=0, perplexity=3)\n",
    "vectors_tsne = tsne.fit_transform(vectors_array)\n",
    "\n",
    "# Visualization\n",
    "plt.figure(figsize=(4, 4))\n",
    "for i, word in enumerate(words):\n",
    "    if word in model:\n",
    "        plt.scatter(vectors_tsne[i, 0], vectors_tsne[i, 1])\n",
    "        plt.annotate(word, (vectors_tsne[i, 0], vectors_tsne[i, 1]))\n",
    "\n",
    "plt.xlabel('t-SNE Feature 0')\n",
    "plt.ylabel('t-SNE Feature 1')\n",
    "plt.title('t-SNE Visualization of Word Vectors')\n",
    "plt.show()"
   ]
  },
  {
   "cell_type": "markdown",
   "metadata": {},
   "source": [
    "### tensorboardで単語分散表現の可視化\n",
    "\n",
    "可視化の際に用いられるツールとしては、TensorFlowのツールの一つであるTensorBoardが、豊富な機能とインタラクティブな操作性を備えています。"
   ]
  },
  {
   "cell_type": "code",
   "execution_count": 75,
   "metadata": {},
   "outputs": [],
   "source": [
    "from tensorboardX import SummaryWriter\n",
    "import torch"
   ]
  },
  {
   "cell_type": "code",
   "execution_count": 72,
   "metadata": {},
   "outputs": [],
   "source": [
    "# 分散表現・単語のリストを取得\n",
    "weights = model.vectors\n",
    "labels = model.index_to_key"
   ]
  },
  {
   "cell_type": "code",
   "execution_count": 73,
   "metadata": {},
   "outputs": [],
   "source": [
    "weights = weights[:1000]\n",
    "labels = labels[:1000]"
   ]
  },
  {
   "cell_type": "code",
   "execution_count": 77,
   "metadata": {},
   "outputs": [],
   "source": [
    "writer = SummaryWriter('runs/google_embeddings')\n",
    "writer.add_embedding(torch.FloatTensor(weights), metadata=labels)"
   ]
  },
  {
   "cell_type": "markdown",
   "metadata": {},
   "source": [
    "上記スクリプトを実行すると、実行されたディレクトリにデータが作成されます。TensorBoardの起動時にrunsディレクトリを指定することで、変換した単語の分散表現が可視化できます。\n",
    "\n",
    "```\n",
    "tensorboard --logdir=runs\n",
    "```\n",
    "\n",
    "上記コマンドを実行した状態で ```http://localhost:6006/``` にアクセスすると、PROJECTORのページにてグラフが確認できます。"
   ]
  },
  {
   "cell_type": "code",
   "execution_count": null,
   "metadata": {},
   "outputs": [],
   "source": []
  }
 ],
 "metadata": {
  "kernelspec": {
   "display_name": "base",
   "language": "python",
   "name": "python3"
  },
  "language_info": {
   "codemirror_mode": {
    "name": "ipython",
    "version": 3
   },
   "file_extension": ".py",
   "mimetype": "text/x-python",
   "name": "python",
   "nbconvert_exporter": "python",
   "pygments_lexer": "ipython3",
   "version": "3.12.1"
  }
 },
 "nbformat": 4,
 "nbformat_minor": 2
}