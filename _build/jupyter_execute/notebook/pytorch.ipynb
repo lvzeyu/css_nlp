{
 "cells": [
  {
   "cell_type": "markdown",
   "metadata": {},
   "source": [
    "# Pytorch"
   ]
  },
  {
   "cell_type": "markdown",
   "metadata": {},
   "source": [
    "[PyTorch](https://pytorch.org/)はPythonのオープンソースの機械学習・深層学習ライブラリです。\n",
    "\n",
    "- 柔軟性を重視した設計であり、さらに、機械学習・深層学習モデルをPythonの慣用的なクラスや関数の取り扱い方で実装できるようになっています。\n",
    "- GPUを使用した計算をサポートしますので、CPU上で同じ計算を行う場合に比べて、数十倍の高速化を実現します。"
   ]
  },
  {
   "cell_type": "code",
   "execution_count": 1,
   "metadata": {},
   "outputs": [],
   "source": [
    "#pip install torch torchvision torchaudio\n",
    "import torch"
   ]
  },
  {
   "cell_type": "markdown",
   "metadata": {},
   "source": [
    "## テンソル\n",
    "\n",
    "深層学習モデルは通常、入力から出力にどのようにマッピングされるのかを対応つけるデータ構造を表します。一般的に、このようなある形式のデータから別の形式への変換は膨大な浮動小数点数の計算を通じて実現されています。\n",
    "\n",
    "データを浮動小数点数を扱うためには、Pytorchは基本的なデータ構造として「テンソル」を導入しています。\n",
    "\n",
    "深層学習の文脈でのテンソルとは、ベクトルや行列を任意の次元数に一般化したものを指します。つまり、多次元配列を扱います。\n",
    "\n",
    "```{margin}\n",
    "Tensorとの同じように、NumPyも多次元配列を扱えます。ただ、PyTorchにおいてテンソルはGPU上でも使用できるため、処理速度の向上させることも可能です。\n",
    "```\n",
    "\n",
    "![](/Users/ryozawau/css_nlp/notebook/Figure/tensor.png)"
   ]
  },
  {
   "cell_type": "markdown",
   "metadata": {},
   "source": [
    "### テンソルの作成"
   ]
  },
  {
   "cell_type": "code",
   "execution_count": 2,
   "metadata": {},
   "outputs": [
    {
     "name": "stdout",
     "output_type": "stream",
     "text": [
      "tensor([[1., 1., 1.],\n",
      "        [1., 1., 1.],\n",
      "        [1., 1., 1.],\n",
      "        [1., 1., 1.],\n",
      "        [1., 1., 1.]])\n"
     ]
    }
   ],
   "source": [
    "x = torch.ones(5, 3)\n",
    "print(x)"
   ]
  },
  {
   "cell_type": "code",
   "execution_count": 3,
   "metadata": {},
   "outputs": [
    {
     "name": "stdout",
     "output_type": "stream",
     "text": [
      "tensor([[0.6304, 0.2637, 0.9883],\n",
      "        [0.8006, 0.6469, 0.0016],\n",
      "        [0.5950, 0.4328, 0.2823],\n",
      "        [0.4340, 0.2033, 0.2363],\n",
      "        [0.3306, 0.2979, 0.9918]])\n"
     ]
    }
   ],
   "source": [
    "x = torch.rand(5, 3)\n",
    "print(x)"
   ]
  },
  {
   "cell_type": "code",
   "execution_count": 4,
   "metadata": {},
   "outputs": [
    {
     "name": "stdout",
     "output_type": "stream",
     "text": [
      "tensor([5.5000, 3.0000])\n"
     ]
    }
   ],
   "source": [
    "x = torch.tensor([5.5, 3])\n",
    "print(x)"
   ]
  },
  {
   "cell_type": "markdown",
   "metadata": {},
   "source": [
    "### テンソル要素の型\n",
    "\n",
    "テンソル要素の型は、引数に適切な```dtype```を渡すことで指定します。"
   ]
  },
  {
   "cell_type": "code",
   "execution_count": 5,
   "metadata": {},
   "outputs": [],
   "source": [
    "double_points = torch.ones(10, 2, dtype=torch.double)\n",
    "short_points = torch.tensor([[1, 2], [3, 4]], dtype=torch.short)"
   ]
  },
  {
   "cell_type": "markdown",
   "metadata": {},
   "source": [
    "### テンソルの操作（変形・変換等）\n",
    "\n",
    "PyTorchにはテンソルに対する[操作（変形・演算など）](https://torch7.readthedocs.io/en/rtd/maths/index.html)が多く用意されています。\n"
   ]
  },
  {
   "cell_type": "code",
   "execution_count": 6,
   "metadata": {},
   "outputs": [
    {
     "name": "stdout",
     "output_type": "stream",
     "text": [
      "tensor([[0.4287, 1.1264, 0.9214],\n",
      "        [1.0063, 0.6588, 0.4298],\n",
      "        [0.6668, 0.1611, 0.9795],\n",
      "        [1.2983, 0.9466, 1.3093],\n",
      "        [0.3700, 0.3505, 1.7113]])\n"
     ]
    }
   ],
   "source": [
    "x = torch.rand(5, 3)\n",
    "y = torch.rand(5, 3)\n",
    "print(x + y)"
   ]
  },
  {
   "cell_type": "code",
   "execution_count": 7,
   "metadata": {},
   "outputs": [
    {
     "name": "stdout",
     "output_type": "stream",
     "text": [
      "tensor([[0.4287, 1.1264, 0.9214],\n",
      "        [1.0063, 0.6588, 0.4298],\n",
      "        [0.6668, 0.1611, 0.9795],\n",
      "        [1.2983, 0.9466, 1.3093],\n",
      "        [0.3700, 0.3505, 1.7113]])\n"
     ]
    }
   ],
   "source": [
    "print(torch.add(x, y))"
   ]
  },
  {
   "cell_type": "markdown",
   "metadata": {},
   "source": [
    "### テンソルの一部指定や取り出し(Indexing)\n",
    "\n",
    "Pytorchテンソルは、Numpyや他のPythonの科学計算ライブラリーと同じく、テンソルの次元ごとのレンジインデックス記法で一部指定や取り出しを行えます。"
   ]
  },
  {
   "cell_type": "code",
   "execution_count": 8,
   "metadata": {},
   "outputs": [
    {
     "data": {
      "text/plain": [
       "tensor([[0.3986, 0.4524, 0.5641],\n",
       "        [0.1786, 0.2944, 0.7211]])"
      ]
     },
     "execution_count": 8,
     "metadata": {},
     "output_type": "execute_result"
    }
   ],
   "source": [
    "x[3:,:]"
   ]
  },
  {
   "cell_type": "code",
   "execution_count": 9,
   "metadata": {},
   "outputs": [
    {
     "data": {
      "text/plain": [
       "tensor([0.4111, 0.0006, 0.3986, 0.1786])"
      ]
     },
     "execution_count": 9,
     "metadata": {},
     "output_type": "execute_result"
    }
   ],
   "source": [
    "x[1:,0]"
   ]
  },
  {
   "cell_type": "markdown",
   "metadata": {},
   "source": [
    "### CUDA Tensors（CUDA テンソル）\n",
    "\n",
    "tensorは ```.to``` メソッドを使用することであらゆるデバイス上のメモリへと移動させることができます。"
   ]
  },
  {
   "cell_type": "code",
   "execution_count": 10,
   "metadata": {},
   "outputs": [],
   "source": [
    "if torch.cuda.is_available():\n",
    "    device = torch.device(\"cuda\")          # a CUDA device object\n",
    "    y = torch.ones_like(x, device=device)  # directly create a tensor on GPU\n",
    "    x = x.to(device)                       # or just use strings ``.to(\"cuda\")``\n",
    "    z = x + y\n",
    "    print(z)\n",
    "    print(z.to(\"cpu\", torch.double))       # ``.to`` can also change dtype together!"
   ]
  },
  {
   "cell_type": "markdown",
   "metadata": {},
   "source": [
    "## モデル構築"
   ]
  },
  {
   "cell_type": "markdown",
   "metadata": {},
   "source": [
    "[`torch.nn`](https://pytorch.org/docs/stable/nn.html)で用意されているクラス、関数は、独自のニューラルネットワークを構築するために必要な要素を網羅しています。\n",
    "\n",
    "PyTorchの全てのモジュールは、[`nn.Module`](https://pytorch.org/docs/stable/generated/torch.nn.Module.html)を継承しています。\n",
    "\n",
    "\n",
    "そしてニューラルネットワークは、モジュール自体が他のモジュール（レイヤー）から構成されています。\n",
    "\n",
    "この入れ子構造により、複雑なアーキテクチャを容易に構築・管理することができます。"
   ]
  },
  {
   "cell_type": "markdown",
   "metadata": {},
   "source": [
    "### クラスの定義\n",
    "\n",
    "``nn.Module``を継承し、独自のネットワークモデルを定義し、その後ネットワークのレイヤーを ``__init__``で初期化します。\n",
    "\n",
    "``nn.Module`` を継承した全モジュールは、入力データの順伝搬関数である``forward``関数を持ちます。\n"
   ]
  },
  {
   "cell_type": "code",
   "execution_count": 11,
   "metadata": {},
   "outputs": [],
   "source": [
    "from torch import nn"
   ]
  },
  {
   "cell_type": "code",
   "execution_count": 12,
   "metadata": {},
   "outputs": [],
   "source": [
    "class NeuralNetwork(nn.Module):\n",
    "    def __init__(self):\n",
    "        super(NeuralNetwork, self).__init__()\n",
    "        self.linear_relu_stack = nn.Sequential(\n",
    "            nn.Linear(512, 128),\n",
    "            nn.ReLU(),\n",
    "            nn.Linear(128, 128),\n",
    "            nn.ReLU(),\n",
    "            nn.Linear(128, 3),\n",
    "            nn.ReLU()\n",
    "        )\n",
    "\n",
    "    def forward(self, x):\n",
    "        logits = self.linear_relu_stack(x)\n",
    "        return logits"
   ]
  },
  {
   "cell_type": "markdown",
   "metadata": {},
   "source": [
    "このクラスは、PyTorchの```nn.Module```を継承した単純なニューラルネットワークの実装を示しています。入力は固定長の$512$とされており、出力は$3$の次元を持つベクトルです。\n",
    "\n",
    "```{margin}\n",
    "最大長512であるテキストに対して、センチメント(ポジティブ、中立、ネガティブ)を予測するタスクをイメージしてください。\n",
    "```\n",
    "\n",
    "- ```self.linear_relu_stack```: このシーケンシャルな層は、3つの線形層とそれぞれの後に続くReLU活性化関数から構成されています。\n",
    "    - [`linear layer`](https://pytorch.org/docs/stable/generated/torch.nn.Linear.html)は、線形変換を施します。`linear layer`は重みとバイアスのパラメータを保持しています。\n",
    "    - [`nn.ReLU`](https://pytorch.org/docs/stable/generated/torch.nn.ReLU.html)という活性化関数を設置することで、ニューラルネットワークの表現力を向上させます。\n",
    "- 順伝播メソッド (```forward```): 入力テンソル```x```を受け取り、ネットワークを通して出力を生成する機能を持ちます。"
   ]
  },
  {
   "cell_type": "markdown",
   "metadata": {},
   "source": [
    "``NeuralNetwork``クラスのインスタンスを作成し、変数``device``上に移動させます。\n",
    "\n",
    "以下でネットワークの構造を出力し確認します。"
   ]
  },
  {
   "cell_type": "code",
   "execution_count": 13,
   "metadata": {},
   "outputs": [
    {
     "name": "stdout",
     "output_type": "stream",
     "text": [
      "Using cpu device\n"
     ]
    }
   ],
   "source": [
    "device = 'cuda' if torch.cuda.is_available() else 'cpu'\n",
    "print('Using {} device'.format(device))"
   ]
  },
  {
   "cell_type": "code",
   "execution_count": 14,
   "metadata": {},
   "outputs": [
    {
     "name": "stdout",
     "output_type": "stream",
     "text": [
      "NeuralNetwork(\n",
      "  (linear_relu_stack): Sequential(\n",
      "    (0): Linear(in_features=512, out_features=128, bias=True)\n",
      "    (1): ReLU()\n",
      "    (2): Linear(in_features=128, out_features=128, bias=True)\n",
      "    (3): ReLU()\n",
      "    (4): Linear(in_features=128, out_features=3, bias=True)\n",
      "    (5): ReLU()\n",
      "  )\n",
      ")\n"
     ]
    }
   ],
   "source": [
    "model = NeuralNetwork().to(device)\n",
    "print(model)"
   ]
  },
  {
   "cell_type": "markdown",
   "metadata": {},
   "source": [
    "- ニューラルネットワークの最後のlinear layerは`logits`を出力します。この`logits`は[`nn.Softmax`](https://pytorch.org/docs/stable/generated/torch.nn.Softmax.html)モジュールへと渡されます。出力ベクトルの要素の値は$[0, 1]$の範囲となり、これは各クラスである確率を示します。"
   ]
  },
  {
   "cell_type": "code",
   "execution_count": 15,
   "metadata": {},
   "outputs": [
    {
     "name": "stdout",
     "output_type": "stream",
     "text": [
      "tensor([[0.0763, 0.1049, 0.0051],\n",
      "        [0.0913, 0.1695, 0.0000],\n",
      "        [0.0642, 0.1080, 0.0000]], grad_fn=<ReluBackward0>)\n"
     ]
    }
   ],
   "source": [
    "X = torch.rand(3, 512, device=device)\n",
    "logits = model(X) \n",
    "print(logits)"
   ]
  },
  {
   "cell_type": "code",
   "execution_count": 16,
   "metadata": {},
   "outputs": [
    {
     "name": "stdout",
     "output_type": "stream",
     "text": [
      "Predicted class: tensor([1, 1, 1])\n"
     ]
    }
   ],
   "source": [
    "pred_probab = nn.Softmax(dim=1)(logits)\n",
    "y_pred = pred_probab.argmax(1)\n",
    "print(f\"Predicted class: {y_pred}\")"
   ]
  },
  {
   "cell_type": "markdown",
   "metadata": {},
   "source": [
    "### クラスのレイヤー\n"
   ]
  },
  {
   "cell_type": "markdown",
   "metadata": {},
   "source": [
    "```{note}\n",
    "tensorboardでニューラルネットワークの構造を確認する\n",
    "\n",
    "\n",
    "``\n",
    "from torch.utils.tensorboard import SummaryWriter\n",
    "X = torch.rand(3, 28, 28)\n",
    "writer = SummaryWriter(\"torchlogs/\")\n",
    "writer.add_graph(model, X)\n",
    "writer.close()\n",
    "``\n",
    "\n",
    "```"
   ]
  },
  {
   "cell_type": "markdown",
   "metadata": {},
   "source": [
    "## 自動微分\n",
    "\n",
    "ニューラルネットワークを訓練する際、その学習アルゴリズムとして、**バックプロパゲーション（back propagation）** がよく使用されます。\n",
    "\n",
    "バックプロパゲーションでは、モデルの重みなどの各パラメータは、損失関数に対するその変数の微分値（勾配）に応じて調整されます。\n",
    "\n",
    "これらの勾配の値を計算するために、PyTorchには``torch.autograd`` という微分エンジンが組み込まれています。\n",
    "\n",
    "autogradはPyTorchの計算グラフに対する勾配の自動計算を支援します。\n",
    "\n",
    "シンプルな1レイヤーのネットワークを想定しましょう。\n",
    "\n",
    "入力を``x``、パラメータを``w`` と ``b``、そして適切な損失関数を決めます。\n",
    "\n",
    "<br>\n",
    "\n",
    "PyTorchでは例えば以下のように実装します。"
   ]
  },
  {
   "cell_type": "code",
   "execution_count": 17,
   "metadata": {},
   "outputs": [],
   "source": [
    "import torch\n",
    "\n",
    "x = torch.rand(5)  # input tensor\n",
    "y = torch.zeros(3)  # expected output\n",
    "w = torch.randn(5, 3, requires_grad=True)\n",
    "b = torch.randn(3, requires_grad=True)\n",
    "z = torch.matmul(x, w)+b\n",
    "loss = torch.nn.functional.binary_cross_entropy_with_logits(z, y)"
   ]
  },
  {
   "cell_type": "markdown",
   "metadata": {},
   "source": [
    "### 勾配情報の保存"
   ]
  },
  {
   "cell_type": "markdown",
   "metadata": {},
   "source": [
    "こののニューラルネットワークでは、``w``と``b``が最適したいパラメータです。\n",
    "\n",
    "そのため、これらの変数に対する損失関数の微分値を計算する必要があります。\n",
    "\n",
    "これらのパラメータで微分を可能にするために、``requires_grad``属性をこれらのテンソルに追記します。\n",
    "\n",
    "そうすると、勾配は、テンソルの ``grad_fn`` プロパティに格納されます。\n",
    "\n"
   ]
  },
  {
   "cell_type": "code",
   "execution_count": 18,
   "metadata": {},
   "outputs": [
    {
     "name": "stdout",
     "output_type": "stream",
     "text": [
      "Gradient function for z = <AddBackward0 object at 0x11d54fd30>\n",
      "Gradient function for loss = <BinaryCrossEntropyWithLogitsBackward0 object at 0x11d54e5c0>\n"
     ]
    }
   ],
   "source": [
    "print('Gradient function for z =',z.grad_fn)\n",
    "print('Gradient function for loss =', loss.grad_fn)"
   ]
  },
  {
   "cell_type": "markdown",
   "metadata": {},
   "source": [
    "### 勾配計算\n",
    "\n",
    "ニューラルネットワークの各パラメータを最適化するために、入力``x``と出力``y``が与えられたもとで、損失関数の各変数の偏微分値、\n",
    "\n",
    "すなわち\n",
    "\n",
    "$\\frac{\\partial loss}{\\partial w}$ 、$\\frac{\\partial loss}{\\partial b}$ \n",
    "\n",
    "を求める必要があります。\n",
    "\n",
    "\n",
    "これらの偏微分値を求めるために``loss.backward()``を実行し、``w.grad``と``b.grad``の値を導出します。\n",
    "\n",
    "逆伝搬では、``.backward()``がテンソルに対して実行されると、autogradは、\n",
    "- 各変数の ``.grad_fn``を計算する\n",
    "- 各変数の``.grad``属性に微分値を代入する\n",
    "- 微分の連鎖律を使用して、各leafのテンソルの微分値を求める\n",
    "\n",
    "を行います。"
   ]
  },
  {
   "cell_type": "code",
   "execution_count": 19,
   "metadata": {},
   "outputs": [
    {
     "name": "stdout",
     "output_type": "stream",
     "text": [
      "tensor([[0.0039, 0.0255, 0.0284],\n",
      "        [0.0230, 0.1505, 0.1673],\n",
      "        [0.0223, 0.1460, 0.1624],\n",
      "        [0.0053, 0.0348, 0.0387],\n",
      "        [0.0220, 0.1440, 0.1601]])\n",
      "tensor([0.0238, 0.1556, 0.1731])\n"
     ]
    }
   ],
   "source": [
    "loss.backward()\n",
    "print(w.grad)\n",
    "print(b.grad)"
   ]
  },
  {
   "cell_type": "markdown",
   "metadata": {},
   "source": [
    "最適化ループを構築し、Pytorchより自動的に逆伝播"
   ]
  },
  {
   "cell_type": "code",
   "execution_count": 20,
   "metadata": {},
   "outputs": [],
   "source": [
    "import torch.nn.functional as F\n",
    "\n",
    "def training_loop(n_epochs, learning_rate, model, input, target):\n",
    "    for epoch in range(1, n_epochs + 1):\n",
    "        # Forward pass\n",
    "        outputs = model(input)\n",
    "        \n",
    "        # Compute the loss using Binary Cross Entropy with Logits\n",
    "        loss = F.binary_cross_entropy_with_logits(outputs, target)\n",
    "        \n",
    "        # Backward pass\n",
    "        loss.backward()\n",
    "        \n",
    "        # Update the parameters\n",
    "        with torch.no_grad():\n",
    "            for param in model.parameters():\n",
    "                param -= learning_rate * param.grad\n",
    "        model.zero_grad()\n",
    "        # Zero the parameter gradients after updating \n",
    "        if epoch % 100 == 0:\n",
    "            print(f\"Epoch {epoch}, Loss: {loss.item()}\")\n",
    "\n",
    "    return model"
   ]
  },
  {
   "cell_type": "code",
   "execution_count": 21,
   "metadata": {},
   "outputs": [
    {
     "name": "stdout",
     "output_type": "stream",
     "text": [
      "Epoch 100, Loss: 0.6799312829971313\n"
     ]
    },
    {
     "name": "stdout",
     "output_type": "stream",
     "text": [
      "Epoch 200, Loss: 0.6727572083473206\n"
     ]
    },
    {
     "name": "stdout",
     "output_type": "stream",
     "text": [
      "Epoch 300, Loss: 0.6667918562889099\n",
      "Epoch 400, Loss: 0.6609330773353577\n"
     ]
    },
    {
     "name": "stdout",
     "output_type": "stream",
     "text": [
      "Epoch 500, Loss: 0.654596209526062\n"
     ]
    }
   ],
   "source": [
    "# Example usage (with dummy data)\n",
    "input = torch.rand(10, 512)  # 10 samples with 512 features each\n",
    "target = torch.rand(10, 3)  # 10 samples with 3 target values each\n",
    "\n",
    "n_epochs = 500\n",
    "learning_rate = 0.01\n",
    "model = NeuralNetwork()\n",
    "\n",
    "trained_model = training_loop(n_epochs, learning_rate, model, input, target)\n"
   ]
  },
  {
   "cell_type": "markdown",
   "metadata": {},
   "source": [
    "```{note}\n",
    "\n",
    "PyTorchの勾配計算メカニズムでは、``.backward``を呼び出すと、リーフノードで導関数の計算結果が累積されます。つまり、もし``.backward``が以前にも呼び出されていた場合、損失関数が再び計算され、``.backward``も再び呼び出され、各リーフの勾配が前の反復で計算された結果の上に累積されます。その結果、勾配の値は誤ったものになります。\n",
    "\n",
    "このようなことが起こらないようにするためには、反復のルーブのたびに``model.zero_grad()``を用いて明示的に勾配をゼロに設定する必要があります。\n",
    "\n",
    "\n",
    "```"
   ]
  },
  {
   "cell_type": "markdown",
   "metadata": {},
   "source": [
    "### 最適化関数\n",
    "\n",
    "最適化は各訓練ステップにおいてモデルの誤差を小さくなるように、モデルパラメータを調整するプロセスです。\n",
    "\n",
    "ここまでの説明は、単純な勾配下降法を最適化に使用しました。これは、シンプルなケースでは問題なく機能しますが、モデルが複雑になったときのために、パラメータ学習の収束を助ける最適化の工夫が必要されます。\n",
    "\n",
    "#### Optimizer\n",
    "\n",
    "```optim```というモジュールには、様々な最適化アルゴリズムが実装されています。\n",
    "\n",
    "ここでは、確率的勾配降下法（Stochastic Gradient Descent）を例として使い方を説明します。\n",
    "\n",
    "確率的勾配降下法は、ランダムに選んだ１つのデータのみで勾配を計算してパラメータを更新し、データの数だけ繰り返す方法です。"
   ]
  },
  {
   "cell_type": "markdown",
   "metadata": {},
   "source": [
    "訓練したいモデルパラメータをoptimizerに登録し、合わせて学習率をハイパーパラメータとして渡すことで初期化を行います。訓練ループ内で、最適化（optimization）は3つのステップから構成されます。\n",
    "\n",
    "[1] ``optimizer.zero_grad()``を実行し、モデルパラメータの勾配をリセットします。\n",
    "\n",
    "勾配の計算は蓄積されていくので、毎イテレーション、明示的にリセットします。\n",
    "\n",
    "<br>\n",
    "\n",
    "[2] 続いて、``loss.backwards()``を実行し、バックプロパゲーションを実行します。\n",
    "\n",
    "PyTorchは損失に対する各パラメータの偏微分の値（勾配）を求めます。\n",
    "\n",
    "<br>\n",
    "\n",
    "[3] 最後に、``optimizer.step()``を実行し、各パラメータの勾配を使用してパラメータの値を調整します。"
   ]
  },
  {
   "cell_type": "code",
   "execution_count": 22,
   "metadata": {},
   "outputs": [],
   "source": [
    "optimizer = torch.optim.SGD(model.parameters(), lr=learning_rate)"
   ]
  },
  {
   "cell_type": "code",
   "execution_count": 23,
   "metadata": {},
   "outputs": [],
   "source": [
    "def training_loop(n_epochs, learning_rate, model, input, target):\n",
    "    # Use Binary Cross Entropy with Logits as the loss function\n",
    "    \n",
    "    # Use Adam as the optimizer\n",
    "    optimizer = torch.optim.SGD(model.parameters(), lr=learning_rate)\n",
    "    \n",
    "    for epoch in range(1, n_epochs + 1):\n",
    "        # Zero the parameter gradients\n",
    "        optimizer.zero_grad()\n",
    "        \n",
    "        # Forward pass\n",
    "        outputs = model(input)\n",
    "        loss = F.binary_cross_entropy_with_logits(outputs, target)\n",
    "        \n",
    "        # Backward pass and optimize\n",
    "        loss.backward()\n",
    "        optimizer.step()\n",
    "\n",
    "        # Print loss every 100 epochs\n",
    "        if epoch % 100 == 0:\n",
    "            print(f\"Epoch {epoch}, Loss: {loss.item()}\")\n",
    "\n",
    "    return model"
   ]
  },
  {
   "cell_type": "code",
   "execution_count": 24,
   "metadata": {},
   "outputs": [
    {
     "name": "stdout",
     "output_type": "stream",
     "text": [
      "Epoch 100, Loss: 0.6928690075874329\n",
      "Epoch 200, Loss: 0.6926079988479614\n",
      "Epoch 300, Loss: 0.6923198103904724\n",
      "Epoch 400, Loss: 0.6921306848526001\n"
     ]
    },
    {
     "name": "stdout",
     "output_type": "stream",
     "text": [
      "Epoch 500, Loss: 0.691945493221283\n",
      "Epoch 600, Loss: 0.6917749643325806\n",
      "Epoch 700, Loss: 0.6916178464889526\n",
      "Epoch 800, Loss: 0.6914730072021484\n"
     ]
    },
    {
     "name": "stdout",
     "output_type": "stream",
     "text": [
      "Epoch 900, Loss: 0.6913373470306396\n",
      "Epoch 1000, Loss: 0.6912009119987488\n"
     ]
    }
   ],
   "source": [
    "# Example usage (with dummy data)\n",
    "input = torch.rand(10, 512)  # 10 samples with 512 features each\n",
    "target = torch.rand(10, 3)  # 10 samples with 3 target values each\n",
    "\n",
    "n_epochs = 1000\n",
    "learning_rate = 0.001\n",
    "model = NeuralNetwork()\n",
    "\n",
    "trained_model = training_loop(n_epochs, learning_rate, model, input, target)"
   ]
  },
  {
   "cell_type": "markdown",
   "metadata": {},
   "source": []
  }
 ],
 "metadata": {
  "kernelspec": {
   "display_name": "jupyterbook",
   "language": "python",
   "name": "python3"
  },
  "language_info": {
   "codemirror_mode": {
    "name": "ipython",
    "version": 3
   },
   "file_extension": ".py",
   "mimetype": "text/x-python",
   "name": "python",
   "nbconvert_exporter": "python",
   "pygments_lexer": "ipython3",
   "version": "3.10.9"
  }
 },
 "nbformat": 4,
 "nbformat_minor": 2
}