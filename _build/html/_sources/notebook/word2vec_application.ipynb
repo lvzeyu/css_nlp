{
 "cells": [
  {
   "cell_type": "markdown",
   "metadata": {},
   "source": [
    "# Word2Vecが人文・社会科学研究における応用 "
   ]
  },
  {
   "cell_type": "markdown",
   "metadata": {},
   "source": [
    "## The Geometry of Culture: Analyzing the Meanings of Class through Word Embeddings  {cite}`Kozlowski2019`"
   ]
  },
  {
   "cell_type": "markdown",
   "metadata": {},
   "source": [
    "### 問題関心\n",
    "\n",
    "- 「階層」という概念は多次元な側面より構成されています\n",
    "    - Affluence\n",
    "    - Occupation\n",
    "    - Symbolic Manifestations(social honor and prestige)\n",
    "    - Gender\n",
    "\n",
    "- 「階層」という概念は時間とともに変化しています"
   ]
  },
  {
   "cell_type": "markdown",
   "metadata": {},
   "source": [
    "### 方法\n",
    "\n",
    "![](./Figure/project.jpeg)\n",
    "\n",
    "#### Cultural Dimensionsの測定\n",
    "\n",
    "Cultural Dimensionsの測定は、単語分散表現を用いて類推問題を解決する能力を活用しています。\n",
    "\n",
    "文化的な概念を反映する単語のペア間のベクトル計算でCultural Dimensionsを測定することが可能です($A$)。\n",
    "\n",
    "- $\\vec{male}-\\vec{female}$は$Gender$という概念反映しています。同じロジックで、$\\vec{king}-\\vec{queen}$のような単語のペアも$Gender$という概念を反映できると考えられます。\n",
    "- $\\vec{rich}-\\vec{poor}$、$\\vec{affluence}-\\vec{poverty}$のような単語のペアは$Affluence$という概念を反映できると考えられます。"
   ]
  },
  {
   "cell_type": "code",
   "execution_count": 1,
   "metadata": {
    "tags": [
     "hide-output"
    ]
   },
   "outputs": [],
   "source": [
    "import gensim.downloader\n",
    "model = gensim.downloader.load('word2vec-google-news-300')"
   ]
  },
  {
   "cell_type": "code",
   "execution_count": 3,
   "metadata": {},
   "outputs": [],
   "source": [
    "rich_list=[\"rich\",\"richer\",\"affluence\",\"luxury\"]\n",
    "poor_list=[\"poor\",\"poorer\",\"poverty\",\"cheap\"]"
   ]
  },
  {
   "cell_type": "code",
   "execution_count": 4,
   "metadata": {},
   "outputs": [],
   "source": [
    "import numpy as np\n",
    "affluence_vec=[]\n",
    "for i,j in zip(rich_list,poor_list):\n",
    "    affluence_vec.append(model[i]-model[j])\n",
    "affluence_vec=np.array(affluence_vec)\n",
    "affluence_vec=np.mean(affluence_vec,axis=0)"
   ]
  },
  {
   "cell_type": "markdown",
   "metadata": {},
   "source": [
    "````{tab-set}\n",
    "```{tab-item} 質問1\n",
    "なぜ複数の単語ペアで計算する必要がありますか？\n",
    "```\n",
    "\n",
    "```{tab-item} 質問2\n",
    "単語ペアでベクトル減法を行なって、結果の平均を取る方法以外、Dimensionsを測定する方法がありますか？\n",
    "```\n",
    "````"
   ]
  },
  {
   "cell_type": "markdown",
   "metadata": {},
   "source": [
    "#### Cultural Dimensionsで概念の「理解」\n",
    "\n",
    "ある単語を「Cultural Dimensions」でどのように解釈されるかを、その単語のベクトルと文化的次元ベクトルとの間の角度を計算することで求めるのです。($B$)\n",
    "\n",
    "この角度が小さいほど、その単語はその文化的次元に強く関連していると言えます。この方法により、単語が持つ文化的な意味合いやニュアンスを数値的に分析することが可能になります。"
   ]
  },
  {
   "cell_type": "markdown",
   "metadata": {},
   "source": [
    "\n",
    "\n",
    "$$cos(\\theta))=\\frac{D \\cdot V}{|D||V|} $$\n",
    "$$\\theta = \\arccos(cos(\\theta))$$"
   ]
  },
  {
   "cell_type": "code",
   "execution_count": 5,
   "metadata": {},
   "outputs": [],
   "source": [
    "def get_consine(vector, dimension):\n",
    "    \"\"\"\n",
    "    Calculate the angle between the vector and the given dimension\n",
    "    \"\"\"\n",
    "    v_dot_d = np.dot(vector, dimension)\n",
    "    v_d = np.linalg.norm(vector) * np.linalg.norm(dimension)\n",
    "    return v_dot_d / v_d"
   ]
  },
  {
   "cell_type": "code",
   "execution_count": 6,
   "metadata": {},
   "outputs": [
    {
     "data": {
      "text/plain": [
       "0.10311404"
      ]
     },
     "execution_count": 6,
     "metadata": {},
     "output_type": "execute_result"
    }
   ],
   "source": [
    "get_consine(model[\"tennis\"],affluence_vec)"
   ]
  },
  {
   "cell_type": "code",
   "execution_count": 7,
   "metadata": {},
   "outputs": [
    {
     "data": {
      "text/plain": [
       "array([[0.10311404]], dtype=float32)"
      ]
     },
     "execution_count": 7,
     "metadata": {},
     "output_type": "execute_result"
    }
   ],
   "source": [
    "from sklearn.metrics.pairwise import cosine_similarity\n",
    "cosine_similarity(model[\"tennis\"].reshape(1,-1),affluence_vec.reshape(1,-1))"
   ]
  },
  {
   "cell_type": "code",
   "execution_count": 8,
   "metadata": {},
   "outputs": [],
   "source": [
    "def get_angle(vector, dimension,degree=False):\n",
    "    \"\"\"\n",
    "    Calculate the angle between the vector and the given dimension\n",
    "    \"\"\"\n",
    "    c = get_consine(vector, dimension)\n",
    "    if degree:\n",
    "        return np.degrees(np.arccos(np.clip(c, -1, 1)))\n",
    "    else:\n",
    "        return np.arccos(np.clip(c, -1, 1)) #return radian"
   ]
  },
  {
   "cell_type": "code",
   "execution_count": 9,
   "metadata": {},
   "outputs": [],
   "source": [
    "sports=[\"tennis\",\"soccer\",\"basketball\",\"boxing\",\"golf\",\"swimming\",\"volleyball\",\"camping\",\"weightlifting\",\"hiking\",\"hockey\"]"
   ]
  },
  {
   "cell_type": "code",
   "execution_count": 10,
   "metadata": {},
   "outputs": [
    {
     "name": "stdout",
     "output_type": "stream",
     "text": [
      "tennis 84.08148088988168\n",
      "soccer 86.44827814928067\n",
      "basketball 87.4947624687713\n",
      "boxing 96.19771983578752\n",
      "golf 81.23038078574373\n",
      "swimming 87.66950350249786\n",
      "volleyball 84.87990835557244\n",
      "camping 92.64046862065912\n",
      "weightlifting 92.84652198285549\n",
      "hiking 89.06679342925825\n",
      "hockey 88.2316913132707\n"
     ]
    }
   ],
   "source": [
    "for sport in sports:\n",
    "    print(sport,get_angle(model[sport],affluence_vec,degree=True))"
   ]
  },
  {
   "cell_type": "markdown",
   "metadata": {},
   "source": [
    "````{tab-set}\n",
    "```{tab-item} 質問3\n",
    "この結果をどのように解釈すべきですか？\n",
    "```\n",
    "```{tab-item} 課題\n",
    "- 性別に関するDimensionを作成しなさい\n",
    "- 性別Dimensionで運動の位置付けを確認し、その結果を解釈しなさい\n",
    "```\n",
    "````"
   ]
  },
  {
   "cell_type": "code",
   "execution_count": 11,
   "metadata": {},
   "outputs": [],
   "source": [
    "male_list=[\"man\",\"men\",\"his\",\"his\",\"he\",\"male\",\"masculine\"]\n",
    "female_list=[\"woman\",\"women\",\"her\",\"hers\",\"she\",\"female\",\"feminine\"]"
   ]
  },
  {
   "cell_type": "code",
   "execution_count": 12,
   "metadata": {},
   "outputs": [],
   "source": [
    "import numpy as np\n",
    "male_vec=[]\n",
    "for i,j in zip(male_list,female_list):\n",
    "    male_vec.append(model[i]-model[j])\n",
    "male_vec=np.array(male_vec)\n",
    "male_vec=np.mean(male_vec,axis=0)"
   ]
  },
  {
   "cell_type": "code",
   "execution_count": 13,
   "metadata": {},
   "outputs": [
    {
     "name": "stdout",
     "output_type": "stream",
     "text": [
      "tennis 97.40878931781465\n",
      "soccer 91.80367294960222\n",
      "basketball 92.62550110826957\n",
      "boxing 88.10336004089726\n",
      "golf 89.92069959744806\n",
      "swimming 95.5663930896144\n",
      "volleyball 102.37309292835671\n",
      "camping 90.67382084420579\n",
      "weightlifting 90.39126375746197\n",
      "hiking 93.58319273998538\n",
      "hockey 89.98937662535967\n"
     ]
    }
   ],
   "source": [
    "for sport in sports:\n",
    "    print(sport,get_angle(model[sport],male_vec,degree=True))"
   ]
  },
  {
   "cell_type": "markdown",
   "metadata": {},
   "source": [
    "#### Class意味の推移\n",
    "\n",
    "階層という概念は多次元な側面より構成されて、さらにその構成は時間とともに変化している。\n",
    "\n",
    "- Cultural Dimensionsを構築することで、「階層」の各構成の「意味」を定量的に測定する\n",
    "- 「Affluence」が他の要素とどのように関係していることは、階層の意味構成を説明している"
   ]
  },
  {
   "cell_type": "code",
   "execution_count": 14,
   "metadata": {},
   "outputs": [],
   "source": [
    "def create_vector(word_pair):\n",
    "    vec=[]\n",
    "    for i in word_pair:\n",
    "        vec.append(model[i[0]]-model[i[1]])\n",
    "    vec=np.array(vec)\n",
    "    vec=np.mean(vec,axis=0)\n",
    "    return vec"
   ]
  },
  {
   "cell_type": "code",
   "execution_count": 15,
   "metadata": {},
   "outputs": [],
   "source": [
    "education_pair=[(\"educated\",\"uneducated\"),(\"learned\",\"unlearned\"),(\"taught\",\"untaught\"),\n",
    "                (\"schooled\",\"unschooled\"),(\"trained\",\"untrained\"),(\"lettered\",\"unlettered\"),\n",
    "                (\"tutored\",\"untutored\"),(\"literate\",\"illiterate\")]"
   ]
  },
  {
   "cell_type": "code",
   "execution_count": 16,
   "metadata": {},
   "outputs": [],
   "source": [
    "education_vec=create_vector(education_pair)"
   ]
  },
  {
   "cell_type": "code",
   "execution_count": 17,
   "metadata": {},
   "outputs": [],
   "source": [
    "gender_pair=[(\"man\",\"woman\"),(\"men\",\"women\"),(\"he\",\"she\"),(\"him\",\"her\"),\n",
    "             (\"his\",\"her\"),(\"boy\",\"girl\"),(\"male\",\"female\"),(\"masculine\",\"feminine\")]"
   ]
  },
  {
   "cell_type": "code",
   "execution_count": 18,
   "metadata": {},
   "outputs": [],
   "source": [
    "gender_vec=create_vector(gender_pair)"
   ]
  },
  {
   "cell_type": "code",
   "execution_count": 19,
   "metadata": {},
   "outputs": [
    {
     "data": {
      "text/plain": [
       "array([[-0.04156308]], dtype=float32)"
      ]
     },
     "execution_count": 19,
     "metadata": {},
     "output_type": "execute_result"
    }
   ],
   "source": [
    "cosine_similarity(gender_vec.reshape(1,-1),affluence_vec.reshape(1,-1))"
   ]
  },
  {
   "cell_type": "code",
   "execution_count": 20,
   "metadata": {},
   "outputs": [
    {
     "data": {
      "text/plain": [
       "array([[0.20604998]], dtype=float32)"
      ]
     },
     "execution_count": 20,
     "metadata": {},
     "output_type": "execute_result"
    }
   ],
   "source": [
    "cosine_similarity(education_vec.reshape(1,-1),affluence_vec.reshape(1,-1))"
   ]
  },
  {
   "cell_type": "markdown",
   "metadata": {},
   "source": [
    "````{tab-set}\n",
    "```{tab-item} 質問4\n",
    "この結果をどのように解釈すべきですか？\n",
    "```\n",
    "````"
   ]
  },
  {
   "cell_type": "markdown",
   "metadata": {},
   "source": [
    "- 言語モデルは学習コーパスに含まれている「バイアス」をそのまま反映しています。例えば、言語モデルでは、エンジニア、トラック運転手は男性、モデル、看護師は女性というような、職業と性別の関係についての典型的なステレオタイプを学習していることがわかります。\n",
    "\n",
    "- 同様に、異なる時期のコーパスには、特定な時期の考え方や認識に関する情報が含められますので、そのコーパスで学習した言語モデルも特定な時期の考え方や認識を反映できると考えられます。\n",
    "\n",
    "![](./Figure/sim_dynamics.jpeg)\n",
    "![](./Figure/OLS_dynamic.jpeg)\n",
    "\n"
   ]
  },
  {
   "cell_type": "markdown",
   "metadata": {},
   "source": [
    "````{tab-set}\n",
    "```{tab-item} 質問4\n",
    "この図の結果をどのように解釈すべきですか？\n",
    "```\n",
    "````"
   ]
  },
  {
   "cell_type": "markdown",
   "metadata": {},
   "source": [
    "## Word2Vecを応用する研究\n",
    "\n",
    "### Semantic projection recovers rich human knowledge of multiple object features from word embeddings {cite}`Grand2022`\n",
    "\n",
    "- 単語分散表現は表出する意味的特徴が人間の評価を近似することができることを体系的に説明しました。\n",
    "\n",
    "![](./Figure/projection_example.jpeg)\n",
    "\n",
    "![](./Figure/projection_example2.jpeg)\n"
   ]
  },
  {
   "cell_type": "markdown",
   "metadata": {},
   "source": [
    "### Word embeddings quantify 100 years of gender and ethnic stereotypes {cite}`Garg2018`\n",
    "\n",
    "- 単語分散表現が、性別ステレオタイプと民族マイノリティに対する態度の変化を定量化するのにどのように役立つかを示しています。\n",
    "- 性別と民族に関する単語で、形容詞や職業などの中立的な単語(neutral words )と比較する手法\n",
    "\n",
    "    - 性別(男性、女性)と職業に関連する単語リストをまとめます\n",
    "    - 女性を代表する単語（例：she, female）と職業の単語（例：teacher, lawyer）との間の平均埋め込み距離を計算します\n",
    "    - 男性を代表する単語と同じ職業の単語との平均埋め込み距離も計算します\n",
    "    - 女性の平均距離から男性の平均距離を引く結果は「性別バイアス」と考えます。$\\to$ 値がマイナスの場合、該当する職業は男性とより密接に関連付けていることを意味しています\n",
    "\n",
    "$$\n",
    "\\text{relative norm distance} = \\sum_{v_m \\in M} \\left( \\|v_m - v_1\\|_2 - \\|v_m - v_2\\|_2 \\right).\n",
    "$$"
   ]
  },
  {
   "cell_type": "markdown",
   "metadata": {},
   "source": [
    "![](./Figure/gender_bias.jpeg)"
   ]
  },
  {
   "cell_type": "markdown",
   "metadata": {},
   "source": [
    "````{tab-set}\n",
    "```{tab-item} 課題\n",
    "- 「engineer」、「nurse」、「housekeeper」の$Gender Bias$を計算しなさい\n",
    "- Norm distanceはNumpyを使って実装できます\n",
    "```\n",
    "```{tab-item} 質問5\n",
    "$Ethnic Bias$はどのように計算すべきのかを考えなさい。Ethnicのグループでは$2$以上であることを注意してください。\n",
    "```\n",
    "````"
   ]
  },
  {
   "cell_type": "markdown",
   "metadata": {},
   "source": [
    "同じ手法を使用した研究 {cite}`Jones2020`"
   ]
  },
  {
   "cell_type": "markdown",
   "metadata": {},
   "source": [
    "## 参考文献\n",
    "\n",
    "```{bibliography}\n",
    "```"
   ]
  }
 ],
 "metadata": {
  "kernelspec": {
   "display_name": "jupyterbook",
   "language": "python",
   "name": "python3"
  },
  "language_info": {
   "codemirror_mode": {
    "name": "ipython",
    "version": 3
   },
   "file_extension": ".py",
   "mimetype": "text/x-python",
   "name": "python",
   "nbconvert_exporter": "python",
   "pygments_lexer": "ipython3",
   "version": "3.10.9"
  }
 },
 "nbformat": 4,
 "nbformat_minor": 2
}
