{
 "cells": [
  {
   "cell_type": "code",
   "execution_count": 8,
   "metadata": {},
   "outputs": [],
   "source": [
    "from gensim.models import Word2Vec\n",
    "import MeCab\n",
    "def tokenize(text):\n",
    "    \"\"\" テキストを形態素解析して、トークンのリストを返す \"\"\"\n",
    "    mecab = MeCab.Tagger(\"-Owakati\")\n",
    "    return mecab.parse(text).strip().split()\n",
    "with open('./Data/dokujo-tsushin.txt', 'r', encoding='utf-8') as file:\n",
    "    corpus = [line.strip() for line in file if line.strip()]  # 空白行をスキップ\n"
   ]
  },
  {
   "cell_type": "code",
   "execution_count": 10,
   "metadata": {},
   "outputs": [],
   "source": [
    "tokenized_documents = [tokenize(doc) for doc in corpus]"
   ]
  },
  {
   "cell_type": "code",
   "execution_count": 12,
   "metadata": {},
   "outputs": [],
   "source": [
    "model_jp = Word2Vec(sentences=tokenized_documents, vector_size=100, window=5, min_count=1, workers=4)"
   ]
  },
  {
   "cell_type": "code",
   "execution_count": 14,
   "metadata": {},
   "outputs": [
    {
     "data": {
      "text/plain": [
       "array([-0.4123209 ,  0.55828583,  0.15993343, -0.33039883, -0.10033111,\n",
       "       -1.093515  ,  0.32533425,  0.8549594 , -0.7223899 , -0.528165  ,\n",
       "       -0.64176565, -0.5838085 ,  0.55550796,  0.13387133, -0.32790843,\n",
       "       -0.9167322 ,  0.23246412, -1.0256983 , -1.1781516 , -0.3665961 ,\n",
       "       -0.08638341,  0.3929385 , -0.05359071, -0.41832042,  0.7190247 ,\n",
       "       -0.07000482,  0.41131148, -0.12937541, -0.7119168 , -0.07596931,\n",
       "       -0.37757674, -0.09149896,  0.68786234, -0.58384156, -0.68312204,\n",
       "        0.33096346,  0.22713119, -0.7432019 ,  0.06821846, -0.51077867,\n",
       "       -0.21847431, -0.4603345 ,  0.12346501, -0.5041283 ,  0.6162513 ,\n",
       "        0.23929003, -0.55735505, -0.01441303,  0.5277629 , -0.02835805,\n",
       "       -0.03092367, -0.01384843, -0.4187761 ,  0.40490156, -0.80793923,\n",
       "        0.45574433,  0.5846862 ,  0.344196  ,  0.44368654, -0.05931788,\n",
       "        0.6585717 ,  0.37178415, -0.19977711,  0.18319508, -0.05026088,\n",
       "        1.0419227 , -0.35501447, -0.1297323 , -0.6497035 ,  0.46285352,\n",
       "        0.13594487,  1.3947675 ,  0.66984814, -0.21644042,  0.16164692,\n",
       "        0.3371416 ,  0.26573065, -0.33172762, -0.2398291 ,  0.37745234,\n",
       "       -0.02497459,  0.07882596, -1.0679181 ,  0.4508919 ,  0.06962495,\n",
       "       -0.4629082 , -0.20722543,  0.38931528,  0.15380783,  0.23130481,\n",
       "        0.8289637 ,  0.68688864, -0.00851354,  0.26836628,  1.2644303 ,\n",
       "        0.50439805,  0.04096635, -0.48903185, -0.40468886, -0.54583406],\n",
       "      dtype=float32)"
      ]
     },
     "execution_count": 14,
     "metadata": {},
     "output_type": "execute_result"
    }
   ],
   "source": [
    "model_jp.wv['日本']"
   ]
  },
  {
   "cell_type": "code",
   "execution_count": 16,
   "metadata": {},
   "outputs": [
    {
     "data": {
      "text/plain": [
       "[('女', 0.9335235953330994),\n",
       " ('友達', 0.8225789666175842),\n",
       " ('モテ', 0.7815700173377991),\n",
       " ('男性', 0.768693745136261),\n",
       " ('恋人', 0.7675696015357971),\n",
       " ('浮気', 0.748518705368042),\n",
       " ('彼女', 0.7295669913291931),\n",
       " ('理想', 0.724653422832489),\n",
       " ('すさん', 0.7177618741989136),\n",
       " ('あなた', 0.7163294553756714)]"
      ]
     },
     "execution_count": 16,
     "metadata": {},
     "output_type": "execute_result"
    }
   ],
   "source": [
    "model_jp.wv.most_similar(\"男\")"
   ]
  },
  {
   "cell_type": "code",
   "execution_count": 18,
   "metadata": {},
   "outputs": [
    {
     "name": "stdout",
     "output_type": "stream",
     "text": [
      "['fasttext-wiki-news-subwords-300', 'conceptnet-numberbatch-17-06-300', 'word2vec-ruscorpora-300', 'word2vec-google-news-300', 'glove-wiki-gigaword-50', 'glove-wiki-gigaword-100', 'glove-wiki-gigaword-200', 'glove-wiki-gigaword-300', 'glove-twitter-25', 'glove-twitter-50', 'glove-twitter-100', 'glove-twitter-200', '__testing_word2vec-matrix-synopsis']\n"
     ]
    }
   ],
   "source": [
    "import gensim.downloader\n",
    "\n",
    "print(list(gensim.downloader.info()['models'].keys()))\n",
    "model = gensim.downloader.load('word2vec-google-news-300')"
   ]
  },
  {
   "cell_type": "code",
   "execution_count": 20,
   "metadata": {},
   "outputs": [
    {
     "name": "stdout",
     "output_type": "stream",
     "text": [
      "king: 0.8449\n",
      "queen: 0.7301\n",
      "monarch: 0.6455\n",
      "princess: 0.6156\n",
      "crown_prince: 0.5819\n",
      "prince: 0.5777\n",
      "kings: 0.5614\n",
      "sultan: 0.5377\n",
      "Queen_Consort: 0.5344\n",
      "queens: 0.5290\n"
     ]
    }
   ],
   "source": [
    "# ベクトル演算を行う\n",
    "result_vector = model['king'] - model['man'] + model['woman']\n",
    "\n",
    "# 類似度の高い10語を取得\n",
    "similar_words = model.most_similar(positive=[result_vector], topn=10)\n",
    "\n",
    "# 結果を出力\n",
    "for word, similarity in similar_words:\n",
    "    print(f\"{word}: {similarity:.4f}\")"
   ]
  },
  {
   "cell_type": "code",
   "execution_count": 19,
   "metadata": {},
   "outputs": [
    {
     "ename": "AttributeError",
     "evalue": "'KeyedVectors' object has no attribute 'wv'",
     "output_type": "error",
     "traceback": [
      "\u001b[0;31m---------------------------------------------------------------------------\u001b[0m",
      "\u001b[0;31mAttributeError\u001b[0m                            Traceback (most recent call last)",
      "Cell \u001b[0;32mIn[19], line 2\u001b[0m\n\u001b[1;32m      1\u001b[0m \u001b[38;5;66;03m# ベクトル演算を行う\u001b[39;00m\n\u001b[0;32m----> 2\u001b[0m result_vector \u001b[38;5;241m=\u001b[39m \u001b[43mmodel\u001b[49m\u001b[38;5;241;43m.\u001b[39;49m\u001b[43mwv\u001b[49m[\u001b[38;5;124m'\u001b[39m\u001b[38;5;124mking\u001b[39m\u001b[38;5;124m'\u001b[39m] \u001b[38;5;241m-\u001b[39m model\u001b[38;5;241m.\u001b[39mwv[\u001b[38;5;124m'\u001b[39m\u001b[38;5;124mman\u001b[39m\u001b[38;5;124m'\u001b[39m] \u001b[38;5;241m+\u001b[39m model\u001b[38;5;241m.\u001b[39mwv[\u001b[38;5;124m'\u001b[39m\u001b[38;5;124mwoman\u001b[39m\u001b[38;5;124m'\u001b[39m]\n\u001b[1;32m      4\u001b[0m \u001b[38;5;66;03m# 類似度の高い10語を取得\u001b[39;00m\n\u001b[1;32m      5\u001b[0m similar_words \u001b[38;5;241m=\u001b[39m model\u001b[38;5;241m.\u001b[39mwv\u001b[38;5;241m.\u001b[39mmost_similar(positive\u001b[38;5;241m=\u001b[39m[result_vector], topn\u001b[38;5;241m=\u001b[39m\u001b[38;5;241m10\u001b[39m)\n",
      "\u001b[0;31mAttributeError\u001b[0m: 'KeyedVectors' object has no attribute 'wv'"
     ]
    }
   ],
   "source": [
    "\n",
    "# ベクトル演算を行う\n",
    "result_vector = model.wv['king'] - model.wv['man'] + model.wv['woman']\n",
    "\n",
    "# 類似度の高い10語を取得\n",
    "similar_words = model.wv.most_similar(positive=[result_vector], topn=10)\n",
    "\n",
    "# 結果を出力\n",
    "for word, similarity in similar_words:\n",
    "    print(f\"{word}: {similarity:.4f}\")"
   ]
  },
  {
   "cell_type": "code",
   "execution_count": null,
   "metadata": {},
   "outputs": [],
   "source": []
  },
  {
   "cell_type": "code",
   "execution_count": null,
   "metadata": {},
   "outputs": [],
   "source": []
  },
  {
   "cell_type": "code",
   "execution_count": null,
   "metadata": {},
   "outputs": [],
   "source": [
    "male_list=[\"man\",\"men\",\"his\",\"his\",\"he\",\"male\",\"masculine\"]\n",
    "female_list=[\"woman\",\"women\",\"her\",\"hers\",\"she\",\"female\",\"feminine\"]"
   ]
  },
  {
   "cell_type": "code",
   "execution_count": null,
   "metadata": {},
   "outputs": [],
   "source": [
    "import numpy as np\n",
    "male_vec=[]\n",
    "for i,j in zip(male_list,female_list):\n",
    "    male_vec.append(model[i]-model[j])\n",
    "male_vec=np.array(male_vec)\n",
    "male_vec=np.mean(male_vec,axis=0)"
   ]
  },
  {
   "cell_type": "code",
   "execution_count": null,
   "metadata": {},
   "outputs": [],
   "source": [
    "for sport in sports:\n",
    "    print(sport,get_angle(model[sport],male_vec,degree=True))"
   ]
  },
  {
   "cell_type": "code",
   "execution_count": null,
   "metadata": {},
   "outputs": [],
   "source": []
  },
  {
   "cell_type": "code",
   "execution_count": 25,
   "metadata": {},
   "outputs": [],
   "source": [
    "import numpy as np\n",
    "from gensim.downloader import load\n",
    "from numpy.linalg import norm\n",
    "\n",
    "# モデルの読み込み\n",
    "model = load(\"word2vec-google-news-300\")\n",
    "\n",
    "# 性別を代表する単語リスト\n",
    "female_words = [\"she\", \"female\", \"woman\", \"girl\"]\n",
    "male_words = [\"he\", \"male\", \"man\", \"boy\"]\n",
    "\n",
    "# 職業単語リスト\n",
    "occupation_words = [\"engineer\", \"nurse\", \"housekeeper\"]\n",
    "\n",
    "# 性別バイアスを計算する関数\n",
    "def calculate_gender_bias(occupation, female_words, male_words, model):\n",
    "    # 距離の計算 (女性)\n",
    "    female_distances = [norm(model[occupation] - model[female]) for female in female_words]\n",
    "    female_mean = np.mean(female_distances)\n",
    "\n",
    "    # 距離の計算 (男性)\n",
    "    male_distances = [norm(model[occupation] - model[male]) for male in male_words]\n",
    "    male_mean = np.mean(male_distances)\n",
    "\n",
    "    # 性別バイアス\n",
    "    gender_bias = female_mean - male_mean\n",
    "    return gender_bias\n",
    "\n",
    "# 各職業の性別バイアスを計算\n",
    "bias_results = {}\n",
    "for occupation in occupation_words:\n",
    "    bias = calculate_gender_bias(occupation, female_words, male_words, model)\n",
    "    bias_results[occupation] = bias\n",
    "\n"
   ]
  },
  {
   "cell_type": "code",
   "execution_count": 24,
   "metadata": {},
   "outputs": [
    {
     "name": "stdout",
     "output_type": "stream",
     "text": [
      "Gender Bias for engineer: 0.2160 (closer to men)\n",
      "Gender Bias for nurse: -0.2625 (closer to women)\n",
      "Gender Bias for housekeeper: -0.1960 (closer to women)\n"
     ]
    }
   ],
   "source": [
    "# 結果を表示\n",
    "for occupation, bias in bias_results.items():\n",
    "    relation = \"closer to women\" if bias < 0 else \"closer to men\"\n",
    "    print(f\"Gender Bias for {occupation}: {bias:.4f} ({relation})\")"
   ]
  },
  {
   "cell_type": "code",
   "execution_count": null,
   "metadata": {},
   "outputs": [],
   "source": []
  }
 ],
 "metadata": {
  "kernelspec": {
   "display_name": "jupyterbook",
   "language": "python",
   "name": "python3"
  },
  "language_info": {
   "codemirror_mode": {
    "name": "ipython",
    "version": 3
   },
   "file_extension": ".py",
   "mimetype": "text/x-python",
   "name": "python",
   "nbconvert_exporter": "python",
   "pygments_lexer": "ipython3",
   "version": "3.12.1"
  }
 },
 "nbformat": 4,
 "nbformat_minor": 2
}
