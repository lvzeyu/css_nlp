{
 "cells": [
  {
   "cell_type": "code",
   "execution_count": null,
   "metadata": {},
   "outputs": [],
   "source": [
    "male_list=[\"man\",\"men\",\"his\",\"his\",\"he\",\"male\",\"masculine\"]\n",
    "female_list=[\"woman\",\"women\",\"her\",\"hers\",\"she\",\"female\",\"feminine\"]"
   ]
  },
  {
   "cell_type": "code",
   "execution_count": null,
   "metadata": {},
   "outputs": [],
   "source": [
    "import numpy as np\n",
    "male_vec=[]\n",
    "for i,j in zip(male_list,female_list):\n",
    "    male_vec.append(model[i]-model[j])\n",
    "male_vec=np.array(male_vec)\n",
    "male_vec=np.mean(male_vec,axis=0)"
   ]
  },
  {
   "cell_type": "code",
   "execution_count": null,
   "metadata": {},
   "outputs": [],
   "source": [
    "for sport in sports:\n",
    "    print(sport,get_angle(model[sport],male_vec,degree=True))"
   ]
  },
  {
   "cell_type": "code",
   "execution_count": null,
   "metadata": {},
   "outputs": [],
   "source": []
  },
  {
   "cell_type": "code",
   "execution_count": null,
   "metadata": {},
   "outputs": [],
   "source": [
    "employment_pair=[(\"employer\",\"employee\"),(\"employers\",\"employees\"),(\"owner\",\"worker\"),\n",
    "                    (\"owners\",\"workers\"),(\"manager\",\"worker\"),(\"managers\",\"staff\"),\n",
    "                    (\"boss\",\"worker\"),(\"bosses\",\"workers\"),(\"supervisor\",\"staff\"),\n",
    "                    (\"supervisors\",\"staff\")]"
   ]
  },
  {
   "cell_type": "code",
   "execution_count": null,
   "metadata": {},
   "outputs": [],
   "source": [
    "employment_vec=create_vector(employment_pair)"
   ]
  },
  {
   "cell_type": "code",
   "execution_count": null,
   "metadata": {},
   "outputs": [],
   "source": [
    "cosine_similarity(employment_vec.reshape(1,-1),affluence_vec.reshape(1,-1))"
   ]
  },
  {
   "cell_type": "code",
   "execution_count": null,
   "metadata": {},
   "outputs": [],
   "source": [
    "ocuupation=[\"engineer\",\"nurse\"]\n",
    "male_word =[i[0] for i in gender_pair]\n",
    "female_word =[i[1] for i in gender_pair]\n",
    "np.linalg.norm(model[\"engineer\"] - model[\"male\"]) - np.linalg.norm(model[\"engineer\"] - model[\"female\"])\n",
    "np.linalg.norm(model[\"nurse\"] - model[\"male\"]) - np.linalg.norm(model[\"nurse\"] - model[\"female\"])"
   ]
  },
  {
   "cell_type": "code",
   "execution_count": null,
   "metadata": {},
   "outputs": [],
   "source": [
    "import torch\n",
    "import torch.nn.functional as F\n",
    "\n",
    "batch_size = 1\n",
    "sequence_length = 3\n",
    "embedding_dim = 4\n",
    "seed=1234\n",
    "\n",
    "Q = torch.rand(sequence_length, embedding_dim)\n",
    "K = torch.rand(sequence_length, embedding_dim)\n",
    "V = torch.rand(sequence_length, embedding_dim)\n",
    "\n",
    "attn_output = F.scaled_dot_product_attention(Q, K, V)"
   ]
  },
  {
   "cell_type": "code",
   "execution_count": null,
   "metadata": {},
   "outputs": [],
   "source": [
    "import torch\n",
    "import torch.nn.functional as F\n",
    "\n",
    "sequence_length = 3\n",
    "embedding_dim = 4\n",
    "\n",
    "Q = torch.rand(sequence_length, embedding_dim)\n",
    "K = torch.rand(sequence_length, embedding_dim)\n",
    "V = torch.rand(sequence_length, embedding_dim)\n",
    "\n",
    "# Step 1: Compute dot product of Q and K\n",
    "dot_product = torch.matmul(Q, K.t())\n",
    "\n",
    "# Step 2: Scale the dot product\n",
    "scale_factor = torch.sqrt(torch.tensor(embedding_dim).float())\n",
    "scaled_dot_product = dot_product / scale_factor\n",
    "\n",
    "# Step 3: Apply softmax to get attention weights\n",
    "attention_weights = F.softmax(scaled_dot_product, dim=-1)\n",
    "\n",
    "# Step 4: Apply the attention weights to V\n",
    "attn_output = torch.matmul(attention_weights, V)"
   ]
  }
 ],
 "metadata": {
  "kernelspec": {
   "display_name": "jupyterbook",
   "language": "python",
   "name": "python3"
  },
  "language_info": {
   "name": "python",
   "version": "3.10.9"
  }
 },
 "nbformat": 4,
 "nbformat_minor": 2
}
