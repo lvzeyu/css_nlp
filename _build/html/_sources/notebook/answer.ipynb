{
 "cells": [
  {
   "cell_type": "code",
   "execution_count": null,
   "metadata": {},
   "outputs": [],
   "source": [
    "male_list=[\"man\",\"men\",\"his\",\"his\",\"he\",\"male\",\"masculine\"]\n",
    "female_list=[\"woman\",\"women\",\"her\",\"hers\",\"she\",\"female\",\"feminine\"]"
   ]
  },
  {
   "cell_type": "code",
   "execution_count": null,
   "metadata": {},
   "outputs": [],
   "source": [
    "import numpy as np\n",
    "male_vec=[]\n",
    "for i,j in zip(male_list,female_list):\n",
    "    male_vec.append(model[i]-model[j])\n",
    "male_vec=np.array(male_vec)\n",
    "male_vec=np.mean(male_vec,axis=0)"
   ]
  },
  {
   "cell_type": "code",
   "execution_count": null,
   "metadata": {},
   "outputs": [],
   "source": [
    "for sport in sports:\n",
    "    print(sport,get_angle(model[sport],male_vec,degree=True))"
   ]
  },
  {
   "cell_type": "code",
   "execution_count": null,
   "metadata": {},
   "outputs": [],
   "source": []
  },
  {
   "cell_type": "code",
   "execution_count": null,
   "metadata": {},
   "outputs": [],
   "source": [
    "employment_pair=[(\"employer\",\"employee\"),(\"employers\",\"employees\"),(\"owner\",\"worker\"),\n",
    "                    (\"owners\",\"workers\"),(\"manager\",\"worker\"),(\"managers\",\"staff\"),\n",
    "                    (\"boss\",\"worker\"),(\"bosses\",\"workers\"),(\"supervisor\",\"staff\"),\n",
    "                    (\"supervisors\",\"staff\")]"
   ]
  },
  {
   "cell_type": "code",
   "execution_count": null,
   "metadata": {},
   "outputs": [],
   "source": [
    "employment_vec=create_vector(employment_pair)"
   ]
  },
  {
   "cell_type": "code",
   "execution_count": null,
   "metadata": {},
   "outputs": [],
   "source": [
    "cosine_similarity(employment_vec.reshape(1,-1),affluence_vec.reshape(1,-1))"
   ]
  },
  {
   "cell_type": "code",
   "execution_count": null,
   "metadata": {},
   "outputs": [],
   "source": [
    "ocuupation=[\"engineer\",\"nurse\"]\n",
    "male_word =[i[0] for i in gender_pair]\n",
    "female_word =[i[1] for i in gender_pair]\n",
    "np.linalg.norm(model[\"engineer\"] - model[\"male\"]) - np.linalg.norm(model[\"engineer\"] - model[\"female\"])\n",
    "np.linalg.norm(model[\"nurse\"] - model[\"male\"]) - np.linalg.norm(model[\"nurse\"] - model[\"female\"])"
   ]
  }
 ],
 "metadata": {
  "kernelspec": {
   "display_name": "jupyterbook",
   "language": "python",
   "name": "python3"
  },
  "language_info": {
   "name": "python",
   "version": "3.10.9"
  }
 },
 "nbformat": 4,
 "nbformat_minor": 2
}
